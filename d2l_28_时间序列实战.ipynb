{
 "cells": [
  {
   "cell_type": "code",
   "execution_count": 270,
   "outputs": [],
   "source": [
    "import matplotlib.pyplot as plt\n",
    "%matplotlib inline\n",
    "import pandas as pd\n",
    "import math\n",
    "import torch\n",
    "from torch import nn\n",
    "import numpy as np\n",
    "from torch.nn import functional as F\n",
    "\n",
    "device = torch.device(\"cuda\")"
   ],
   "metadata": {
    "collapsed": false
   }
  },
  {
   "cell_type": "code",
   "execution_count": 271,
   "outputs": [],
   "source": [
    "#隐藏层特征数量\n",
    "hidden_size=20\n",
    "#输入x的特征数量\n",
    "input_size=1\n",
    "output_size=1"
   ],
   "metadata": {
    "collapsed": false
   }
  },
  {
   "cell_type": "code",
   "execution_count": 272,
   "outputs": [
    {
     "data": {
      "text/plain": "(array([[ 58.796],\n        [ 60.266],\n        [ 61.465],\n        [ 62.828],\n        [ 64.653],\n        [ 65.994],\n        [ 67.207],\n        [ 66.207],\n        [ 65.859],\n        [ 67.296],\n        [ 69.172],\n        [ 70.499],\n        [ 72.538],\n        [ 74.542],\n        [ 76.368],\n        [ 78.534],\n        [ 80.671],\n        [ 82.992],\n        [ 85.229],\n        [ 87.177],\n        [ 89.211],\n        [ 90.859],\n        [ 92.42 ],\n        [ 93.717],\n        [ 94.974],\n        [ 96.259],\n        [ 97.542],\n        [ 98.705],\n        [100.072],\n        [101.654],\n        [103.008],\n        [104.357],\n        [105.851],\n        [107.507],\n        [109.3  ],\n        [111.026],\n        [112.704],\n        [114.333],\n        [115.823],\n        [117.171],\n        [118.517],\n        [119.85 ],\n        [121.121],\n        [122.389],\n        [123.626],\n        [124.761],\n        [125.786],\n        [126.743],\n        [127.627],\n        [128.453],\n        [129.227],\n        [129.988],\n        [130.756],\n        [131.448],\n        [132.129],\n        [132.802],\n        [133.45 ],\n        [134.091],\n        [134.916],\n        [135.922],\n        [136.726],\n        [137.646],\n        [138.326],\n        [139.232],\n        [140.011],\n        [140.541],\n        [141.008],\n        [141.212],\n        [141.26 ],\n        [141.175]]),\n (70, 1))"
     },
     "execution_count": 272,
     "metadata": {},
     "output_type": "execute_result"
    }
   ],
   "source": [
    "data = pd.read_csv('data.csv')\n",
    "data = np.array(data)\n",
    "data = [[i[3]/1000] for i in data[4:]]\n",
    "data = np.array(data)\n",
    "\n",
    "data, data.shape"
   ],
   "metadata": {
    "collapsed": false
   }
  },
  {
   "cell_type": "code",
   "execution_count": 273,
   "outputs": [],
   "source": [
    "class Net(nn.Module):\n",
    "    def __init__(self):\n",
    "        super(Net,self).__init__()\n",
    "        self.rnn = nn.RNN(\n",
    "            input_size = input_size,#输入x的特征数量\n",
    "            hidden_size = hidden_size,#隐藏层的特征数量\n",
    "            num_layers=1,#RNN层数\n",
    "            batch_first=True,#[batch_size, time_step, feature]\n",
    "            nonlinearity='relu'\n",
    "        )\n",
    "        self.linear = nn.Linear(hidden_size,output_size)\n",
    "\n",
    "    def forward(self,x,hidden_prev):\n",
    "        out, hidden_prev = self.rnn(x,hidden_prev)\n",
    "        out = out.view(-1,hidden_size)\n",
    "        out = self.linear(out)\n",
    "        out = out.unsqueeze(dim=0)\n",
    "        return out,hidden_prev"
   ],
   "metadata": {
    "collapsed": false
   }
  },
  {
   "cell_type": "code",
   "execution_count": 274,
   "outputs": [
    {
     "name": "stdout",
     "output_type": "stream",
     "text": [
      "(70, 1)\n"
     ]
    }
   ],
   "source": [
    "print(data.shape)"
   ],
   "metadata": {
    "collapsed": false
   }
  },
  {
   "cell_type": "code",
   "execution_count": 275,
   "outputs": [
    {
     "name": "stdout",
     "output_type": "stream",
     "text": [
      "steps: 0 loss 12045.498046875\n",
      "steps: 100 loss 1.1468298435211182\n",
      "steps: 200 loss 0.7926117181777954\n",
      "steps: 300 loss 0.7343810796737671\n",
      "steps: 400 loss 0.3929401636123657\n",
      "steps: 500 loss 0.33985787630081177\n",
      "steps: 600 loss 0.24450261890888214\n",
      "steps: 700 loss 0.28258565068244934\n",
      "steps: 800 loss 0.2789369225502014\n",
      "steps: 900 loss 0.2841865122318268\n",
      "steps: 1000 loss 0.22537513077259064\n",
      "steps: 1100 loss 0.14596760272979736\n",
      "steps: 1200 loss 0.1368521898984909\n",
      "steps: 1300 loss 0.2938595712184906\n",
      "steps: 1400 loss 0.2944754660129547\n",
      "steps: 1500 loss 0.27611929178237915\n",
      "steps: 1600 loss 0.20872516930103302\n",
      "steps: 1700 loss 0.27573835849761963\n",
      "steps: 1800 loss 0.10081921517848969\n",
      "steps: 1900 loss 0.2906341552734375\n",
      "steps: 2000 loss 0.19495147466659546\n",
      "steps: 2100 loss 0.2927630841732025\n",
      "steps: 2200 loss 0.2860027551651001\n",
      "steps: 2300 loss 0.30440035462379456\n",
      "steps: 2400 loss 0.11570028215646744\n",
      "steps: 2500 loss 0.23331376910209656\n",
      "steps: 2600 loss 0.09342627227306366\n",
      "steps: 2700 loss 0.09698302298784256\n",
      "steps: 2800 loss 0.1174156442284584\n",
      "steps: 2900 loss 0.11332406848669052\n",
      "steps: 3000 loss 0.30596476793289185\n"
     ]
    },
    {
     "data": {
      "text/plain": "<Figure size 640x480 with 1 Axes>",
      "image/png": "[encoded data removed]"
     },
     "metadata": {},
     "output_type": "display_data"
    }
   ],
   "source": [
    "model = Net()\n",
    "criterion = nn.MSELoss()\n",
    "optimizer = torch.optim.Adam(model.parameters(),lr=5e-2)\n",
    "#初始化h0的值\n",
    "hidden_prev = torch.zeros(1,1,hidden_size) # h0\n",
    "loss_cnt = []\n",
    "for iter in range(3001):\n",
    "\n",
    "    start = np.random.randint(10)\n",
    "    x = torch.tensor(data[start:-2]).float().view(1,70-start-2,1)\n",
    "    y = torch.tensor(data[start+1:-1]).float().view(1,70-start-2,1)\n",
    "\n",
    "    #训练模型\n",
    "    output,hidden_prev = model(x,hidden_prev)\n",
    "    hidden_prev = hidden_prev.detach()\n",
    "    #计算损失函数\n",
    "    model.zero_grad()\n",
    "    loss = criterion(output,y)\n",
    "    loss.backward()\n",
    "    optimizer.step()\n",
    "    loss_cnt.append(loss.item())\n",
    "    #输出损失函数值\n",
    "    if iter%100 == 0:\n",
    "        plt.plot(loss_cnt)\n",
    "        plt.grid()\n",
    "        plt.xlabel('Steps')\n",
    "        plt.ylabel('Loss')\n",
    "        print('steps: {} loss {}'.format(iter,loss.item()))"
   ],
   "metadata": {
    "collapsed": false
   }
  },
  {
   "cell_type": "code",
   "execution_count": 276,
   "outputs": [],
   "source": [
    "x = torch.tensor(data[:]).float().view(1,-1,1)\n",
    "input = x[:,0:68,:]"
   ],
   "metadata": {
    "collapsed": false
   }
  },
  {
   "cell_type": "code",
   "execution_count": 277,
   "outputs": [
    {
     "data": {
      "text/plain": "tensor([[58.7960]])"
     },
     "execution_count": 277,
     "metadata": {},
     "output_type": "execute_result"
    }
   ],
   "source": [
    "input[0][0].unsqueeze(dim=0)"
   ],
   "metadata": {
    "collapsed": false
   }
  },
  {
   "cell_type": "code",
   "execution_count": 278,
   "outputs": [
    {
     "name": "stdout",
     "output_type": "stream",
     "text": [
      "tensor([[[61.5423]]], grad_fn=<UnsqueezeBackward0>)\n",
      "tensor([[[62.7633]]], grad_fn=<UnsqueezeBackward0>)\n",
      "tensor([[[63.3499]]], grad_fn=<UnsqueezeBackward0>)\n",
      "tensor([[[64.6952]]], grad_fn=<UnsqueezeBackward0>)\n",
      "tensor([[[66.5011]]], grad_fn=<UnsqueezeBackward0>)\n",
      "tensor([[[67.8197]]], grad_fn=<UnsqueezeBackward0>)\n",
      "tensor([[[69.0074]]], grad_fn=<UnsqueezeBackward0>)\n",
      "tensor([[[67.9895]]], grad_fn=<UnsqueezeBackward0>)\n",
      "tensor([[[67.6343]]], grad_fn=<UnsqueezeBackward0>)\n",
      "tensor([[[69.0818]]], grad_fn=<UnsqueezeBackward0>)\n",
      "tensor([[[70.9533]]], grad_fn=<UnsqueezeBackward0>)\n",
      "tensor([[[72.2564]]], grad_fn=<UnsqueezeBackward0>)\n",
      "tensor([[[74.2692]]], grad_fn=<UnsqueezeBackward0>)\n",
      "tensor([[[76.2492]]], grad_fn=<UnsqueezeBackward0>)\n",
      "tensor([[[78.0445]]], grad_fn=<UnsqueezeBackward0>)\n",
      "tensor([[[80.1807]]], grad_fn=<UnsqueezeBackward0>)\n",
      "tensor([[[82.2881]]], grad_fn=<UnsqueezeBackward0>)\n",
      "tensor([[[84.5761]]], grad_fn=<UnsqueezeBackward0>)\n",
      "tensor([[[86.7797]]], grad_fn=<UnsqueezeBackward0>)\n",
      "tensor([[[88.6931]]], grad_fn=<UnsqueezeBackward0>)\n",
      "tensor([[[90.6945]]], grad_fn=<UnsqueezeBackward0>)\n",
      "tensor([[[92.3127]]], grad_fn=<UnsqueezeBackward0>)\n",
      "tensor([[[93.8449]]], grad_fn=<UnsqueezeBackward0>)\n",
      "tensor([[[95.1175]]], grad_fn=<UnsqueezeBackward0>)\n",
      "tensor([[[96.3522]]], grad_fn=<UnsqueezeBackward0>)\n",
      "tensor([[[97.6177]]], grad_fn=<UnsqueezeBackward0>)\n",
      "tensor([[[98.8814]]], grad_fn=<UnsqueezeBackward0>)\n",
      "tensor([[[100.0250]]], grad_fn=<UnsqueezeBackward0>)\n",
      "tensor([[[101.3729]]], grad_fn=<UnsqueezeBackward0>)\n",
      "tensor([[[102.9360]]], grad_fn=<UnsqueezeBackward0>)\n",
      "tensor([[[104.2682]]], grad_fn=<UnsqueezeBackward0>)\n",
      "tensor([[[105.5944]]], grad_fn=<UnsqueezeBackward0>)\n",
      "tensor([[[107.0677]]], grad_fn=<UnsqueezeBackward0>)\n",
      "tensor([[[108.7023]]], grad_fn=<UnsqueezeBackward0>)\n",
      "tensor([[[110.4716]]], grad_fn=<UnsqueezeBackward0>)\n",
      "tensor([[[112.1717]]], grad_fn=<UnsqueezeBackward0>)\n",
      "tensor([[[113.8228]]], grad_fn=<UnsqueezeBackward0>)\n",
      "tensor([[[115.4258]]], grad_fn=<UnsqueezeBackward0>)\n",
      "tensor([[[116.8906]]], grad_fn=<UnsqueezeBackward0>)\n",
      "tensor([[[118.2147]]], grad_fn=<UnsqueezeBackward0>)\n",
      "tensor([[[119.5388]]], grad_fn=<UnsqueezeBackward0>)\n",
      "tensor([[[120.8513]]], grad_fn=<UnsqueezeBackward0>)\n",
      "tensor([[[122.1020]]], grad_fn=<UnsqueezeBackward0>)\n",
      "tensor([[[123.3500]]], grad_fn=<UnsqueezeBackward0>)\n",
      "tensor([[[124.5677]]], grad_fn=<UnsqueezeBackward0>)\n",
      "tensor([[[125.6837]]], grad_fn=<UnsqueezeBackward0>)\n",
      "tensor([[[126.6905]]], grad_fn=<UnsqueezeBackward0>)\n",
      "tensor([[[127.6309]]], grad_fn=<UnsqueezeBackward0>)\n",
      "tensor([[[128.4997]]], grad_fn=<UnsqueezeBackward0>)\n",
      "tensor([[[129.3116]]], grad_fn=<UnsqueezeBackward0>)\n",
      "tensor([[[130.0725]]], grad_fn=<UnsqueezeBackward0>)\n",
      "tensor([[[130.8213]]], grad_fn=<UnsqueezeBackward0>)\n",
      "tensor([[[131.5775]]], grad_fn=<UnsqueezeBackward0>)\n",
      "tensor([[[132.2580]]], grad_fn=<UnsqueezeBackward0>)\n",
      "tensor([[[132.9277]]], grad_fn=<UnsqueezeBackward0>)\n",
      "tensor([[[133.5903]]], grad_fn=<UnsqueezeBackward0>)\n",
      "tensor([[[134.2280]]], grad_fn=<UnsqueezeBackward0>)\n",
      "tensor([[[134.8589]]], grad_fn=<UnsqueezeBackward0>)\n",
      "tensor([[[135.6739]]], grad_fn=<UnsqueezeBackward0>)\n",
      "tensor([[[136.6690]]], grad_fn=<UnsqueezeBackward0>)\n",
      "tensor([[[137.4596]]], grad_fn=<UnsqueezeBackward0>)\n",
      "tensor([[[138.3653]]], grad_fn=<UnsqueezeBackward0>)\n",
      "tensor([[[139.0327]]], grad_fn=<UnsqueezeBackward0>)\n",
      "tensor([[[139.9257]]], grad_fn=<UnsqueezeBackward0>)\n",
      "tensor([[[140.6933]]], grad_fn=<UnsqueezeBackward0>)\n",
      "tensor([[[141.2104]]], grad_fn=<UnsqueezeBackward0>)\n",
      "tensor([[[141.6669]]], grad_fn=<UnsqueezeBackward0>)\n",
      "tensor([[[142.3180]]], grad_fn=<UnsqueezeBackward0>)\n",
      "tensor([[[142.9609]]], grad_fn=<UnsqueezeBackward0>)\n",
      "tensor([[[143.5939]]], grad_fn=<UnsqueezeBackward0>)\n",
      "tensor([[[144.2170]]], grad_fn=<UnsqueezeBackward0>)\n",
      "tensor([[[144.8304]]], grad_fn=<UnsqueezeBackward0>)\n",
      "tensor([[[145.4342]]], grad_fn=<UnsqueezeBackward0>)\n",
      "tensor([[[146.0286]]], grad_fn=<UnsqueezeBackward0>)\n",
      "tensor([[[146.6137]]], grad_fn=<UnsqueezeBackward0>)\n",
      "tensor([[[147.1897]]], grad_fn=<UnsqueezeBackward0>)\n",
      "tensor([[[147.7567]]], grad_fn=<UnsqueezeBackward0>)\n",
      "tensor([[[148.3149]]], grad_fn=<UnsqueezeBackward0>)\n",
      "tensor([[[148.8643]]], grad_fn=<UnsqueezeBackward0>)\n",
      "tensor([[[149.4052]]], grad_fn=<UnsqueezeBackward0>)\n",
      "tensor([[[149.9376]]], grad_fn=<UnsqueezeBackward0>)\n",
      "tensor([[[150.4617]]], grad_fn=<UnsqueezeBackward0>)\n",
      "tensor([[[150.9777]]], grad_fn=<UnsqueezeBackward0>)\n",
      "tensor([[[151.4856]]], grad_fn=<UnsqueezeBackward0>)\n",
      "tensor([[[151.9856]]], grad_fn=<UnsqueezeBackward0>)\n",
      "tensor([[[152.4778]]], grad_fn=<UnsqueezeBackward0>)\n",
      "tensor([[[152.9623]]], grad_fn=<UnsqueezeBackward0>)\n",
      "tensor([[[153.4392]]], grad_fn=<UnsqueezeBackward0>)\n",
      "tensor([[[153.9087]]], grad_fn=<UnsqueezeBackward0>)\n",
      "tensor([[[154.3709]]], grad_fn=<UnsqueezeBackward0>)\n",
      "tensor([[[154.8259]]], grad_fn=<UnsqueezeBackward0>)\n",
      "tensor([[[155.2737]]], grad_fn=<UnsqueezeBackward0>)\n",
      "tensor([[[155.7146]]], grad_fn=<UnsqueezeBackward0>)\n",
      "tensor([[[156.1486]]], grad_fn=<UnsqueezeBackward0>)\n",
      "tensor([[[156.5759]]], grad_fn=<UnsqueezeBackward0>)\n",
      "tensor([[[156.9964]]], grad_fn=<UnsqueezeBackward0>)\n",
      "tensor([[[157.4104]]], grad_fn=<UnsqueezeBackward0>)\n",
      "tensor([[[157.8180]]], grad_fn=<UnsqueezeBackward0>)\n"
     ]
    }
   ],
   "source": [
    "#绘制预测图\n",
    "hidden_prev = torch.zeros(1,hidden_size) # h0\n",
    "predictions = []#预测值\n",
    "for i in range(0,98):\n",
    "    if i < 67:  # 预热\n",
    "        (pred,hidden_prev) = model(input[0][i].unsqueeze(dim=0),hidden_prev)\n",
    "        print(pred)\n",
    "        predictions.append(pred.detach().numpy().ravel()[0])\n",
    "    else :\n",
    "        if i == 67:\n",
    "            hidden_prev.unsqueeze_(dim=0)\n",
    "        (pred,hidden_prev) = model(pred,hidden_prev)\n",
    "        input = pred\n",
    "        print(pred)\n",
    "        predictions.append(pred.detach().numpy().ravel()[0])\n"
   ],
   "metadata": {
    "collapsed": false
   }
  },
  {
   "cell_type": "code",
   "execution_count": 285,
   "outputs": [
    {
     "name": "stdout",
     "output_type": "stream",
     "text": [
      "[142960.92224121094, 143593.88732910156, 144216.9952392578, 144830.3680419922, 145434.18884277344, 146028.57971191406, 146613.6932373047, 147189.68200683594, 147756.69860839844, 148314.8651123047, 148864.3035888672, 149405.18188476562, 149937.60681152344, 150461.73095703125, 150977.69165039062, 151485.61096191406, 151985.595703125, 152477.76794433594, 152962.26501464844, 153439.22424316406, 153908.72192382812, 154370.8953857422, 154825.86669921875, 155273.7274169922, 155714.61486816406, 156148.62060546875, 156575.8514404297, 156996.4141845703, 157410.43090820312, 157817.97790527344]\n"
     ]
    },
    {
     "data": {
      "text/plain": "<Figure size 640x480 with 1 Axes>",
      "image/png": "[encoded data removed]"
     },
     "metadata": {},
     "output_type": "display_data"
    }
   ],
   "source": [
    "x_1 = range(1953,2051)\n",
    "x_2 = range(1953,2021)\n",
    "y_1 = predictions\n",
    "y_2 = x[:,0:68,:].squeeze(dim=0).squeeze(dim=-1).tolist()\n",
    "\n",
    "y_1 = [i *1000 for i in y_1]\n",
    "y_2 = [i *1000 for i in y_2]\n",
    "print(y_1[-30:])\n",
    "plt.title(\"RNN_Predict\")\n",
    "plt.xlabel(\"Years\")\n",
    "plt.ylabel(\"Population\")\n",
    "plt.plot(x_1,y_1,x_2,y_2)\n",
    "plt.grid()"
   ],
   "metadata": {
    "collapsed": false
   }
  }
 ],
 "metadata": {
  "kernelspec": {
   "display_name": "Python 3",
   "language": "python",
   "name": "python3"
  },
  "language_info": {
   "codemirror_mode": {
    "name": "ipython",
    "version": 2
   },
   "file_extension": ".py",
   "mimetype": "text/x-python",
   "name": "python",
   "nbconvert_exporter": "python",
   "pygments_lexer": "ipython2",
   "version": "2.7.6"
  }
 },
 "nbformat": 4,
 "nbformat_minor": 0
}
