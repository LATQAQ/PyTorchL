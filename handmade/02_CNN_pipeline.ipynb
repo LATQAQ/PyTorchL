{
 "cells": [
  {
   "cell_type": "code",
   "execution_count": 38,
   "metadata": {
    "collapsed": true
   },
   "outputs": [],
   "source": [
    "import torch\n",
    "from torch import nn\n",
    "from torchvision import datasets, transforms"
   ]
  },
  {
   "cell_type": "markdown",
   "source": [
    "# 1 parameters"
   ],
   "metadata": {
    "collapsed": false
   }
  },
  {
   "cell_type": "code",
   "execution_count": 39,
   "outputs": [],
   "source": [
    "# dataset\n",
    "input_shape = 28\n",
    "num_classes = 10\n",
    "# hyper\n",
    "batch_size = 64\n",
    "num_epochs = 5\n",
    "learning_rate = 1e-3\n",
    "# gpu\n",
    "device = torch.device('cuda' if torch.cuda.is_available() else 'cpu')"
   ],
   "metadata": {
    "collapsed": false
   }
  },
  {
   "cell_type": "markdown",
   "source": [
    "# 2 dataset和dataloader"
   ],
   "metadata": {
    "collapsed": false
   }
  },
  {
   "cell_type": "code",
   "execution_count": 40,
   "outputs": [],
   "source": [
    "train_dataset = datasets.MNIST(root='./data',\n",
    "                                           train=True,\n",
    "                                           download=True,\n",
    "                                           transform=transforms.ToTensor())\n",
    "test_dataset = datasets.MNIST(root='./data',\n",
    "                                           train=False,\n",
    "                                           download=True,\n",
    "                                           transform=transforms.ToTensor())"
   ],
   "metadata": {
    "collapsed": false
   }
  },
  {
   "cell_type": "code",
   "execution_count": 41,
   "outputs": [],
   "source": [
    "train_loader = torch.utils.data.DataLoader(dataset=train_dataset,\n",
    "                                           shuffle=True,\n",
    "                                           batch_size=batch_size)\n",
    "test_loader = torch.utils.data.DataLoader(dataset=train_dataset,\n",
    "                                           shuffle=True,\n",
    "                                           batch_size=batch_size)"
   ],
   "metadata": {
    "collapsed": false
   }
  },
  {
   "cell_type": "code",
   "execution_count": 42,
   "outputs": [],
   "source": [
    "images, labels = next(iter(train_loader))"
   ],
   "metadata": {
    "collapsed": false
   }
  },
  {
   "cell_type": "code",
   "execution_count": 43,
   "outputs": [
    {
     "data": {
      "text/plain": "torch.Size([64, 1, 28, 28])"
     },
     "execution_count": 43,
     "metadata": {},
     "output_type": "execute_result"
    }
   ],
   "source": [
    "# batch_size,channels,h(i),w(j)\n",
    "images.shape"
   ],
   "metadata": {
    "collapsed": false
   }
  },
  {
   "cell_type": "markdown",
   "source": [
    "# 3 model arch\n"
   ],
   "metadata": {
    "collapsed": false
   }
  },
  {
   "cell_type": "markdown",
   "source": [
    "- cnn: channel 不断递增， shape 不断减少的过程\n",
    "    - 最好是 *2"
   ],
   "metadata": {
    "collapsed": false
   }
  },
  {
   "cell_type": "code",
   "execution_count": 44,
   "outputs": [],
   "source": [
    "class CNN(nn.Module):\n",
    "    def __init__(self, in_channels, input_shape, num_classes):\n",
    "        super(CNN, self).__init__()\n",
    "        # conv2d: (b, 1, 28, 28) => (b, 16, 28, 28)\n",
    "        # maxpool2d: (b, 16, 28, 28) => (b, 16, 14, 14)\n",
    "        self.cnn1 = nn.Sequential(nn.Conv2d(in_channels=in_channels, out_channels=16,\n",
    "                                            kernel_size=5,padding=2,stride=1),\n",
    "                                  nn.BatchNorm2d(16),\n",
    "                                  nn.ReLU(),\n",
    "                                  nn.MaxPool2d(kernel_size=2,stride=2))\n",
    "        # conv2d: (b, 16, 14, 14) => (b, 32, 14, 14)\n",
    "        # maxpool2d: (b, 32, 14, 14) => (b, 32, 7, 7)\n",
    "        self.cnn2 = nn.Sequential(nn.Conv2d(in_channels=16, out_channels=32,\n",
    "                                            kernel_size=5,padding=2,stride=1),\n",
    "                                  nn.BatchNorm2d(32),\n",
    "                                  nn.ReLU(),\n",
    "                                  nn.MaxPool2d(kernel_size=2,stride=2))\n",
    "        # reshape (b, 32, 7, 7) => (b, 32*7*7)\n",
    "        # (b, 32*7*7) => (b, 10)\n",
    "        self.fc = nn.Linear(32*(input_shape//4)*(input_shape//4) , num_classes)\n",
    "        pass\n",
    "\n",
    "    def forward(self,x):\n",
    "        # (b, 1, 28, 28) => (b, 16, 14, 14)\n",
    "        out = self.cnn1(x)\n",
    "        # (b, 16, 14, 14) => (b, 32, 7, 7)\n",
    "        out = self.cnn2(out)\n",
    "        # (b, 32, 7, 7) => (b, 32*7*7)\n",
    "        out = out.reshape(out.size(0), -1)\n",
    "        out = self.fc(out)\n",
    "        return out\n",
    "        pass\n"
   ],
   "metadata": {
    "collapsed": false
   }
  },
  {
   "cell_type": "markdown",
   "source": [
    "# torchsummary"
   ],
   "metadata": {
    "collapsed": false
   }
  },
  {
   "cell_type": "code",
   "execution_count": 45,
   "outputs": [],
   "source": [
    "from torchsummary import summary"
   ],
   "metadata": {
    "collapsed": false
   }
  },
  {
   "cell_type": "code",
   "execution_count": 46,
   "outputs": [
    {
     "name": "stdout",
     "output_type": "stream",
     "text": [
      "----------------------------------------------------------------\n",
      "        Layer (type)               Output Shape         Param #\n",
      "================================================================\n",
      "            Conv2d-1           [64, 16, 28, 28]             416\n",
      "       BatchNorm2d-2           [64, 16, 28, 28]              32\n",
      "              ReLU-3           [64, 16, 28, 28]               0\n",
      "         MaxPool2d-4           [64, 16, 14, 14]               0\n",
      "            Conv2d-5           [64, 32, 14, 14]          12,832\n",
      "       BatchNorm2d-6           [64, 32, 14, 14]              64\n",
      "              ReLU-7           [64, 32, 14, 14]               0\n",
      "         MaxPool2d-8             [64, 32, 7, 7]               0\n",
      "            Linear-9                   [64, 10]          15,690\n",
      "================================================================\n",
      "Total params: 29,034\n",
      "Trainable params: 29,034\n",
      "Non-trainable params: 0\n",
      "----------------------------------------------------------------\n",
      "Input size (MB): 0.19\n",
      "Forward/backward pass size (MB): 29.86\n",
      "Params size (MB): 0.11\n",
      "Estimated Total Size (MB): 30.17\n",
      "----------------------------------------------------------------\n"
     ]
    }
   ],
   "source": [
    "model = CNN(input_shape=input_shape, num_classes=num_classes, in_channels=1).to(device)\n",
    "summary(model, input_size=(1,28,28), batch_size=batch_size)\n"
   ],
   "metadata": {
    "collapsed": false
   }
  },
  {
   "cell_type": "markdown",
   "source": [
    "# 4 model train"
   ],
   "metadata": {
    "collapsed": false
   }
  },
  {
   "cell_type": "code",
   "execution_count": 47,
   "outputs": [],
   "source": [
    "criterion = nn.CrossEntropyLoss()\n",
    "optimizer = torch.optim.Adam(model.parameters(), lr=learning_rate)"
   ],
   "metadata": {
    "collapsed": false
   }
  },
  {
   "cell_type": "code",
   "execution_count": 48,
   "outputs": [],
   "source": [
    "total_batch = len(train_loader)"
   ],
   "metadata": {
    "collapsed": false
   }
  },
  {
   "cell_type": "code",
   "execution_count": 49,
   "outputs": [
    {
     "name": "stdout",
     "output_type": "stream",
     "text": [
      "1/5, 100/938: 0.0933\n",
      "1/5, 200/938: 0.1791\n",
      "1/5, 300/938: 0.0963\n",
      "1/5, 400/938: 0.0169\n",
      "1/5, 500/938: 0.0435\n",
      "1/5, 600/938: 0.0651\n",
      "1/5, 700/938: 0.0598\n",
      "1/5, 800/938: 0.0839\n",
      "1/5, 900/938: 0.1724\n",
      "2/5, 100/938: 0.0160\n",
      "2/5, 200/938: 0.0204\n",
      "2/5, 300/938: 0.0156\n",
      "2/5, 400/938: 0.1561\n",
      "2/5, 500/938: 0.0102\n",
      "2/5, 600/938: 0.0561\n",
      "2/5, 700/938: 0.0826\n",
      "2/5, 800/938: 0.0400\n",
      "2/5, 900/938: 0.0217\n",
      "3/5, 100/938: 0.0436\n",
      "3/5, 200/938: 0.0076\n",
      "3/5, 300/938: 0.0252\n",
      "3/5, 400/938: 0.0075\n",
      "3/5, 500/938: 0.0769\n",
      "3/5, 600/938: 0.0021\n",
      "3/5, 700/938: 0.0556\n",
      "3/5, 800/938: 0.0052\n",
      "3/5, 900/938: 0.0212\n",
      "4/5, 100/938: 0.0281\n",
      "4/5, 200/938: 0.0033\n",
      "4/5, 300/938: 0.0213\n",
      "4/5, 400/938: 0.0227\n",
      "4/5, 500/938: 0.2058\n",
      "4/5, 600/938: 0.0310\n",
      "4/5, 700/938: 0.0307\n",
      "4/5, 800/938: 0.0056\n",
      "4/5, 900/938: 0.0024\n",
      "5/5, 100/938: 0.0124\n",
      "5/5, 200/938: 0.0027\n",
      "5/5, 300/938: 0.0621\n",
      "5/5, 400/938: 0.0465\n",
      "5/5, 500/938: 0.0188\n",
      "5/5, 600/938: 0.0103\n",
      "5/5, 700/938: 0.0052\n",
      "5/5, 800/938: 0.0019\n",
      "5/5, 900/938: 0.0046\n"
     ]
    }
   ],
   "source": [
    "for epoch in range(num_epochs):\n",
    "    for batch_idx, (images, labels) in enumerate(train_loader):\n",
    "        images = images.to(device)\n",
    "        labels = labels.to(device)\n",
    "\n",
    "        out = model(images)\n",
    "        loss = criterion(out, labels)\n",
    "        optimizer.zero_grad()\n",
    "        loss.backward()\n",
    "        optimizer.step()\n",
    "\n",
    "        if (batch_idx+1)%100 == 0:\n",
    "            print(f'{epoch+1}/{num_epochs}, {batch_idx+1}/{total_batch}: {loss.item():.4f}')"
   ],
   "metadata": {
    "collapsed": false
   }
  },
  {
   "cell_type": "markdown",
   "source": [
    "# model evaluation"
   ],
   "metadata": {
    "collapsed": false
   }
  },
  {
   "cell_type": "code",
   "execution_count": 50,
   "outputs": [
    {
     "name": "stdout",
     "output_type": "stream",
     "text": [
      "59643/60000 = 0.99405\n"
     ]
    }
   ],
   "source": [
    "total = 0\n",
    "correct = 0\n",
    "for images,labels in test_loader:\n",
    "    images = images.to(device)\n",
    "    labels = labels.to(device)\n",
    "    out = model(images)\n",
    "    preds = torch.argmax(out, dim=1)\n",
    "\n",
    "    total += images.size(0)\n",
    "    correct += (preds == labels).sum().item()\n",
    "print(f'{correct}/{total} = {correct/total}')"
   ],
   "metadata": {
    "collapsed": false
   }
  },
  {
   "cell_type": "code",
   "execution_count": 51,
   "outputs": [],
   "source": [
    "torch.save(model.state_dict(), 'cnn_mnist.ckpt')"
   ],
   "metadata": {
    "collapsed": false
   }
  }
 ],
 "metadata": {
  "kernelspec": {
   "display_name": "Python 3",
   "language": "python",
   "name": "python3"
  },
  "language_info": {
   "codemirror_mode": {
    "name": "ipython",
    "version": 2
   },
   "file_extension": ".py",
   "mimetype": "text/x-python",
   "name": "python",
   "nbconvert_exporter": "python",
   "pygments_lexer": "ipython2",
   "version": "2.7.6"
  }
 },
 "nbformat": 4,
 "nbformat_minor": 0
}
