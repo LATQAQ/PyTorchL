{
 "cells": [
  {
   "cell_type": "code",
   "execution_count": null,
   "metadata": {
    "collapsed": false
   },
   "outputs": [],
   "source": [
    "# 首先导入包\n",
    "import torch\n",
    "import torch.nn as nn\n",
    "import pandas as pd\n",
    "import numpy as np\n",
    "from torch.utils.data import Dataset, DataLoader\n",
    "from torchvision import transforms\n",
    "from torchvision import models\n",
    "from PIL import Image\n",
    "import os\n",
    "import matplotlib.pyplot as plt\n",
    "import torchvision.models as models\n",
    "# This is for the progress bar.\n",
    "from tqdm import tqdm\n",
    "import seaborn as sns\n",
    "os.environ['KMP_DUPLICATE_LIB_OK'] = 'TRUE'"
   ]
  },
  {
   "cell_type": "code",
   "execution_count": null,
   "metadata": {
    "collapsed": false
   },
   "outputs": [],
   "source": [
    "# 看看label文件长啥样\n",
    "labels_dataframe = pd.read_csv('../data/classify-leaves/train.csv')\n",
    "labels_dataframe.head(5)"
   ]
  },
  {
   "cell_type": "code",
   "execution_count": null,
   "metadata": {
    "collapsed": false
   },
   "outputs": [],
   "source": [
    "labels_dataframe.describe()"
   ]
  },
  {
   "cell_type": "code",
   "execution_count": null,
   "metadata": {
    "collapsed": false
   },
   "outputs": [],
   "source": [
    "# 把label文件排个序\n",
    "leaves_labels = sorted(list(set(labels_dataframe['label'])))\n",
    "n_classes = len(leaves_labels)\n",
    "print(n_classes)\n",
    "leaves_labels[:10]"
   ]
  },
  {
   "cell_type": "code",
   "execution_count": null,
   "metadata": {
    "collapsed": false
   },
   "outputs": [],
   "source": [
    "# 把label转成对应的数字\n",
    "class_to_num = dict(zip(leaves_labels, range(n_classes)))\n",
    "class_to_num"
   ]
  },
  {
   "cell_type": "code",
   "execution_count": null,
   "metadata": {
    "collapsed": false
   },
   "outputs": [],
   "source": [
    "# 再转换回来，方便最后预测的时候使用\n",
    "num_to_class = {v : k for k, v in class_to_num.items()}"
   ]
  },
  {
   "cell_type": "code",
   "execution_count": null,
   "metadata": {
    "collapsed": false
   },
   "outputs": [],
   "source": [
    "import torchvision\n",
    "\n",
    "\n",
    "# 继承pytorch的dataset，创建自己的\n",
    "class LeavesData(Dataset):\n",
    "    def __init__(self, csv_path, file_path, mode='train', valid_ratio=0.2, resize_height=256, resize_width=256):\n",
    "        \"\"\"\n",
    "        Args:\n",
    "            csv_path (string): csv 文件路径\n",
    "            img_path (string): 图像文件所在路径\n",
    "            mode (string): 训练模式还是测试模式\n",
    "            valid_ratio (float): 验证集比例\n",
    "        \"\"\"\n",
    "\n",
    "        # 需要调整后的照片尺寸，我这里每张图片的大小尺寸不一致#\n",
    "        self.resize_height = resize_height\n",
    "        self.resize_width = resize_width\n",
    "\n",
    "        self.file_path = file_path\n",
    "        self.mode = mode\n",
    "\n",
    "        # 读取 csv 文件\n",
    "        # 利用pandas读取csv文件\n",
    "        self.data_info = pd.read_csv(csv_path, header=None)  #header=None是去掉表头部分\n",
    "        # 计算 length\n",
    "        self.data_len = len(self.data_info.index) - 1\n",
    "        self.train_len = int(self.data_len * (1 - valid_ratio))\n",
    "\n",
    "        if mode == 'train':\n",
    "            # 第一列包含图像文件的名称\n",
    "            self.train_image = np.asarray(self.data_info.iloc[1:self.train_len, 0])  #self.data_info.iloc[1:,0]表示读取第一列，从第二行开始到train_len\n",
    "            # 第二列是图像的 label\n",
    "            self.train_label = np.asarray(self.data_info.iloc[1:self.train_len, 1])\n",
    "            self.image_arr = self.train_image\n",
    "            self.label_arr = self.train_label\n",
    "        elif mode == 'valid':\n",
    "            self.valid_image = np.asarray(self.data_info.iloc[self.train_len:, 0])\n",
    "            self.valid_label = np.asarray(self.data_info.iloc[self.train_len:, 1])\n",
    "            self.image_arr = self.valid_image\n",
    "            self.label_arr = self.valid_label\n",
    "        elif mode == 'test':\n",
    "            self.test_image = np.asarray(self.data_info.iloc[1:, 0])\n",
    "            self.image_arr = self.test_image\n",
    "\n",
    "        self.real_len = len(self.image_arr)\n",
    "\n",
    "        print('Finished reading the {} set of Leaves Dataset ({} samples found)'\n",
    "              .format(mode, self.real_len))\n",
    "\n",
    "    def __getitem__(self, index):\n",
    "        # 从 image_arr中得到索引对应的文件名\n",
    "        single_image_name = self.image_arr[index]\n",
    "\n",
    "        # 读取图像文件\n",
    "        img_as_img = Image.open(self.file_path + single_image_name)\n",
    "\n",
    "        #如果需要将RGB三通道的图片转换成灰度图片可参考下面两行\n",
    "#         if img_as_img.mode != 'L':\n",
    "#             img_as_img = img_as_img.convert('L')\n",
    "\n",
    "        #设置好需要转换的变量，还可以包括一系列的nomarlize等等操作\n",
    "        if self.mode == 'train':\n",
    "            transform = transforms.Compose([\n",
    "                transforms.Resize((224, 224)),\n",
    "                transforms.RandomHorizontalFlip(p=0.5),   #随机水平翻转 选择一个概率\n",
    "                transforms.ToTensor()\n",
    "            ])\n",
    "        else:\n",
    "            # valid和test不做数据增强\n",
    "            transform = transforms.Compose([\n",
    "                transforms.Resize((224, 224)),\n",
    "                transforms.ToTensor()\n",
    "            ])\n",
    "\n",
    "        img_as_img = transform(img_as_img)\n",
    "\n",
    "        if self.mode == 'test':\n",
    "            return img_as_img\n",
    "        else:\n",
    "            # 得到图像的 string label\n",
    "            label = self.label_arr[index]\n",
    "            # number label\n",
    "            number_label = class_to_num[label]\n",
    "\n",
    "            return img_as_img, number_label  #返回每一个index对应的图片数据和对应的label\n",
    "\n",
    "    def __len__(self):\n",
    "        return self.real_len"
   ]
  },
  {
   "cell_type": "code",
   "execution_count": null,
   "metadata": {
    "collapsed": false
   },
   "outputs": [],
   "source": [
    "train_path = '../data/classify-leaves/train.csv'\n",
    "test_path = '../data/classify-leaves/test.csv'\n",
    "# csv文件中已经images的路径了，因此这里只到上一级目录\n",
    "img_path = '../data/classify-leaves/'\n",
    "\n",
    "train_dataset = LeavesData(train_path, img_path, mode='train')\n",
    "val_dataset = LeavesData(train_path, img_path, mode='valid')\n",
    "test_dataset = LeavesData(test_path, img_path, mode='test')\n",
    "print(train_dataset)\n",
    "print(val_dataset)\n",
    "print(test_dataset)\n",
    "print(test_dataset[0])"
   ]
  },
  {
   "cell_type": "code",
   "execution_count": null,
   "metadata": {
    "collapsed": false
   },
   "outputs": [],
   "source": [
    "train_loader = torch.utils.data.DataLoader(\n",
    "        dataset=train_dataset,\n",
    "        batch_size=64,\n",
    "        shuffle=True,\n",
    "        num_workers=0\n",
    "    )\n",
    "\n",
    "val_loader = torch.utils.data.DataLoader(\n",
    "        dataset=val_dataset,\n",
    "        batch_size=64,\n",
    "        shuffle=False,\n",
    "        num_workers=0\n",
    "    )\n",
    "test_loader = torch.utils.data.DataLoader(\n",
    "        dataset=test_dataset,\n",
    "        batch_size=64,\n",
    "        shuffle=False,\n",
    "        num_workers=0\n",
    "    )\n",
    "len(val_loader)"
   ]
  },
  {
   "cell_type": "code",
   "execution_count": null,
   "outputs": [],
   "source": [
    "# 给大家展示一下数据长啥样\n",
    "def im_convert(tensor):\n",
    "    \"\"\" 展示数据\"\"\"\n",
    "\n",
    "    image = tensor.to(\"cpu\").clone().detach()\n",
    "    image = image.numpy().squeeze()\n",
    "    image = image.transpose(1,2,0)\n",
    "    image = image.clip(0, 1)\n",
    "\n",
    "    return image\n",
    "\n",
    "fig=plt.figure(figsize=(20, 12))\n",
    "columns = 4\n",
    "rows = 2\n",
    "inputs, classes = next(iter(val_loader))\n",
    "for idx in range (columns*rows):\n",
    "    ax = fig.add_subplot(rows, columns, idx+1, xticks=[], yticks=[])\n",
    "    ax.set_title(num_to_class[int(classes[idx])])\n",
    "    plt.imshow(im_convert(inputs[idx]))\n",
    "plt.show()"
   ],
   "metadata": {
    "collapsed": false
   }
  },
  {
   "cell_type": "code",
   "execution_count": null,
   "metadata": {
    "collapsed": false
   },
   "outputs": [],
   "source": [
    "# 看一下是在cpu还是GPU上\n",
    "def get_device():\n",
    "    return 'cuda' if torch.cuda.is_available() else 'cpu'\n",
    "\n",
    "device = get_device()\n",
    "print(device)"
   ]
  },
  {
   "cell_type": "code",
   "execution_count": null,
   "metadata": {
    "collapsed": false
   },
   "outputs": [],
   "source": [
    "# 是否要冻住模型的前面一些层\n",
    "def set_parameter_requires_grad(model, feature_extracting):\n",
    "    if feature_extracting:\n",
    "        model = model\n",
    "        for param in model.parameters():\n",
    "            param.requires_grad = False\n",
    "# resnet34模型\n",
    "def res_model(num_classes, feature_extract = False):\n",
    "\n",
    "    model_ft = models.resnet34(weights=models.ResNet34_Weights.DEFAULT)\n",
    "    set_parameter_requires_grad(model_ft, feature_extract)\n",
    "    num_ftrs = model_ft.fc.in_features\n",
    "    model_ft.fc = nn.Sequential(nn.Linear(num_ftrs, num_classes))\n",
    "\n",
    "    return model_ft"
   ]
  },
  {
   "cell_type": "code",
   "execution_count": null,
   "metadata": {
    "collapsed": false
   },
   "outputs": [],
   "source": [
    "# 超参数\n",
    "learning_rate = 3e-4\n",
    "weight_decay = 1e-3\n",
    "num_epoch = 50\n",
    "model_path = './pre_res_model.ckpt'"
   ]
  },
  {
   "cell_type": "code",
   "execution_count": null,
   "metadata": {
    "collapsed": false
   },
   "outputs": [],
   "source": [
    "# Initialize a model, and put it on the device specified.\n",
    "model = res_model(176)\n",
    "model = model.to(device)\n",
    "model.device = device\n",
    "# For the classification task, we use cross-entropy as the measurement of performance.\n",
    "criterion = nn.CrossEntropyLoss()\n",
    "# Initialize optimizer, you may fine-tune some hyperparameters such as learning rate on your own.\n",
    "optimizer = torch.optim.SGD(model.parameters(), lr = learning_rate, weight_decay=weight_decay)\n",
    "# The number of training epochs.\n",
    "n_epochs = num_epoch\n",
    "best_acc = 0.0"
   ]
  },
  {
   "cell_type": "code",
   "execution_count": null,
   "metadata": {
    "collapsed": false
   },
   "outputs": [],
   "source": [
    "if __name__ == '__main__':\n",
    "    # Initialize a model, and put it on the device specified.\n",
    "    model = res_model(176)\n",
    "    model = model.to(device)\n",
    "    model.device = device\n",
    "    print(model.device)\n",
    "    # For the classification task, we use cross-entropy as the measurement of performance.\n",
    "    criterion = nn.CrossEntropyLoss()\n",
    "\n",
    "    # Initialize optimizer, you may fine-tune some hyperparameters such as learning rate on your own.\n",
    "    optimizer = torch.optim.Adam(model.parameters(), lr = learning_rate, weight_decay=weight_decay)\n",
    "\n",
    "    # The number of training epochs.\n",
    "    n_epochs = num_epoch\n",
    "\n",
    "    best_acc = 0.0\n",
    "    for epoch in range(n_epochs):\n",
    "        # ---------- Training ----------\n",
    "        # Make sure the model is in train mode before training.\n",
    "        model.train()\n",
    "        # These are used to record information in training.\n",
    "        train_loss = []\n",
    "        train_accs = []\n",
    "        # Iterate the training set by batches.\n",
    "        for batch in tqdm(train_loader):\n",
    "            # A batch consists of image data and corresponding labels.\n",
    "            imgs, labels = batch\n",
    "            imgs = imgs.to(device)\n",
    "            labels = labels.to(device)\n",
    "            # Forward the data. (Make sure data and model are on the same device.)\n",
    "            logits = model(imgs)\n",
    "            # Calculate the cross-entropy loss.\n",
    "            # We don't need to apply softmax before computing cross-entropy as it is done automatically.\n",
    "            loss = criterion(logits, labels)\n",
    "\n",
    "            # Gradients stored in the parameters in the previous step should be cleared out first.\n",
    "            optimizer.zero_grad()\n",
    "            # Compute the gradients for parameters.\n",
    "            loss.backward()\n",
    "            # Update the parameters with computed gradients.\n",
    "            optimizer.step()\n",
    "\n",
    "            # Compute the accuracy for current batch.\n",
    "            acc = (logits.argmax(dim=-1) == labels).float().mean()\n",
    "\n",
    "            # Record the loss and accuracy.\n",
    "            train_loss.append(loss.item())\n",
    "            train_accs.append(acc)\n",
    "\n",
    "        # The average loss and accuracy of the training set is the average of the recorded values.\n",
    "        train_loss = sum(train_loss) / len(train_loss)\n",
    "        train_acc = sum(train_accs) / len(train_accs)\n",
    "\n",
    "        # Print the information.\n",
    "        print(f\"[ Train | {epoch + 1:03d}/{n_epochs:03d} ] loss = {train_loss:.5f}, acc = {train_acc:.5f}\")\n",
    "        # ---------- Validation ----------\n",
    "        # Make sure the model is in eval mode so that some modules like dropout are disabled and work normally.\n",
    "        model.eval()\n",
    "        # These are used to record information in validation.\n",
    "        valid_loss = []\n",
    "        valid_accs = []\n",
    "\n",
    "        # Iterate the validation set by batches.\n",
    "        for batch in tqdm(val_loader):\n",
    "            imgs, labels = batch\n",
    "            # We don't need gradient in validation.\n",
    "            # Using torch.no_grad() accelerates the forward process.\n",
    "            with torch.no_grad():\n",
    "                logits = model(imgs.to(device))\n",
    "\n",
    "            # We can still compute the loss (but not the gradient).\n",
    "            loss = criterion(logits, labels.to(device))\n",
    "\n",
    "            # Compute the accuracy for current batch.\n",
    "            acc = (logits.argmax(dim=-1) == labels.to(device)).float().mean()\n",
    "\n",
    "            # Record the loss and accuracy.\n",
    "            valid_loss.append(loss.item())\n",
    "            valid_accs.append(acc)\n",
    "\n",
    "        # The average loss and accuracy for entire validation set is the average of the recorded values.\n",
    "        valid_loss = sum(valid_loss) / len(valid_loss)\n",
    "        valid_acc = sum(valid_accs) / len(valid_accs)\n",
    "\n",
    "        # Print the information.\n",
    "        print(f\"[ Valid | {epoch + 1:03d}/{n_epochs:03d} ] loss = {valid_loss:.5f}, acc = {valid_acc:.5f}\")\n",
    "\n",
    "        # if the model improves, save a checkpoint at this epoch\n",
    "        if valid_acc > best_acc:\n",
    "            best_acc = valid_acc\n",
    "            torch.save(model.state_dict(), model_path)\n",
    "            print('saving model with acc {:.3f}'.format(best_acc))\n",
    "    \n"
   ]
  },
  {
   "cell_type": "code",
   "execution_count": null,
   "outputs": [],
   "source": [
    "saveFileName = './submission.csv'"
   ],
   "metadata": {
    "collapsed": false
   }
  },
  {
   "cell_type": "code",
   "execution_count": null,
   "outputs": [],
   "source": [
    "## predict\n",
    "model = res_model(176)\n",
    "\n",
    "# create model and load weights from checkpoint\n",
    "model = model.to(device)\n",
    "model.load_state_dict(torch.load(model_path))\n",
    "\n",
    "# Make sure the model is in eval mode.\n",
    "# Some modules like Dropout or BatchNorm affect if the model is in training mode.\n",
    "model.eval()\n",
    "\n",
    "# Initialize a list to store the predictions.\n",
    "predictions = []\n",
    "# Iterate the testing set by batches.\n",
    "for batch in tqdm(test_loader):\n",
    "\n",
    "    imgs = batch\n",
    "    with torch.no_grad():\n",
    "        logits = model(imgs.to(device))\n",
    "\n",
    "    # Take the class with greatest logit as prediction and record it.\n",
    "    predictions.extend(logits.argmax(dim=-1).cpu().numpy().tolist())\n",
    "\n",
    "preds = []\n",
    "for i in predictions:\n",
    "    preds.append(num_to_class[i])\n",
    "\n",
    "test_data = pd.read_csv(test_path)\n",
    "test_data['label'] = pd.Series(preds)\n",
    "submission = pd.concat([test_data['image'], test_data['label']], axis=1)\n",
    "submission.to_csv(saveFileName, index=False)\n",
    "print(\"Done!!!!!!!!!!!!!!!!!!!!!!!!!!!\")"
   ],
   "metadata": {
    "collapsed": false
   }
  }
 ],
 "metadata": {
  "kernelspec": {
   "display_name": "Python 3 (ipykernel)",
   "language": "python",
   "name": "python3"
  },
  "language_info": {
   "codemirror_mode": {
    "name": "ipython",
    "version": 3
   },
   "file_extension": ".py",
   "mimetype": "text/x-python",
   "name": "python",
   "nbconvert_exporter": "python",
   "pygments_lexer": "ipython3",
   "version": "3.9.16"
  }
 },
 "nbformat": 4,
 "nbformat_minor": 1
}
