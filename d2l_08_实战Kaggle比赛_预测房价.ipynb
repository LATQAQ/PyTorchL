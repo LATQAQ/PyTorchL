{
 "cells": [
  {
   "cell_type": "code",
   "execution_count": 1,
   "metadata": {
    "collapsed": true
   },
   "outputs": [],
   "source": [
    "import hashlib\n",
    "import os\n",
    "import tarfile\n",
    "import zipfile\n",
    "import requests\n",
    "\n",
    "#@save\n",
    "DATA_HUB = dict()\n",
    "DATA_URL = 'http://d2l-data.s3-accelerate.amazonaws.com/'"
   ]
  },
  {
   "cell_type": "code",
   "execution_count": 2,
   "outputs": [],
   "source": [
    "def download(name, cache_dir=os.path.join('..', 'data')):  #@save\n",
    "    \"\"\"下载一个DATA_HUB中的文件，返回本地文件名\"\"\"\n",
    "    assert name in DATA_HUB, f\"{name} 不存在于 {DATA_HUB}\"\n",
    "    url, sha1_hash = DATA_HUB[name]\n",
    "    os.makedirs(cache_dir, exist_ok=True)\n",
    "    fname = os.path.join(cache_dir, url.split('/')[-1])\n",
    "    if os.path.exists(fname):\n",
    "        sha1 = hashlib.sha1()\n",
    "        with open(fname, 'rb') as f:\n",
    "            while True:\n",
    "                data = f.read(1048576)\n",
    "                if not data:\n",
    "                    break\n",
    "                sha1.update(data)\n",
    "        if sha1.hexdigest() == sha1_hash:\n",
    "            return fname  # 命中缓存\n",
    "    print(f'正在从{url}下载{fname}...')\n",
    "    r = requests.get(url, stream=True, verify=True)\n",
    "    with open(fname, 'wb') as f:\n",
    "        f.write(r.content)\n",
    "    return fname"
   ],
   "metadata": {
    "collapsed": false
   }
  },
  {
   "cell_type": "code",
   "execution_count": 3,
   "outputs": [],
   "source": [
    "def download_extract(name, folder=None):  #@save\n",
    "    \"\"\"下载并解压zip/tar文件\"\"\"\n",
    "    fname = download(name)\n",
    "    base_dir = os.path.dirname(fname)\n",
    "    data_dir, ext = os.path.splitext(fname)\n",
    "    if ext == '.zip':\n",
    "        fp = zipfile.ZipFile(fname, 'r')\n",
    "    elif ext in ('.tar', '.gz'):\n",
    "        fp = tarfile.open(fname, 'r')\n",
    "    else:\n",
    "        assert False, '只有zip/tar文件可以被解压缩'\n",
    "    fp.extractall(base_dir)\n",
    "    return os.path.join(base_dir, folder) if folder else data_dir\n",
    "\n",
    "def download_all():  #@save\n",
    "    \"\"\"下载DATA_HUB中的所有文件\"\"\"\n",
    "    for name in DATA_HUB:\n",
    "        download(name)"
   ],
   "metadata": {
    "collapsed": false
   }
  },
  {
   "cell_type": "code",
   "execution_count": 4,
   "outputs": [],
   "source": [
    "%matplotlib inline\n",
    "import numpy as np\n",
    "import pandas as pd\n",
    "import torch\n",
    "from torch import nn\n",
    "from d2l import torch as d2l"
   ],
   "metadata": {
    "collapsed": false
   }
  },
  {
   "cell_type": "code",
   "execution_count": 5,
   "outputs": [],
   "source": [
    "DATA_HUB['kaggle_house_train'] = (  #@save\n",
    "    DATA_URL + 'kaggle_house_pred_train.csv',\n",
    "    '585e9cc93e70b39160e7921475f9bcd7d31219ce')\n",
    "\n",
    "DATA_HUB['kaggle_house_test'] = (  #@save\n",
    "    DATA_URL + 'kaggle_house_pred_test.csv',\n",
    "    'fa19780a7b011d9b009e8bff8e99922a8ee2eb90')"
   ],
   "metadata": {
    "collapsed": false
   }
  },
  {
   "cell_type": "code",
   "execution_count": 6,
   "outputs": [],
   "source": [
    "train_data = pd.read_csv(download('kaggle_house_train'))\n",
    "test_data = pd.read_csv(download('kaggle_house_test'))"
   ],
   "metadata": {
    "collapsed": false
   }
  },
  {
   "cell_type": "code",
   "execution_count": 7,
   "outputs": [
    {
     "name": "stdout",
     "output_type": "stream",
     "text": [
      "(1460, 81)\n",
      "(1459, 80)\n"
     ]
    }
   ],
   "source": [
    "print(train_data.shape)\n",
    "print(test_data.shape)"
   ],
   "metadata": {
    "collapsed": false
   }
  },
  {
   "cell_type": "code",
   "execution_count": 8,
   "outputs": [
    {
     "name": "stdout",
     "output_type": "stream",
     "text": [
      "   Id  MSSubClass MSZoning  LotFrontage SaleType SaleCondition  SalePrice\n",
      "0   1          60       RL         65.0       WD        Normal     208500\n",
      "1   2          20       RL         80.0       WD        Normal     181500\n",
      "2   3          60       RL         68.0       WD        Normal     223500\n",
      "3   4          70       RL         60.0       WD       Abnorml     140000\n"
     ]
    }
   ],
   "source": [
    "print(train_data.iloc[0:4, [0, 1, 2, 3, -3, -2, -1]])"
   ],
   "metadata": {
    "collapsed": false
   }
  },
  {
   "cell_type": "code",
   "execution_count": 9,
   "outputs": [],
   "source": [
    "all_features = pd.concat((train_data.iloc[:, 1:-1], test_data.iloc[:, 1:]))"
   ],
   "metadata": {
    "collapsed": false
   }
  },
  {
   "cell_type": "code",
   "execution_count": 10,
   "outputs": [],
   "source": [
    "# 若无法获得测试数据，则可根据训练数据计算均值和标准差\n",
    "numeric_features = all_features.dtypes[all_features.dtypes != 'object'].index\n",
    "all_features[numeric_features] = all_features[numeric_features].apply(\n",
    "    lambda x: (x - x.mean()) / (x.std()))\n",
    "# 在标准化数据之后，所有均值消失，因此我们可以将缺失值设置为0\n",
    "all_features[numeric_features] = all_features[numeric_features].fillna(0)"
   ],
   "metadata": {
    "collapsed": false
   }
  },
  {
   "cell_type": "code",
   "execution_count": 11,
   "outputs": [
    {
     "data": {
      "text/plain": "(2919, 331)"
     },
     "execution_count": 11,
     "metadata": {},
     "output_type": "execute_result"
    }
   ],
   "source": [
    "# “Dummy_na=True”将“na”（缺失值）视为有效的特征值，并为其创建指示符特征\n",
    "all_features = pd.get_dummies(all_features, dummy_na=True)\n",
    "all_features.shape"
   ],
   "metadata": {
    "collapsed": false
   }
  },
  {
   "cell_type": "code",
   "execution_count": 12,
   "outputs": [],
   "source": [
    "n_train = train_data.shape[0]\n",
    "train_features = torch.tensor(all_features[:n_train].values, dtype=torch.float32)\n",
    "test_features = torch.tensor(all_features[n_train:].values, dtype=torch.float32)\n",
    "train_labels = torch.tensor(\n",
    "    train_data.SalePrice.values.reshape(-1, 1), dtype=torch.float32)"
   ],
   "metadata": {
    "collapsed": false
   }
  },
  {
   "cell_type": "code",
   "execution_count": 13,
   "outputs": [],
   "source": [
    "loss = nn.MSELoss()\n",
    "in_features = train_features.shape[1]\n",
    "\n",
    "def get_net():\n",
    "    net = nn.Sequential(nn.Flatten(),\n",
    "                        nn.Linear(in_features, 64),\n",
    "                        nn.ReLU(),\n",
    "                        nn.Linear(64, 64),\n",
    "                        nn.ReLU(),\n",
    "                        nn.Linear(64,1))\n",
    "    return net"
   ],
   "metadata": {
    "collapsed": false
   }
  },
  {
   "cell_type": "code",
   "execution_count": 14,
   "outputs": [],
   "source": [
    "def log_rmse(net, features, labels):\n",
    "    # 为了在取对数时进一步稳定该值，将小于1的值设置为1\n",
    "    clipped_preds = torch.clamp(net(features), 1, float('inf'))\n",
    "    rmse = torch.sqrt(loss(torch.log(clipped_preds),\n",
    "                           torch.log(labels)))\n",
    "    return rmse.item()"
   ],
   "metadata": {
    "collapsed": false
   }
  },
  {
   "cell_type": "code",
   "execution_count": 15,
   "outputs": [],
   "source": [
    "def train(net, train_features, train_labels, test_features, test_labels,\n",
    "          num_epochs, learning_rate, weight_decay, batch_size):\n",
    "    train_ls, test_ls = [], []\n",
    "    train_iter = d2l.load_array((train_features, train_labels), batch_size)\n",
    "    optimizer = torch.optim.Adam(net.parameters(),\n",
    "                                 lr = learning_rate,\n",
    "                                 weight_decay = weight_decay)\n",
    "    for epoch in range(num_epochs):\n",
    "        for X, y in train_iter:\n",
    "            optimizer.zero_grad()\n",
    "            l = loss(net(X), y)\n",
    "            l.backward()\n",
    "            optimizer.step()\n",
    "        train_ls.append(log_rmse(net, train_features, train_labels))\n",
    "        if test_labels is not None:\n",
    "            test_ls.append(log_rmse(net, test_features, test_labels))\n",
    "    return train_ls, test_ls"
   ],
   "metadata": {
    "collapsed": false
   }
  },
  {
   "cell_type": "code",
   "execution_count": 16,
   "outputs": [],
   "source": [
    "def get_k_fold_data(k, i, X, y):\n",
    "    assert k > 1\n",
    "    fold_size = X.shape[0] // k\n",
    "    X_train, y_train = None, None\n",
    "    for j in range(k):\n",
    "        idx = slice(j * fold_size, (j + 1) * fold_size)\n",
    "        X_part, y_part = X[idx, :], y[idx]\n",
    "        if j == i:\n",
    "            X_valid, y_valid = X_part, y_part\n",
    "        elif X_train is None:\n",
    "            X_train, y_train = X_part, y_part\n",
    "        else:\n",
    "            X_train = torch.cat([X_train, X_part], 0)\n",
    "            y_train = torch.cat([y_train, y_part], 0)\n",
    "    return X_train, y_train, X_valid, y_valid"
   ],
   "metadata": {
    "collapsed": false
   }
  },
  {
   "cell_type": "code",
   "execution_count": 17,
   "outputs": [],
   "source": [
    "def k_fold(k, X_train, y_train, num_epochs, learning_rate, weight_decay,\n",
    "           batch_size):\n",
    "    train_l_sum, valid_l_sum = 0, 0\n",
    "    for i in range(k):\n",
    "        data = get_k_fold_data(k, i, X_train, y_train)\n",
    "        net = get_net()\n",
    "        train_ls, valid_ls = train(net, *data, num_epochs, learning_rate,\n",
    "                                   weight_decay, batch_size)\n",
    "        train_l_sum += train_ls[-1]\n",
    "        valid_l_sum += valid_ls[-1]\n",
    "        if i == 0:\n",
    "            d2l.plot(list(range(1, num_epochs + 1)), [train_ls, valid_ls],\n",
    "                     xlabel='epoch', ylabel='rmse', xlim=[1, num_epochs],\n",
    "                     legend=['train', 'valid'], yscale='log')\n",
    "        print(f'折{i + 1}，训练log rmse{float(train_ls[-1]):f}, '\n",
    "              f'验证log rmse{float(valid_ls[-1]):f}')\n",
    "    return train_l_sum / k, valid_l_sum / k"
   ],
   "metadata": {
    "collapsed": false
   }
  },
  {
   "cell_type": "code",
   "execution_count": 18,
   "outputs": [
    {
     "name": "stdout",
     "output_type": "stream",
     "text": [
      "折1，训练log rmse0.397816, 验证log rmse0.181502\n",
      "折2，训练log rmse3.381221, 验证log rmse3.388969\n",
      "折3，训练log rmse0.113242, 验证log rmse0.195506\n",
      "折4，训练log rmse0.121207, 验证log rmse0.172281\n",
      "折5，训练log rmse0.117288, 验证log rmse0.184770\n",
      "5-折验证: 平均训练log rmse: 0.826155, 平均验证log rmse: 0.824606\n"
     ]
    },
    {
     "data": {
      "text/plain": "<Figure size 350x250 with 1 Axes>",
      "image/svg+xml": "<?xml version=\"1.0\" encoding=\"utf-8\" standalone=\"no\"?>\n<!DOCTYPE svg PUBLIC \"-//W3C//DTD SVG 1.1//EN\"\n  \"http://www.w3.org/Graphics/SVG/1.1/DTD/svg11.dtd\">\n<svg xmlns:xlink=\"http://www.w3.org/1999/xlink\" width=\"257.521875pt\" height=\"183.35625pt\" viewBox=\"0 0 257.521875 183.35625\" xmlns=\"http://www.w3.org/2000/svg\" version=\"1.1\">\n <metadata>\n  <rdf:RDF xmlns:dc=\"http://purl.org/dc/elements/1.1/\" xmlns:cc=\"http://creativecommons.org/ns#\" xmlns:rdf=\"http://www.w3.org/1999/02/22-rdf-syntax-ns#\">\n   <cc:Work>\n    <dc:type rdf:resource=\"http://purl.org/dc/dcmitype/StillImage\"/>\n    <dc:date>2023-03-05T21:27:52.034716</dc:date>\n    <dc:format>image/svg+xml</dc:format>\n    <dc:creator>\n     <cc:Agent>\n      <dc:title>Matplotlib v3.5.1, https://matplotlib.org/</dc:title>\n     </cc:Agent>\n    </dc:creator>\n   </cc:Work>\n  </rdf:RDF>\n </metadata>\n <defs>\n  <style type=\"text/css\">*{stroke-linejoin: round; stroke-linecap: butt}</style>\n </defs>\n <g id=\"figure_1\">\n  <g id=\"patch_1\">\n   <path d=\"M 0 183.35625 \nL 257.521875 183.35625 \nL 257.521875 0 \nL 0 0 \nz\n\" style=\"fill: #ffffff\"/>\n  </g>\n  <g id=\"axes_1\">\n   <g id=\"patch_2\">\n    <path d=\"M 45.478125 145.8 \nL 240.778125 145.8 \nL 240.778125 7.2 \nL 45.478125 7.2 \nz\n\" style=\"fill: #ffffff\"/>\n   </g>\n   <g id=\"matplotlib.axis_1\">\n    <g id=\"xtick_1\">\n     <g id=\"line2d_1\">\n      <path d=\"M 93.56707 145.8 \nL 93.56707 7.2 \n\" clip-path=\"url(#paf355f3ea4)\" style=\"fill: none; stroke: #b0b0b0; stroke-width: 0.8; stroke-linecap: square\"/>\n     </g>\n     <g id=\"line2d_2\">\n      <defs>\n       <path id=\"m66731d6101\" d=\"M 0 0 \nL 0 3.5 \n\" style=\"stroke: #000000; stroke-width: 0.8\"/>\n      </defs>\n      <g>\n       <use xlink:href=\"#m66731d6101\" x=\"93.56707\" y=\"145.8\" style=\"stroke: #000000; stroke-width: 0.8\"/>\n      </g>\n     </g>\n     <g id=\"text_1\">\n      <!-- 50 -->\n      <g transform=\"translate(87.20457 160.398438)scale(0.1 -0.1)\">\n       <defs>\n        <path id=\"DejaVuSans-35\" d=\"M 691 4666 \nL 3169 4666 \nL 3169 4134 \nL 1269 4134 \nL 1269 2991 \nQ 1406 3038 1543 3061 \nQ 1681 3084 1819 3084 \nQ 2600 3084 3056 2656 \nQ 3513 2228 3513 1497 \nQ 3513 744 3044 326 \nQ 2575 -91 1722 -91 \nQ 1428 -91 1123 -41 \nQ 819 9 494 109 \nL 494 744 \nQ 775 591 1075 516 \nQ 1375 441 1709 441 \nQ 2250 441 2565 725 \nQ 2881 1009 2881 1497 \nQ 2881 1984 2565 2268 \nQ 2250 2553 1709 2553 \nQ 1456 2553 1204 2497 \nQ 953 2441 691 2322 \nL 691 4666 \nz\n\" transform=\"scale(0.015625)\"/>\n        <path id=\"DejaVuSans-30\" d=\"M 2034 4250 \nQ 1547 4250 1301 3770 \nQ 1056 3291 1056 2328 \nQ 1056 1369 1301 889 \nQ 1547 409 2034 409 \nQ 2525 409 2770 889 \nQ 3016 1369 3016 2328 \nQ 3016 3291 2770 3770 \nQ 2525 4250 2034 4250 \nz\nM 2034 4750 \nQ 2819 4750 3233 4129 \nQ 3647 3509 3647 2328 \nQ 3647 1150 3233 529 \nQ 2819 -91 2034 -91 \nQ 1250 -91 836 529 \nQ 422 1150 422 2328 \nQ 422 3509 836 4129 \nQ 1250 4750 2034 4750 \nz\n\" transform=\"scale(0.015625)\"/>\n       </defs>\n       <use xlink:href=\"#DejaVuSans-35\"/>\n       <use xlink:href=\"#DejaVuSans-30\" x=\"63.623047\"/>\n      </g>\n     </g>\n    </g>\n    <g id=\"xtick_2\">\n     <g id=\"line2d_3\">\n      <path d=\"M 142.637421 145.8 \nL 142.637421 7.2 \n\" clip-path=\"url(#paf355f3ea4)\" style=\"fill: none; stroke: #b0b0b0; stroke-width: 0.8; stroke-linecap: square\"/>\n     </g>\n     <g id=\"line2d_4\">\n      <g>\n       <use xlink:href=\"#m66731d6101\" x=\"142.637421\" y=\"145.8\" style=\"stroke: #000000; stroke-width: 0.8\"/>\n      </g>\n     </g>\n     <g id=\"text_2\">\n      <!-- 100 -->\n      <g transform=\"translate(133.093671 160.398438)scale(0.1 -0.1)\">\n       <defs>\n        <path id=\"DejaVuSans-31\" d=\"M 794 531 \nL 1825 531 \nL 1825 4091 \nL 703 3866 \nL 703 4441 \nL 1819 4666 \nL 2450 4666 \nL 2450 531 \nL 3481 531 \nL 3481 0 \nL 794 0 \nL 794 531 \nz\n\" transform=\"scale(0.015625)\"/>\n       </defs>\n       <use xlink:href=\"#DejaVuSans-31\"/>\n       <use xlink:href=\"#DejaVuSans-30\" x=\"63.623047\"/>\n       <use xlink:href=\"#DejaVuSans-30\" x=\"127.246094\"/>\n      </g>\n     </g>\n    </g>\n    <g id=\"xtick_3\">\n     <g id=\"line2d_5\">\n      <path d=\"M 191.707773 145.8 \nL 191.707773 7.2 \n\" clip-path=\"url(#paf355f3ea4)\" style=\"fill: none; stroke: #b0b0b0; stroke-width: 0.8; stroke-linecap: square\"/>\n     </g>\n     <g id=\"line2d_6\">\n      <g>\n       <use xlink:href=\"#m66731d6101\" x=\"191.707773\" y=\"145.8\" style=\"stroke: #000000; stroke-width: 0.8\"/>\n      </g>\n     </g>\n     <g id=\"text_3\">\n      <!-- 150 -->\n      <g transform=\"translate(182.164023 160.398438)scale(0.1 -0.1)\">\n       <use xlink:href=\"#DejaVuSans-31\"/>\n       <use xlink:href=\"#DejaVuSans-35\" x=\"63.623047\"/>\n       <use xlink:href=\"#DejaVuSans-30\" x=\"127.246094\"/>\n      </g>\n     </g>\n    </g>\n    <g id=\"xtick_4\">\n     <g id=\"line2d_7\">\n      <path d=\"M 240.778125 145.8 \nL 240.778125 7.2 \n\" clip-path=\"url(#paf355f3ea4)\" style=\"fill: none; stroke: #b0b0b0; stroke-width: 0.8; stroke-linecap: square\"/>\n     </g>\n     <g id=\"line2d_8\">\n      <g>\n       <use xlink:href=\"#m66731d6101\" x=\"240.778125\" y=\"145.8\" style=\"stroke: #000000; stroke-width: 0.8\"/>\n      </g>\n     </g>\n     <g id=\"text_4\">\n      <!-- 200 -->\n      <g transform=\"translate(231.234375 160.398438)scale(0.1 -0.1)\">\n       <defs>\n        <path id=\"DejaVuSans-32\" d=\"M 1228 531 \nL 3431 531 \nL 3431 0 \nL 469 0 \nL 469 531 \nQ 828 903 1448 1529 \nQ 2069 2156 2228 2338 \nQ 2531 2678 2651 2914 \nQ 2772 3150 2772 3378 \nQ 2772 3750 2511 3984 \nQ 2250 4219 1831 4219 \nQ 1534 4219 1204 4116 \nQ 875 4013 500 3803 \nL 500 4441 \nQ 881 4594 1212 4672 \nQ 1544 4750 1819 4750 \nQ 2544 4750 2975 4387 \nQ 3406 4025 3406 3419 \nQ 3406 3131 3298 2873 \nQ 3191 2616 2906 2266 \nQ 2828 2175 2409 1742 \nQ 1991 1309 1228 531 \nz\n\" transform=\"scale(0.015625)\"/>\n       </defs>\n       <use xlink:href=\"#DejaVuSans-32\"/>\n       <use xlink:href=\"#DejaVuSans-30\" x=\"63.623047\"/>\n       <use xlink:href=\"#DejaVuSans-30\" x=\"127.246094\"/>\n      </g>\n     </g>\n    </g>\n    <g id=\"text_5\">\n     <!-- epoch -->\n     <g transform=\"translate(127.9 174.076563)scale(0.1 -0.1)\">\n      <defs>\n       <path id=\"DejaVuSans-65\" d=\"M 3597 1894 \nL 3597 1613 \nL 953 1613 \nQ 991 1019 1311 708 \nQ 1631 397 2203 397 \nQ 2534 397 2845 478 \nQ 3156 559 3463 722 \nL 3463 178 \nQ 3153 47 2828 -22 \nQ 2503 -91 2169 -91 \nQ 1331 -91 842 396 \nQ 353 884 353 1716 \nQ 353 2575 817 3079 \nQ 1281 3584 2069 3584 \nQ 2775 3584 3186 3129 \nQ 3597 2675 3597 1894 \nz\nM 3022 2063 \nQ 3016 2534 2758 2815 \nQ 2500 3097 2075 3097 \nQ 1594 3097 1305 2825 \nQ 1016 2553 972 2059 \nL 3022 2063 \nz\n\" transform=\"scale(0.015625)\"/>\n       <path id=\"DejaVuSans-70\" d=\"M 1159 525 \nL 1159 -1331 \nL 581 -1331 \nL 581 3500 \nL 1159 3500 \nL 1159 2969 \nQ 1341 3281 1617 3432 \nQ 1894 3584 2278 3584 \nQ 2916 3584 3314 3078 \nQ 3713 2572 3713 1747 \nQ 3713 922 3314 415 \nQ 2916 -91 2278 -91 \nQ 1894 -91 1617 61 \nQ 1341 213 1159 525 \nz\nM 3116 1747 \nQ 3116 2381 2855 2742 \nQ 2594 3103 2138 3103 \nQ 1681 3103 1420 2742 \nQ 1159 2381 1159 1747 \nQ 1159 1113 1420 752 \nQ 1681 391 2138 391 \nQ 2594 391 2855 752 \nQ 3116 1113 3116 1747 \nz\n\" transform=\"scale(0.015625)\"/>\n       <path id=\"DejaVuSans-6f\" d=\"M 1959 3097 \nQ 1497 3097 1228 2736 \nQ 959 2375 959 1747 \nQ 959 1119 1226 758 \nQ 1494 397 1959 397 \nQ 2419 397 2687 759 \nQ 2956 1122 2956 1747 \nQ 2956 2369 2687 2733 \nQ 2419 3097 1959 3097 \nz\nM 1959 3584 \nQ 2709 3584 3137 3096 \nQ 3566 2609 3566 1747 \nQ 3566 888 3137 398 \nQ 2709 -91 1959 -91 \nQ 1206 -91 779 398 \nQ 353 888 353 1747 \nQ 353 2609 779 3096 \nQ 1206 3584 1959 3584 \nz\n\" transform=\"scale(0.015625)\"/>\n       <path id=\"DejaVuSans-63\" d=\"M 3122 3366 \nL 3122 2828 \nQ 2878 2963 2633 3030 \nQ 2388 3097 2138 3097 \nQ 1578 3097 1268 2742 \nQ 959 2388 959 1747 \nQ 959 1106 1268 751 \nQ 1578 397 2138 397 \nQ 2388 397 2633 464 \nQ 2878 531 3122 666 \nL 3122 134 \nQ 2881 22 2623 -34 \nQ 2366 -91 2075 -91 \nQ 1284 -91 818 406 \nQ 353 903 353 1747 \nQ 353 2603 823 3093 \nQ 1294 3584 2113 3584 \nQ 2378 3584 2631 3529 \nQ 2884 3475 3122 3366 \nz\n\" transform=\"scale(0.015625)\"/>\n       <path id=\"DejaVuSans-68\" d=\"M 3513 2113 \nL 3513 0 \nL 2938 0 \nL 2938 2094 \nQ 2938 2591 2744 2837 \nQ 2550 3084 2163 3084 \nQ 1697 3084 1428 2787 \nQ 1159 2491 1159 1978 \nL 1159 0 \nL 581 0 \nL 581 4863 \nL 1159 4863 \nL 1159 2956 \nQ 1366 3272 1645 3428 \nQ 1925 3584 2291 3584 \nQ 2894 3584 3203 3211 \nQ 3513 2838 3513 2113 \nz\n\" transform=\"scale(0.015625)\"/>\n      </defs>\n      <use xlink:href=\"#DejaVuSans-65\"/>\n      <use xlink:href=\"#DejaVuSans-70\" x=\"61.523438\"/>\n      <use xlink:href=\"#DejaVuSans-6f\" x=\"125\"/>\n      <use xlink:href=\"#DejaVuSans-63\" x=\"186.181641\"/>\n      <use xlink:href=\"#DejaVuSans-68\" x=\"241.162109\"/>\n     </g>\n    </g>\n   </g>\n   <g id=\"matplotlib.axis_2\">\n    <g id=\"ytick_1\">\n     <g id=\"line2d_9\">\n      <path d=\"M 45.478125 83.677908 \nL 240.778125 83.677908 \n\" clip-path=\"url(#paf355f3ea4)\" style=\"fill: none; stroke: #b0b0b0; stroke-width: 0.8; stroke-linecap: square\"/>\n     </g>\n     <g id=\"line2d_10\">\n      <defs>\n       <path id=\"m87b9017e3b\" d=\"M 0 0 \nL -3.5 0 \n\" style=\"stroke: #000000; stroke-width: 0.8\"/>\n      </defs>\n      <g>\n       <use xlink:href=\"#m87b9017e3b\" x=\"45.478125\" y=\"83.677908\" style=\"stroke: #000000; stroke-width: 0.8\"/>\n      </g>\n     </g>\n     <g id=\"text_6\">\n      <!-- $\\mathdefault{10^{0}}$ -->\n      <g transform=\"translate(20.878125 87.477126)scale(0.1 -0.1)\">\n       <use xlink:href=\"#DejaVuSans-31\" transform=\"translate(0 0.765625)\"/>\n       <use xlink:href=\"#DejaVuSans-30\" transform=\"translate(63.623047 0.765625)\"/>\n       <use xlink:href=\"#DejaVuSans-30\" transform=\"translate(128.203125 39.046875)scale(0.7)\"/>\n      </g>\n     </g>\n    </g>\n    <g id=\"ytick_2\">\n     <g id=\"line2d_11\">\n      <path d=\"M 45.478125 17.316594 \nL 240.778125 17.316594 \n\" clip-path=\"url(#paf355f3ea4)\" style=\"fill: none; stroke: #b0b0b0; stroke-width: 0.8; stroke-linecap: square\"/>\n     </g>\n     <g id=\"line2d_12\">\n      <g>\n       <use xlink:href=\"#m87b9017e3b\" x=\"45.478125\" y=\"17.316594\" style=\"stroke: #000000; stroke-width: 0.8\"/>\n      </g>\n     </g>\n     <g id=\"text_7\">\n      <!-- $\\mathdefault{10^{1}}$ -->\n      <g transform=\"translate(20.878125 21.115813)scale(0.1 -0.1)\">\n       <use xlink:href=\"#DejaVuSans-31\" transform=\"translate(0 0.684375)\"/>\n       <use xlink:href=\"#DejaVuSans-30\" transform=\"translate(63.623047 0.684375)\"/>\n       <use xlink:href=\"#DejaVuSans-31\" transform=\"translate(128.203125 38.965625)scale(0.7)\"/>\n      </g>\n     </g>\n    </g>\n    <g id=\"ytick_3\">\n     <g id=\"line2d_13\">\n      <defs>\n       <path id=\"md8f20ef0ae\" d=\"M 0 0 \nL -2 0 \n\" style=\"stroke: #000000; stroke-width: 0.6\"/>\n      </defs>\n      <g>\n       <use xlink:href=\"#md8f20ef0ae\" x=\"45.478125\" y=\"130.062475\" style=\"stroke: #000000; stroke-width: 0.6\"/>\n      </g>\n     </g>\n    </g>\n    <g id=\"ytick_4\">\n     <g id=\"line2d_14\">\n      <g>\n       <use xlink:href=\"#md8f20ef0ae\" x=\"45.478125\" y=\"118.376828\" style=\"stroke: #000000; stroke-width: 0.6\"/>\n      </g>\n     </g>\n    </g>\n    <g id=\"ytick_5\">\n     <g id=\"line2d_15\">\n      <g>\n       <use xlink:href=\"#md8f20ef0ae\" x=\"45.478125\" y=\"110.085729\" style=\"stroke: #000000; stroke-width: 0.6\"/>\n      </g>\n     </g>\n    </g>\n    <g id=\"ytick_6\">\n     <g id=\"line2d_16\">\n      <g>\n       <use xlink:href=\"#md8f20ef0ae\" x=\"45.478125\" y=\"103.654653\" style=\"stroke: #000000; stroke-width: 0.6\"/>\n      </g>\n     </g>\n    </g>\n    <g id=\"ytick_7\">\n     <g id=\"line2d_17\">\n      <g>\n       <use xlink:href=\"#md8f20ef0ae\" x=\"45.478125\" y=\"98.400082\" style=\"stroke: #000000; stroke-width: 0.6\"/>\n      </g>\n     </g>\n    </g>\n    <g id=\"ytick_8\">\n     <g id=\"line2d_18\">\n      <g>\n       <use xlink:href=\"#md8f20ef0ae\" x=\"45.478125\" y=\"93.957405\" style=\"stroke: #000000; stroke-width: 0.6\"/>\n      </g>\n     </g>\n    </g>\n    <g id=\"ytick_9\">\n     <g id=\"line2d_19\">\n      <g>\n       <use xlink:href=\"#md8f20ef0ae\" x=\"45.478125\" y=\"90.108983\" style=\"stroke: #000000; stroke-width: 0.6\"/>\n      </g>\n     </g>\n    </g>\n    <g id=\"ytick_10\">\n     <g id=\"line2d_20\">\n      <g>\n       <use xlink:href=\"#md8f20ef0ae\" x=\"45.478125\" y=\"86.714435\" style=\"stroke: #000000; stroke-width: 0.6\"/>\n      </g>\n     </g>\n    </g>\n    <g id=\"ytick_11\">\n     <g id=\"line2d_21\">\n      <g>\n       <use xlink:href=\"#md8f20ef0ae\" x=\"45.478125\" y=\"63.701162\" style=\"stroke: #000000; stroke-width: 0.6\"/>\n      </g>\n     </g>\n    </g>\n    <g id=\"ytick_12\">\n     <g id=\"line2d_22\">\n      <g>\n       <use xlink:href=\"#md8f20ef0ae\" x=\"45.478125\" y=\"52.015515\" style=\"stroke: #000000; stroke-width: 0.6\"/>\n      </g>\n     </g>\n    </g>\n    <g id=\"ytick_13\">\n     <g id=\"line2d_23\">\n      <g>\n       <use xlink:href=\"#md8f20ef0ae\" x=\"45.478125\" y=\"43.724416\" style=\"stroke: #000000; stroke-width: 0.6\"/>\n      </g>\n     </g>\n    </g>\n    <g id=\"ytick_14\">\n     <g id=\"line2d_24\">\n      <g>\n       <use xlink:href=\"#md8f20ef0ae\" x=\"45.478125\" y=\"37.29334\" style=\"stroke: #000000; stroke-width: 0.6\"/>\n      </g>\n     </g>\n    </g>\n    <g id=\"ytick_15\">\n     <g id=\"line2d_25\">\n      <g>\n       <use xlink:href=\"#md8f20ef0ae\" x=\"45.478125\" y=\"32.038769\" style=\"stroke: #000000; stroke-width: 0.6\"/>\n      </g>\n     </g>\n    </g>\n    <g id=\"ytick_16\">\n     <g id=\"line2d_26\">\n      <g>\n       <use xlink:href=\"#md8f20ef0ae\" x=\"45.478125\" y=\"27.596092\" style=\"stroke: #000000; stroke-width: 0.6\"/>\n      </g>\n     </g>\n    </g>\n    <g id=\"ytick_17\">\n     <g id=\"line2d_27\">\n      <g>\n       <use xlink:href=\"#md8f20ef0ae\" x=\"45.478125\" y=\"23.74767\" style=\"stroke: #000000; stroke-width: 0.6\"/>\n      </g>\n     </g>\n    </g>\n    <g id=\"ytick_18\">\n     <g id=\"line2d_28\">\n      <g>\n       <use xlink:href=\"#md8f20ef0ae\" x=\"45.478125\" y=\"20.353122\" style=\"stroke: #000000; stroke-width: 0.6\"/>\n      </g>\n     </g>\n    </g>\n    <g id=\"text_8\">\n     <!-- rmse -->\n     <g transform=\"translate(14.798437 89.019531)rotate(-90)scale(0.1 -0.1)\">\n      <defs>\n       <path id=\"DejaVuSans-72\" d=\"M 2631 2963 \nQ 2534 3019 2420 3045 \nQ 2306 3072 2169 3072 \nQ 1681 3072 1420 2755 \nQ 1159 2438 1159 1844 \nL 1159 0 \nL 581 0 \nL 581 3500 \nL 1159 3500 \nL 1159 2956 \nQ 1341 3275 1631 3429 \nQ 1922 3584 2338 3584 \nQ 2397 3584 2469 3576 \nQ 2541 3569 2628 3553 \nL 2631 2963 \nz\n\" transform=\"scale(0.015625)\"/>\n       <path id=\"DejaVuSans-6d\" d=\"M 3328 2828 \nQ 3544 3216 3844 3400 \nQ 4144 3584 4550 3584 \nQ 5097 3584 5394 3201 \nQ 5691 2819 5691 2113 \nL 5691 0 \nL 5113 0 \nL 5113 2094 \nQ 5113 2597 4934 2840 \nQ 4756 3084 4391 3084 \nQ 3944 3084 3684 2787 \nQ 3425 2491 3425 1978 \nL 3425 0 \nL 2847 0 \nL 2847 2094 \nQ 2847 2600 2669 2842 \nQ 2491 3084 2119 3084 \nQ 1678 3084 1418 2786 \nQ 1159 2488 1159 1978 \nL 1159 0 \nL 581 0 \nL 581 3500 \nL 1159 3500 \nL 1159 2956 \nQ 1356 3278 1631 3431 \nQ 1906 3584 2284 3584 \nQ 2666 3584 2933 3390 \nQ 3200 3197 3328 2828 \nz\n\" transform=\"scale(0.015625)\"/>\n       <path id=\"DejaVuSans-73\" d=\"M 2834 3397 \nL 2834 2853 \nQ 2591 2978 2328 3040 \nQ 2066 3103 1784 3103 \nQ 1356 3103 1142 2972 \nQ 928 2841 928 2578 \nQ 928 2378 1081 2264 \nQ 1234 2150 1697 2047 \nL 1894 2003 \nQ 2506 1872 2764 1633 \nQ 3022 1394 3022 966 \nQ 3022 478 2636 193 \nQ 2250 -91 1575 -91 \nQ 1294 -91 989 -36 \nQ 684 19 347 128 \nL 347 722 \nQ 666 556 975 473 \nQ 1284 391 1588 391 \nQ 1994 391 2212 530 \nQ 2431 669 2431 922 \nQ 2431 1156 2273 1281 \nQ 2116 1406 1581 1522 \nL 1381 1569 \nQ 847 1681 609 1914 \nQ 372 2147 372 2553 \nQ 372 3047 722 3315 \nQ 1072 3584 1716 3584 \nQ 2034 3584 2315 3537 \nQ 2597 3491 2834 3397 \nz\n\" transform=\"scale(0.015625)\"/>\n      </defs>\n      <use xlink:href=\"#DejaVuSans-72\"/>\n      <use xlink:href=\"#DejaVuSans-6d\" x=\"39.363281\"/>\n      <use xlink:href=\"#DejaVuSans-73\" x=\"136.775391\"/>\n      <use xlink:href=\"#DejaVuSans-65\" x=\"188.875\"/>\n     </g>\n    </g>\n   </g>\n   <g id=\"line2d_29\">\n    <path d=\"M 45.478125 13.532044 \nL 46.459532 19.474742 \nL 47.440939 22.092849 \nL 48.422346 34.469033 \nL 49.403753 99.388877 \nL 50.38516 103.973039 \nL 51.366567 101.711353 \nL 52.347974 100.565163 \nL 53.329381 106.818919 \nL 55.292195 109.944112 \nL 56.273602 106.201623 \nL 57.255009 105.374066 \nL 58.236416 106.78057 \nL 59.217823 103.985869 \nL 60.199231 104.043654 \nL 61.180638 103.968101 \nL 62.162045 104.522205 \nL 63.143452 104.400797 \nL 64.124859 104.853898 \nL 65.106266 105.137865 \nL 66.087673 104.709035 \nL 67.06908 105.168446 \nL 69.031894 105.18654 \nL 70.013301 107.327599 \nL 70.994708 107.436209 \nL 72.957522 107.410442 \nL 73.938929 107.230974 \nL 74.920336 107.449058 \nL 75.901743 107.496073 \nL 76.88315 107.338845 \nL 77.864557 107.508657 \nL 78.845964 107.072197 \nL 79.827371 107.227435 \nL 80.808778 107.570093 \nL 82.771592 107.589158 \nL 83.752999 107.225243 \nL 84.734406 106.383684 \nL 86.69722 107.312808 \nL 87.678628 107.463957 \nL 88.660035 107.40818 \nL 89.641442 107.793246 \nL 91.604256 107.788255 \nL 92.585663 107.654142 \nL 93.56707 107.826386 \nL 94.548477 106.751839 \nL 95.529884 106.471774 \nL 96.511291 107.89083 \nL 97.492698 107.581879 \nL 98.474105 106.759257 \nL 99.455512 107.942006 \nL 100.436919 107.98024 \nL 101.418326 107.75592 \nL 102.399733 108.0231 \nL 106.325361 108.117451 \nL 108.288175 107.656209 \nL 109.269582 108.032901 \nL 111.232396 107.81407 \nL 112.213803 108.152211 \nL 113.19521 107.754215 \nL 114.176617 108.248464 \nL 122.027874 108.084312 \nL 123.009281 108.255432 \nL 123.990688 108.241583 \nL 124.972095 108.054714 \nL 125.953502 108.263322 \nL 126.934909 108.357335 \nL 127.916316 108.08903 \nL 128.897723 108.023464 \nL 129.87913 108.305171 \nL 132.823351 108.095769 \nL 133.804758 108.173937 \nL 134.786165 108.495316 \nL 135.767572 108.535478 \nL 136.748979 108.108822 \nL 138.711793 108.239265 \nL 139.6932 108.580165 \nL 140.674607 108.142635 \nL 142.637421 108.696242 \nL 143.618829 108.000309 \nL 144.600236 108.120874 \nL 145.581643 108.73606 \nL 147.544457 108.814015 \nL 148.525864 108.337303 \nL 149.507271 108.756043 \nL 150.488678 108.631676 \nL 151.470085 108.784087 \nL 153.432899 108.889233 \nL 154.414306 108.649552 \nL 155.395713 107.667741 \nL 156.37712 108.707521 \nL 157.358527 108.52062 \nL 158.339934 108.454197 \nL 159.321341 108.976022 \nL 160.302748 108.706393 \nL 161.284155 108.942726 \nL 163.246969 108.809877 \nL 164.228376 109.140044 \nL 166.19119 109.070738 \nL 167.172597 108.681482 \nL 168.154004 108.935828 \nL 169.135411 108.681963 \nL 170.116818 108.9719 \nL 171.098226 108.975927 \nL 172.079633 109.26805 \nL 175.023854 109.183663 \nL 176.005261 108.742355 \nL 176.986668 109.135868 \nL 177.968075 109.242892 \nL 178.949482 109.220907 \nL 179.930889 108.689942 \nL 180.912296 109.380627 \nL 181.893703 109.235387 \nL 182.87511 109.41886 \nL 183.856517 109.287207 \nL 184.837924 108.986671 \nL 185.819331 109.486418 \nL 190.726366 109.230365 \nL 191.707773 109.495989 \nL 192.68918 109.584178 \nL 193.670587 109.542147 \nL 195.633401 109.662908 \nL 196.614808 109.464838 \nL 198.577622 109.381888 \nL 199.55903 109.067844 \nL 200.540437 109.608477 \nL 201.521844 109.226722 \nL 202.503251 109.468411 \nL 203.484658 109.831288 \nL 204.466065 109.535832 \nL 205.447472 109.111829 \nL 206.428879 109.832795 \nL 207.410286 109.650581 \nL 208.391693 108.603828 \nL 209.3731 109.655488 \nL 210.354507 109.865505 \nL 212.317321 109.771594 \nL 213.298728 108.526083 \nL 214.280135 109.998985 \nL 216.242949 110.148061 \nL 217.224356 109.574107 \nL 218.205763 110.239823 \nL 219.18717 110.063794 \nL 220.168577 110.316956 \nL 223.112798 109.972074 \nL 224.094205 110.228149 \nL 225.075612 109.998105 \nL 226.057019 108.735109 \nL 227.038427 110.352469 \nL 228.019834 109.789335 \nL 229.001241 110.242476 \nL 229.982648 109.693804 \nL 230.964055 109.563155 \nL 231.945462 110.063388 \nL 232.926869 110.343816 \nL 233.908276 110.105112 \nL 234.889683 110.597997 \nL 235.87109 110.678549 \nL 237.833904 110.32847 \nL 238.815311 110.75717 \nL 239.796718 110.65756 \nL 240.778125 110.243545 \nL 240.778125 110.243545 \n\" clip-path=\"url(#paf355f3ea4)\" style=\"fill: none; stroke: #1f77b4; stroke-width: 1.5; stroke-linecap: square\"/>\n   </g>\n   <g id=\"line2d_30\">\n    <path d=\"M 45.478125 13.5 \nL 46.459532 19.435247 \nL 47.440939 22.136821 \nL 48.422346 34.299668 \nL 49.403753 108.488175 \nL 50.38516 119.190107 \nL 51.366567 106.63392 \nL 52.347974 106.856106 \nL 53.329381 111.801074 \nL 54.310788 125.591335 \nL 55.292195 130.107168 \nL 56.273602 130.275166 \nL 57.255009 123.492258 \nL 58.236416 130.969346 \nL 59.217823 135.462467 \nL 60.199231 136.579531 \nL 61.180638 134.674581 \nL 62.162045 134.968346 \nL 63.143452 134.574959 \nL 64.124859 134.545199 \nL 65.106266 137.870891 \nL 66.087673 136.069963 \nL 67.06908 138.075695 \nL 68.050487 138.234875 \nL 69.031894 137.96189 \nL 70.013301 139.234916 \nL 70.994708 138.82502 \nL 71.976115 138.223706 \nL 72.957522 138.0423 \nL 73.938929 136.283211 \nL 74.920336 139.5 \nL 75.901743 139.459166 \nL 76.88315 136.913025 \nL 77.864557 138.604436 \nL 78.845964 133.288474 \nL 79.827371 134.247962 \nL 80.808778 136.410804 \nL 81.790185 137.688625 \nL 82.771592 136.446157 \nL 83.752999 134.685938 \nL 84.734406 127.936496 \nL 85.715813 131.221944 \nL 86.69722 135.660343 \nL 88.660035 134.095755 \nL 89.641442 137.608483 \nL 90.622849 139.037514 \nL 91.604256 138.696962 \nL 92.585663 136.122598 \nL 93.56707 137.113141 \nL 94.548477 131.777371 \nL 95.529884 127.946431 \nL 96.511291 138.884935 \nL 97.492698 136.221498 \nL 98.474105 129.919977 \nL 99.455512 137.798514 \nL 100.436919 137.95483 \nL 101.418326 136.653314 \nL 102.399733 138.427554 \nL 103.38114 138.544499 \nL 104.362547 138.18247 \nL 105.343954 136.568893 \nL 106.325361 138.341281 \nL 107.306768 134.418285 \nL 108.288175 135.333743 \nL 109.269582 137.322481 \nL 110.250989 135.561585 \nL 111.232396 135.423535 \nL 112.213803 136.685712 \nL 113.19521 132.831641 \nL 114.176617 137.969079 \nL 115.158024 138.055456 \nL 116.139432 137.643183 \nL 117.120839 136.134949 \nL 118.102246 136.295718 \nL 119.083653 137.36268 \nL 120.06506 136.762905 \nL 122.027874 134.854688 \nL 123.009281 137.155639 \nL 123.990688 136.615609 \nL 124.972095 136.516394 \nL 125.953502 137.069085 \nL 126.934909 138.270107 \nL 127.916316 134.560516 \nL 128.897723 134.86532 \nL 129.87913 136.547098 \nL 130.860537 137.449472 \nL 131.841944 136.84662 \nL 132.823351 135.858098 \nL 133.804758 134.123361 \nL 134.786165 136.349432 \nL 135.767572 137.313117 \nL 136.748979 134.620428 \nL 137.730386 134.103815 \nL 138.711793 133.11337 \nL 139.6932 137.801519 \nL 140.674607 135.023448 \nL 141.656014 136.506484 \nL 142.637421 137.418485 \nL 143.618829 133.355954 \nL 144.600236 132.199222 \nL 145.581643 136.07674 \nL 146.56305 136.976402 \nL 147.544457 138.458404 \nL 148.525864 133.903485 \nL 149.507271 137.539152 \nL 150.488678 134.723469 \nL 151.470085 137.174181 \nL 152.451492 136.467744 \nL 153.432899 137.514925 \nL 154.414306 135.923089 \nL 155.395713 128.586289 \nL 156.37712 135.105946 \nL 157.358527 135.62736 \nL 158.339934 133.227878 \nL 159.321341 136.014634 \nL 160.302748 135.888716 \nL 161.284155 136.371931 \nL 162.265562 136.160823 \nL 163.246969 134.337301 \nL 164.228376 137.079631 \nL 165.209783 136.225117 \nL 166.19119 136.709806 \nL 167.172597 132.984281 \nL 168.154004 134.677764 \nL 169.135411 131.561292 \nL 170.116818 135.416853 \nL 171.098226 135.311321 \nL 172.079633 137.738198 \nL 173.06104 135.59443 \nL 174.042447 135.435453 \nL 175.023854 135.475574 \nL 176.005261 132.693598 \nL 177.968075 137.433631 \nL 178.949482 135.912028 \nL 179.930889 133.649689 \nL 180.912296 136.748585 \nL 181.893703 135.434687 \nL 182.87511 137.739247 \nL 183.856517 135.345319 \nL 184.837924 132.574359 \nL 185.819331 137.300152 \nL 186.800738 138.275306 \nL 187.782145 138.808599 \nL 188.763552 136.400651 \nL 189.744959 135.923302 \nL 190.726366 134.615464 \nL 191.707773 136.65459 \nL 192.68918 137.935635 \nL 193.670587 136.804936 \nL 194.651994 136.892277 \nL 195.633401 136.829018 \nL 196.614808 135.650165 \nL 197.596215 135.475232 \nL 198.577622 135.413308 \nL 199.55903 132.344844 \nL 200.540437 134.095565 \nL 201.521844 133.995949 \nL 202.503251 134.575632 \nL 203.484658 137.564326 \nL 204.466065 132.602745 \nL 205.447472 133.189321 \nL 206.428879 134.985499 \nL 207.410286 135.255771 \nL 208.391693 128.265965 \nL 209.3731 133.447113 \nL 210.354507 135.493107 \nL 211.335914 135.163559 \nL 212.317321 135.279913 \nL 213.298728 125.824064 \nL 214.280135 134.828891 \nL 215.261542 136.066094 \nL 216.242949 136.525585 \nL 217.224356 133.51195 \nL 218.205763 136.453505 \nL 219.18717 134.089574 \nL 220.168577 137.128003 \nL 221.149984 134.252419 \nL 222.131391 136.451736 \nL 223.112798 133.246702 \nL 224.094205 134.790937 \nL 225.075612 134.050395 \nL 226.057019 128.966075 \nL 227.038427 135.134901 \nL 228.019834 131.522147 \nL 229.001241 134.229349 \nL 229.982648 131.287719 \nL 230.964055 131.969148 \nL 231.945462 135.137981 \nL 232.926869 135.861357 \nL 233.908276 133.296241 \nL 234.889683 134.0585 \nL 235.87109 136.660105 \nL 236.852497 135.259117 \nL 237.833904 133.229668 \nL 238.815311 137.177677 \nL 239.796718 136.412683 \nL 240.778125 132.859543 \nL 240.778125 132.859543 \n\" clip-path=\"url(#paf355f3ea4)\" style=\"fill: none; stroke-dasharray: 5.55,2.4; stroke-dashoffset: 0; stroke: #bf00bf; stroke-width: 1.5\"/>\n   </g>\n   <g id=\"patch_3\">\n    <path d=\"M 45.478125 145.8 \nL 45.478125 7.2 \n\" style=\"fill: none; stroke: #000000; stroke-width: 0.8; stroke-linejoin: miter; stroke-linecap: square\"/>\n   </g>\n   <g id=\"patch_4\">\n    <path d=\"M 240.778125 145.8 \nL 240.778125 7.2 \n\" style=\"fill: none; stroke: #000000; stroke-width: 0.8; stroke-linejoin: miter; stroke-linecap: square\"/>\n   </g>\n   <g id=\"patch_5\">\n    <path d=\"M 45.478125 145.8 \nL 240.778125 145.8 \n\" style=\"fill: none; stroke: #000000; stroke-width: 0.8; stroke-linejoin: miter; stroke-linecap: square\"/>\n   </g>\n   <g id=\"patch_6\">\n    <path d=\"M 45.478125 7.2 \nL 240.778125 7.2 \n\" style=\"fill: none; stroke: #000000; stroke-width: 0.8; stroke-linejoin: miter; stroke-linecap: square\"/>\n   </g>\n   <g id=\"legend_1\">\n    <g id=\"patch_7\">\n     <path d=\"M 177.826562 44.55625 \nL 233.778125 44.55625 \nQ 235.778125 44.55625 235.778125 42.55625 \nL 235.778125 14.2 \nQ 235.778125 12.2 233.778125 12.2 \nL 177.826562 12.2 \nQ 175.826562 12.2 175.826562 14.2 \nL 175.826562 42.55625 \nQ 175.826562 44.55625 177.826562 44.55625 \nz\n\" style=\"fill: #ffffff; opacity: 0.8; stroke: #cccccc; stroke-linejoin: miter\"/>\n    </g>\n    <g id=\"line2d_31\">\n     <path d=\"M 179.826562 20.298438 \nL 189.826562 20.298438 \nL 199.826562 20.298438 \n\" style=\"fill: none; stroke: #1f77b4; stroke-width: 1.5; stroke-linecap: square\"/>\n    </g>\n    <g id=\"text_9\">\n     <!-- train -->\n     <g transform=\"translate(207.826562 23.798438)scale(0.1 -0.1)\">\n      <defs>\n       <path id=\"DejaVuSans-74\" d=\"M 1172 4494 \nL 1172 3500 \nL 2356 3500 \nL 2356 3053 \nL 1172 3053 \nL 1172 1153 \nQ 1172 725 1289 603 \nQ 1406 481 1766 481 \nL 2356 481 \nL 2356 0 \nL 1766 0 \nQ 1100 0 847 248 \nQ 594 497 594 1153 \nL 594 3053 \nL 172 3053 \nL 172 3500 \nL 594 3500 \nL 594 4494 \nL 1172 4494 \nz\n\" transform=\"scale(0.015625)\"/>\n       <path id=\"DejaVuSans-61\" d=\"M 2194 1759 \nQ 1497 1759 1228 1600 \nQ 959 1441 959 1056 \nQ 959 750 1161 570 \nQ 1363 391 1709 391 \nQ 2188 391 2477 730 \nQ 2766 1069 2766 1631 \nL 2766 1759 \nL 2194 1759 \nz\nM 3341 1997 \nL 3341 0 \nL 2766 0 \nL 2766 531 \nQ 2569 213 2275 61 \nQ 1981 -91 1556 -91 \nQ 1019 -91 701 211 \nQ 384 513 384 1019 \nQ 384 1609 779 1909 \nQ 1175 2209 1959 2209 \nL 2766 2209 \nL 2766 2266 \nQ 2766 2663 2505 2880 \nQ 2244 3097 1772 3097 \nQ 1472 3097 1187 3025 \nQ 903 2953 641 2809 \nL 641 3341 \nQ 956 3463 1253 3523 \nQ 1550 3584 1831 3584 \nQ 2591 3584 2966 3190 \nQ 3341 2797 3341 1997 \nz\n\" transform=\"scale(0.015625)\"/>\n       <path id=\"DejaVuSans-69\" d=\"M 603 3500 \nL 1178 3500 \nL 1178 0 \nL 603 0 \nL 603 3500 \nz\nM 603 4863 \nL 1178 4863 \nL 1178 4134 \nL 603 4134 \nL 603 4863 \nz\n\" transform=\"scale(0.015625)\"/>\n       <path id=\"DejaVuSans-6e\" d=\"M 3513 2113 \nL 3513 0 \nL 2938 0 \nL 2938 2094 \nQ 2938 2591 2744 2837 \nQ 2550 3084 2163 3084 \nQ 1697 3084 1428 2787 \nQ 1159 2491 1159 1978 \nL 1159 0 \nL 581 0 \nL 581 3500 \nL 1159 3500 \nL 1159 2956 \nQ 1366 3272 1645 3428 \nQ 1925 3584 2291 3584 \nQ 2894 3584 3203 3211 \nQ 3513 2838 3513 2113 \nz\n\" transform=\"scale(0.015625)\"/>\n      </defs>\n      <use xlink:href=\"#DejaVuSans-74\"/>\n      <use xlink:href=\"#DejaVuSans-72\" x=\"39.208984\"/>\n      <use xlink:href=\"#DejaVuSans-61\" x=\"80.322266\"/>\n      <use xlink:href=\"#DejaVuSans-69\" x=\"141.601562\"/>\n      <use xlink:href=\"#DejaVuSans-6e\" x=\"169.384766\"/>\n     </g>\n    </g>\n    <g id=\"line2d_32\">\n     <path d=\"M 179.826562 34.976562 \nL 189.826562 34.976562 \nL 199.826562 34.976562 \n\" style=\"fill: none; stroke-dasharray: 5.55,2.4; stroke-dashoffset: 0; stroke: #bf00bf; stroke-width: 1.5\"/>\n    </g>\n    <g id=\"text_10\">\n     <!-- valid -->\n     <g transform=\"translate(207.826562 38.476562)scale(0.1 -0.1)\">\n      <defs>\n       <path id=\"DejaVuSans-76\" d=\"M 191 3500 \nL 800 3500 \nL 1894 563 \nL 2988 3500 \nL 3597 3500 \nL 2284 0 \nL 1503 0 \nL 191 3500 \nz\n\" transform=\"scale(0.015625)\"/>\n       <path id=\"DejaVuSans-6c\" d=\"M 603 4863 \nL 1178 4863 \nL 1178 0 \nL 603 0 \nL 603 4863 \nz\n\" transform=\"scale(0.015625)\"/>\n       <path id=\"DejaVuSans-64\" d=\"M 2906 2969 \nL 2906 4863 \nL 3481 4863 \nL 3481 0 \nL 2906 0 \nL 2906 525 \nQ 2725 213 2448 61 \nQ 2172 -91 1784 -91 \nQ 1150 -91 751 415 \nQ 353 922 353 1747 \nQ 353 2572 751 3078 \nQ 1150 3584 1784 3584 \nQ 2172 3584 2448 3432 \nQ 2725 3281 2906 2969 \nz\nM 947 1747 \nQ 947 1113 1208 752 \nQ 1469 391 1925 391 \nQ 2381 391 2643 752 \nQ 2906 1113 2906 1747 \nQ 2906 2381 2643 2742 \nQ 2381 3103 1925 3103 \nQ 1469 3103 1208 2742 \nQ 947 2381 947 1747 \nz\n\" transform=\"scale(0.015625)\"/>\n      </defs>\n      <use xlink:href=\"#DejaVuSans-76\"/>\n      <use xlink:href=\"#DejaVuSans-61\" x=\"59.179688\"/>\n      <use xlink:href=\"#DejaVuSans-6c\" x=\"120.458984\"/>\n      <use xlink:href=\"#DejaVuSans-69\" x=\"148.242188\"/>\n      <use xlink:href=\"#DejaVuSans-64\" x=\"176.025391\"/>\n     </g>\n    </g>\n   </g>\n  </g>\n </g>\n <defs>\n  <clipPath id=\"paf355f3ea4\">\n   <rect x=\"45.478125\" y=\"7.2\" width=\"195.3\" height=\"138.6\"/>\n  </clipPath>\n </defs>\n</svg>\n"
     },
     "metadata": {},
     "output_type": "display_data"
    }
   ],
   "source": [
    "k, num_epochs, lr, weight_decay, batch_size = 5, 200, 3, 0, 128\n",
    "train_l, valid_l = k_fold(k, train_features, train_labels, num_epochs, lr,\n",
    "                          weight_decay, batch_size)\n",
    "print(f'{k}-折验证: 平均训练log rmse: {float(train_l):f}, '\n",
    "      f'平均验证log rmse: {float(valid_l):f}')"
   ],
   "metadata": {
    "collapsed": false
   }
  },
  {
   "cell_type": "code",
   "execution_count": 19,
   "outputs": [],
   "source": [
    "def train_and_pred(train_features, test_features, train_labels, test_data,\n",
    "                   num_epochs, lr, weight_decay, batch_size):\n",
    "    net = get_net()\n",
    "    train_ls, _ = train(net, train_features, train_labels, None, None,\n",
    "                        num_epochs, lr, weight_decay, batch_size)\n",
    "    d2l.plot(np.arange(1, num_epochs + 1), [train_ls], xlabel='epoch',\n",
    "             ylabel='log rmse', xlim=[1, num_epochs], yscale='log')\n",
    "    print(f'训练log rmse：{float(train_ls[-1]):f}')\n",
    "    # 将网络应用于测试集。\n",
    "    preds = net(test_features).detach().numpy()\n",
    "    # 将其重新格式化以导出到Kaggle\n",
    "    test_data['SalePrice'] = pd.Series(preds.reshape(1, -1)[0])\n",
    "    submission = pd.concat([test_data['Id'], test_data['SalePrice']], axis=1)\n",
    "    submission.to_csv('submission.csv', index=False)"
   ],
   "metadata": {
    "collapsed": false
   }
  },
  {
   "cell_type": "code",
   "execution_count": 29,
   "outputs": [
    {
     "name": "stdout",
     "output_type": "stream",
     "text": [
      "训练log rmse：0.025877\n"
     ]
    },
    {
     "data": {
      "text/plain": "<Figure size 350x250 with 1 Axes>",
      "image/svg+xml": "<?xml version=\"1.0\" encoding=\"utf-8\" standalone=\"no\"?>\n<!DOCTYPE svg PUBLIC \"-//W3C//DTD SVG 1.1//EN\"\n  \"http://www.w3.org/Graphics/SVG/1.1/DTD/svg11.dtd\">\n<svg xmlns:xlink=\"http://www.w3.org/1999/xlink\" width=\"263.421875pt\" height=\"183.35625pt\" viewBox=\"0 0 263.421875 183.35625\" xmlns=\"http://www.w3.org/2000/svg\" version=\"1.1\">\n <metadata>\n  <rdf:RDF xmlns:dc=\"http://purl.org/dc/elements/1.1/\" xmlns:cc=\"http://creativecommons.org/ns#\" xmlns:rdf=\"http://www.w3.org/1999/02/22-rdf-syntax-ns#\">\n   <cc:Work>\n    <dc:type rdf:resource=\"http://purl.org/dc/dcmitype/StillImage\"/>\n    <dc:date>2023-03-05T21:33:44.083748</dc:date>\n    <dc:format>image/svg+xml</dc:format>\n    <dc:creator>\n     <cc:Agent>\n      <dc:title>Matplotlib v3.5.1, https://matplotlib.org/</dc:title>\n     </cc:Agent>\n    </dc:creator>\n   </cc:Work>\n  </rdf:RDF>\n </metadata>\n <defs>\n  <style type=\"text/css\">*{stroke-linejoin: round; stroke-linecap: butt}</style>\n </defs>\n <g id=\"figure_1\">\n  <g id=\"patch_1\">\n   <path d=\"M 0 183.35625 \nL 263.421875 183.35625 \nL 263.421875 0 \nL 0 0 \nz\n\" style=\"fill: #ffffff\"/>\n  </g>\n  <g id=\"axes_1\">\n   <g id=\"patch_2\">\n    <path d=\"M 51.378125 145.8 \nL 246.678125 145.8 \nL 246.678125 7.2 \nL 51.378125 7.2 \nz\n\" style=\"fill: #ffffff\"/>\n   </g>\n   <g id=\"matplotlib.axis_1\">\n    <g id=\"xtick_1\">\n     <g id=\"line2d_1\">\n      <path d=\"M 90.125019 145.8 \nL 90.125019 7.2 \n\" clip-path=\"url(#p48d5a109e9)\" style=\"fill: none; stroke: #b0b0b0; stroke-width: 0.8; stroke-linecap: square\"/>\n     </g>\n     <g id=\"line2d_2\">\n      <defs>\n       <path id=\"mbdaccd4559\" d=\"M 0 0 \nL 0 3.5 \n\" style=\"stroke: #000000; stroke-width: 0.8\"/>\n      </defs>\n      <g>\n       <use xlink:href=\"#mbdaccd4559\" x=\"90.125019\" y=\"145.8\" style=\"stroke: #000000; stroke-width: 0.8\"/>\n      </g>\n     </g>\n     <g id=\"text_1\">\n      <!-- 100 -->\n      <g transform=\"translate(80.581269 160.398438)scale(0.1 -0.1)\">\n       <defs>\n        <path id=\"DejaVuSans-31\" d=\"M 794 531 \nL 1825 531 \nL 1825 4091 \nL 703 3866 \nL 703 4441 \nL 1819 4666 \nL 2450 4666 \nL 2450 531 \nL 3481 531 \nL 3481 0 \nL 794 0 \nL 794 531 \nz\n\" transform=\"scale(0.015625)\"/>\n        <path id=\"DejaVuSans-30\" d=\"M 2034 4250 \nQ 1547 4250 1301 3770 \nQ 1056 3291 1056 2328 \nQ 1056 1369 1301 889 \nQ 1547 409 2034 409 \nQ 2525 409 2770 889 \nQ 3016 1369 3016 2328 \nQ 3016 3291 2770 3770 \nQ 2525 4250 2034 4250 \nz\nM 2034 4750 \nQ 2819 4750 3233 4129 \nQ 3647 3509 3647 2328 \nQ 3647 1150 3233 529 \nQ 2819 -91 2034 -91 \nQ 1250 -91 836 529 \nQ 422 1150 422 2328 \nQ 422 3509 836 4129 \nQ 1250 4750 2034 4750 \nz\n\" transform=\"scale(0.015625)\"/>\n       </defs>\n       <use xlink:href=\"#DejaVuSans-31\"/>\n       <use xlink:href=\"#DejaVuSans-30\" x=\"63.623047\"/>\n       <use xlink:href=\"#DejaVuSans-30\" x=\"127.246094\"/>\n      </g>\n     </g>\n    </g>\n    <g id=\"xtick_2\">\n     <g id=\"line2d_3\">\n      <path d=\"M 129.263295 145.8 \nL 129.263295 7.2 \n\" clip-path=\"url(#p48d5a109e9)\" style=\"fill: none; stroke: #b0b0b0; stroke-width: 0.8; stroke-linecap: square\"/>\n     </g>\n     <g id=\"line2d_4\">\n      <g>\n       <use xlink:href=\"#mbdaccd4559\" x=\"129.263295\" y=\"145.8\" style=\"stroke: #000000; stroke-width: 0.8\"/>\n      </g>\n     </g>\n     <g id=\"text_2\">\n      <!-- 200 -->\n      <g transform=\"translate(119.719545 160.398438)scale(0.1 -0.1)\">\n       <defs>\n        <path id=\"DejaVuSans-32\" d=\"M 1228 531 \nL 3431 531 \nL 3431 0 \nL 469 0 \nL 469 531 \nQ 828 903 1448 1529 \nQ 2069 2156 2228 2338 \nQ 2531 2678 2651 2914 \nQ 2772 3150 2772 3378 \nQ 2772 3750 2511 3984 \nQ 2250 4219 1831 4219 \nQ 1534 4219 1204 4116 \nQ 875 4013 500 3803 \nL 500 4441 \nQ 881 4594 1212 4672 \nQ 1544 4750 1819 4750 \nQ 2544 4750 2975 4387 \nQ 3406 4025 3406 3419 \nQ 3406 3131 3298 2873 \nQ 3191 2616 2906 2266 \nQ 2828 2175 2409 1742 \nQ 1991 1309 1228 531 \nz\n\" transform=\"scale(0.015625)\"/>\n       </defs>\n       <use xlink:href=\"#DejaVuSans-32\"/>\n       <use xlink:href=\"#DejaVuSans-30\" x=\"63.623047\"/>\n       <use xlink:href=\"#DejaVuSans-30\" x=\"127.246094\"/>\n      </g>\n     </g>\n    </g>\n    <g id=\"xtick_3\">\n     <g id=\"line2d_5\">\n      <path d=\"M 168.401572 145.8 \nL 168.401572 7.2 \n\" clip-path=\"url(#p48d5a109e9)\" style=\"fill: none; stroke: #b0b0b0; stroke-width: 0.8; stroke-linecap: square\"/>\n     </g>\n     <g id=\"line2d_6\">\n      <g>\n       <use xlink:href=\"#mbdaccd4559\" x=\"168.401572\" y=\"145.8\" style=\"stroke: #000000; stroke-width: 0.8\"/>\n      </g>\n     </g>\n     <g id=\"text_3\">\n      <!-- 300 -->\n      <g transform=\"translate(158.857822 160.398438)scale(0.1 -0.1)\">\n       <defs>\n        <path id=\"DejaVuSans-33\" d=\"M 2597 2516 \nQ 3050 2419 3304 2112 \nQ 3559 1806 3559 1356 \nQ 3559 666 3084 287 \nQ 2609 -91 1734 -91 \nQ 1441 -91 1130 -33 \nQ 819 25 488 141 \nL 488 750 \nQ 750 597 1062 519 \nQ 1375 441 1716 441 \nQ 2309 441 2620 675 \nQ 2931 909 2931 1356 \nQ 2931 1769 2642 2001 \nQ 2353 2234 1838 2234 \nL 1294 2234 \nL 1294 2753 \nL 1863 2753 \nQ 2328 2753 2575 2939 \nQ 2822 3125 2822 3475 \nQ 2822 3834 2567 4026 \nQ 2313 4219 1838 4219 \nQ 1578 4219 1281 4162 \nQ 984 4106 628 3988 \nL 628 4550 \nQ 988 4650 1302 4700 \nQ 1616 4750 1894 4750 \nQ 2613 4750 3031 4423 \nQ 3450 4097 3450 3541 \nQ 3450 3153 3228 2886 \nQ 3006 2619 2597 2516 \nz\n\" transform=\"scale(0.015625)\"/>\n       </defs>\n       <use xlink:href=\"#DejaVuSans-33\"/>\n       <use xlink:href=\"#DejaVuSans-30\" x=\"63.623047\"/>\n       <use xlink:href=\"#DejaVuSans-30\" x=\"127.246094\"/>\n      </g>\n     </g>\n    </g>\n    <g id=\"xtick_4\">\n     <g id=\"line2d_7\">\n      <path d=\"M 207.539848 145.8 \nL 207.539848 7.2 \n\" clip-path=\"url(#p48d5a109e9)\" style=\"fill: none; stroke: #b0b0b0; stroke-width: 0.8; stroke-linecap: square\"/>\n     </g>\n     <g id=\"line2d_8\">\n      <g>\n       <use xlink:href=\"#mbdaccd4559\" x=\"207.539848\" y=\"145.8\" style=\"stroke: #000000; stroke-width: 0.8\"/>\n      </g>\n     </g>\n     <g id=\"text_4\">\n      <!-- 400 -->\n      <g transform=\"translate(197.996098 160.398438)scale(0.1 -0.1)\">\n       <defs>\n        <path id=\"DejaVuSans-34\" d=\"M 2419 4116 \nL 825 1625 \nL 2419 1625 \nL 2419 4116 \nz\nM 2253 4666 \nL 3047 4666 \nL 3047 1625 \nL 3713 1625 \nL 3713 1100 \nL 3047 1100 \nL 3047 0 \nL 2419 0 \nL 2419 1100 \nL 313 1100 \nL 313 1709 \nL 2253 4666 \nz\n\" transform=\"scale(0.015625)\"/>\n       </defs>\n       <use xlink:href=\"#DejaVuSans-34\"/>\n       <use xlink:href=\"#DejaVuSans-30\" x=\"63.623047\"/>\n       <use xlink:href=\"#DejaVuSans-30\" x=\"127.246094\"/>\n      </g>\n     </g>\n    </g>\n    <g id=\"xtick_5\">\n     <g id=\"line2d_9\">\n      <path d=\"M 246.678125 145.8 \nL 246.678125 7.2 \n\" clip-path=\"url(#p48d5a109e9)\" style=\"fill: none; stroke: #b0b0b0; stroke-width: 0.8; stroke-linecap: square\"/>\n     </g>\n     <g id=\"line2d_10\">\n      <g>\n       <use xlink:href=\"#mbdaccd4559\" x=\"246.678125\" y=\"145.8\" style=\"stroke: #000000; stroke-width: 0.8\"/>\n      </g>\n     </g>\n     <g id=\"text_5\">\n      <!-- 500 -->\n      <g transform=\"translate(237.134375 160.398438)scale(0.1 -0.1)\">\n       <defs>\n        <path id=\"DejaVuSans-35\" d=\"M 691 4666 \nL 3169 4666 \nL 3169 4134 \nL 1269 4134 \nL 1269 2991 \nQ 1406 3038 1543 3061 \nQ 1681 3084 1819 3084 \nQ 2600 3084 3056 2656 \nQ 3513 2228 3513 1497 \nQ 3513 744 3044 326 \nQ 2575 -91 1722 -91 \nQ 1428 -91 1123 -41 \nQ 819 9 494 109 \nL 494 744 \nQ 775 591 1075 516 \nQ 1375 441 1709 441 \nQ 2250 441 2565 725 \nQ 2881 1009 2881 1497 \nQ 2881 1984 2565 2268 \nQ 2250 2553 1709 2553 \nQ 1456 2553 1204 2497 \nQ 953 2441 691 2322 \nL 691 4666 \nz\n\" transform=\"scale(0.015625)\"/>\n       </defs>\n       <use xlink:href=\"#DejaVuSans-35\"/>\n       <use xlink:href=\"#DejaVuSans-30\" x=\"63.623047\"/>\n       <use xlink:href=\"#DejaVuSans-30\" x=\"127.246094\"/>\n      </g>\n     </g>\n    </g>\n    <g id=\"text_6\">\n     <!-- epoch -->\n     <g transform=\"translate(133.8 174.076563)scale(0.1 -0.1)\">\n      <defs>\n       <path id=\"DejaVuSans-65\" d=\"M 3597 1894 \nL 3597 1613 \nL 953 1613 \nQ 991 1019 1311 708 \nQ 1631 397 2203 397 \nQ 2534 397 2845 478 \nQ 3156 559 3463 722 \nL 3463 178 \nQ 3153 47 2828 -22 \nQ 2503 -91 2169 -91 \nQ 1331 -91 842 396 \nQ 353 884 353 1716 \nQ 353 2575 817 3079 \nQ 1281 3584 2069 3584 \nQ 2775 3584 3186 3129 \nQ 3597 2675 3597 1894 \nz\nM 3022 2063 \nQ 3016 2534 2758 2815 \nQ 2500 3097 2075 3097 \nQ 1594 3097 1305 2825 \nQ 1016 2553 972 2059 \nL 3022 2063 \nz\n\" transform=\"scale(0.015625)\"/>\n       <path id=\"DejaVuSans-70\" d=\"M 1159 525 \nL 1159 -1331 \nL 581 -1331 \nL 581 3500 \nL 1159 3500 \nL 1159 2969 \nQ 1341 3281 1617 3432 \nQ 1894 3584 2278 3584 \nQ 2916 3584 3314 3078 \nQ 3713 2572 3713 1747 \nQ 3713 922 3314 415 \nQ 2916 -91 2278 -91 \nQ 1894 -91 1617 61 \nQ 1341 213 1159 525 \nz\nM 3116 1747 \nQ 3116 2381 2855 2742 \nQ 2594 3103 2138 3103 \nQ 1681 3103 1420 2742 \nQ 1159 2381 1159 1747 \nQ 1159 1113 1420 752 \nQ 1681 391 2138 391 \nQ 2594 391 2855 752 \nQ 3116 1113 3116 1747 \nz\n\" transform=\"scale(0.015625)\"/>\n       <path id=\"DejaVuSans-6f\" d=\"M 1959 3097 \nQ 1497 3097 1228 2736 \nQ 959 2375 959 1747 \nQ 959 1119 1226 758 \nQ 1494 397 1959 397 \nQ 2419 397 2687 759 \nQ 2956 1122 2956 1747 \nQ 2956 2369 2687 2733 \nQ 2419 3097 1959 3097 \nz\nM 1959 3584 \nQ 2709 3584 3137 3096 \nQ 3566 2609 3566 1747 \nQ 3566 888 3137 398 \nQ 2709 -91 1959 -91 \nQ 1206 -91 779 398 \nQ 353 888 353 1747 \nQ 353 2609 779 3096 \nQ 1206 3584 1959 3584 \nz\n\" transform=\"scale(0.015625)\"/>\n       <path id=\"DejaVuSans-63\" d=\"M 3122 3366 \nL 3122 2828 \nQ 2878 2963 2633 3030 \nQ 2388 3097 2138 3097 \nQ 1578 3097 1268 2742 \nQ 959 2388 959 1747 \nQ 959 1106 1268 751 \nQ 1578 397 2138 397 \nQ 2388 397 2633 464 \nQ 2878 531 3122 666 \nL 3122 134 \nQ 2881 22 2623 -34 \nQ 2366 -91 2075 -91 \nQ 1284 -91 818 406 \nQ 353 903 353 1747 \nQ 353 2603 823 3093 \nQ 1294 3584 2113 3584 \nQ 2378 3584 2631 3529 \nQ 2884 3475 3122 3366 \nz\n\" transform=\"scale(0.015625)\"/>\n       <path id=\"DejaVuSans-68\" d=\"M 3513 2113 \nL 3513 0 \nL 2938 0 \nL 2938 2094 \nQ 2938 2591 2744 2837 \nQ 2550 3084 2163 3084 \nQ 1697 3084 1428 2787 \nQ 1159 2491 1159 1978 \nL 1159 0 \nL 581 0 \nL 581 4863 \nL 1159 4863 \nL 1159 2956 \nQ 1366 3272 1645 3428 \nQ 1925 3584 2291 3584 \nQ 2894 3584 3203 3211 \nQ 3513 2838 3513 2113 \nz\n\" transform=\"scale(0.015625)\"/>\n      </defs>\n      <use xlink:href=\"#DejaVuSans-65\"/>\n      <use xlink:href=\"#DejaVuSans-70\" x=\"61.523438\"/>\n      <use xlink:href=\"#DejaVuSans-6f\" x=\"125\"/>\n      <use xlink:href=\"#DejaVuSans-63\" x=\"186.181641\"/>\n      <use xlink:href=\"#DejaVuSans-68\" x=\"241.162109\"/>\n     </g>\n    </g>\n   </g>\n   <g id=\"matplotlib.axis_2\">\n    <g id=\"ytick_1\">\n     <g id=\"line2d_11\">\n      <path d=\"M 51.378125 104.435554 \nL 246.678125 104.435554 \n\" clip-path=\"url(#p48d5a109e9)\" style=\"fill: none; stroke: #b0b0b0; stroke-width: 0.8; stroke-linecap: square\"/>\n     </g>\n     <g id=\"line2d_12\">\n      <defs>\n       <path id=\"md38ec5947a\" d=\"M 0 0 \nL -3.5 0 \n\" style=\"stroke: #000000; stroke-width: 0.8\"/>\n      </defs>\n      <g>\n       <use xlink:href=\"#md38ec5947a\" x=\"51.378125\" y=\"104.435554\" style=\"stroke: #000000; stroke-width: 0.8\"/>\n      </g>\n     </g>\n     <g id=\"text_7\">\n      <!-- $\\mathdefault{10^{-1}}$ -->\n      <g transform=\"translate(20.878125 108.234773)scale(0.1 -0.1)\">\n       <defs>\n        <path id=\"DejaVuSans-2212\" d=\"M 678 2272 \nL 4684 2272 \nL 4684 1741 \nL 678 1741 \nL 678 2272 \nz\n\" transform=\"scale(0.015625)\"/>\n       </defs>\n       <use xlink:href=\"#DejaVuSans-31\" transform=\"translate(0 0.684375)\"/>\n       <use xlink:href=\"#DejaVuSans-30\" transform=\"translate(63.623047 0.684375)\"/>\n       <use xlink:href=\"#DejaVuSans-2212\" transform=\"translate(128.203125 38.965625)scale(0.7)\"/>\n       <use xlink:href=\"#DejaVuSans-31\" transform=\"translate(186.855469 38.965625)scale(0.7)\"/>\n      </g>\n     </g>\n    </g>\n    <g id=\"ytick_2\">\n     <g id=\"line2d_13\">\n      <path d=\"M 51.378125 50.392325 \nL 246.678125 50.392325 \n\" clip-path=\"url(#p48d5a109e9)\" style=\"fill: none; stroke: #b0b0b0; stroke-width: 0.8; stroke-linecap: square\"/>\n     </g>\n     <g id=\"line2d_14\">\n      <g>\n       <use xlink:href=\"#md38ec5947a\" x=\"51.378125\" y=\"50.392325\" style=\"stroke: #000000; stroke-width: 0.8\"/>\n      </g>\n     </g>\n     <g id=\"text_8\">\n      <!-- $\\mathdefault{10^{0}}$ -->\n      <g transform=\"translate(26.778125 54.191544)scale(0.1 -0.1)\">\n       <use xlink:href=\"#DejaVuSans-31\" transform=\"translate(0 0.765625)\"/>\n       <use xlink:href=\"#DejaVuSans-30\" transform=\"translate(63.623047 0.765625)\"/>\n       <use xlink:href=\"#DejaVuSans-30\" transform=\"translate(128.203125 39.046875)scale(0.7)\"/>\n      </g>\n     </g>\n    </g>\n    <g id=\"ytick_3\">\n     <g id=\"line2d_15\">\n      <defs>\n       <path id=\"ma6c8a4a313\" d=\"M 0 0 \nL -2 0 \n\" style=\"stroke: #000000; stroke-width: 0.6\"/>\n      </defs>\n      <g>\n       <use xlink:href=\"#ma6c8a4a313\" x=\"51.378125\" y=\"142.210151\" style=\"stroke: #000000; stroke-width: 0.6\"/>\n      </g>\n     </g>\n    </g>\n    <g id=\"ytick_4\">\n     <g id=\"line2d_16\">\n      <g>\n       <use xlink:href=\"#ma6c8a4a313\" x=\"51.378125\" y=\"132.69361\" style=\"stroke: #000000; stroke-width: 0.6\"/>\n      </g>\n     </g>\n    </g>\n    <g id=\"ytick_5\">\n     <g id=\"line2d_17\">\n      <g>\n       <use xlink:href=\"#ma6c8a4a313\" x=\"51.378125\" y=\"125.941518\" style=\"stroke: #000000; stroke-width: 0.6\"/>\n      </g>\n     </g>\n    </g>\n    <g id=\"ytick_6\">\n     <g id=\"line2d_18\">\n      <g>\n       <use xlink:href=\"#ma6c8a4a313\" x=\"51.378125\" y=\"120.704188\" style=\"stroke: #000000; stroke-width: 0.6\"/>\n      </g>\n     </g>\n    </g>\n    <g id=\"ytick_7\">\n     <g id=\"line2d_19\">\n      <g>\n       <use xlink:href=\"#ma6c8a4a313\" x=\"51.378125\" y=\"116.424977\" style=\"stroke: #000000; stroke-width: 0.6\"/>\n      </g>\n     </g>\n    </g>\n    <g id=\"ytick_8\">\n     <g id=\"line2d_20\">\n      <g>\n       <use xlink:href=\"#ma6c8a4a313\" x=\"51.378125\" y=\"112.806957\" style=\"stroke: #000000; stroke-width: 0.6\"/>\n      </g>\n     </g>\n    </g>\n    <g id=\"ytick_9\">\n     <g id=\"line2d_21\">\n      <g>\n       <use xlink:href=\"#ma6c8a4a313\" x=\"51.378125\" y=\"109.672885\" style=\"stroke: #000000; stroke-width: 0.6\"/>\n      </g>\n     </g>\n    </g>\n    <g id=\"ytick_10\">\n     <g id=\"line2d_22\">\n      <g>\n       <use xlink:href=\"#ma6c8a4a313\" x=\"51.378125\" y=\"106.908437\" style=\"stroke: #000000; stroke-width: 0.6\"/>\n      </g>\n     </g>\n    </g>\n    <g id=\"ytick_11\">\n     <g id=\"line2d_23\">\n      <g>\n       <use xlink:href=\"#ma6c8a4a313\" x=\"51.378125\" y=\"88.166921\" style=\"stroke: #000000; stroke-width: 0.6\"/>\n      </g>\n     </g>\n    </g>\n    <g id=\"ytick_12\">\n     <g id=\"line2d_24\">\n      <g>\n       <use xlink:href=\"#ma6c8a4a313\" x=\"51.378125\" y=\"78.650381\" style=\"stroke: #000000; stroke-width: 0.6\"/>\n      </g>\n     </g>\n    </g>\n    <g id=\"ytick_13\">\n     <g id=\"line2d_25\">\n      <g>\n       <use xlink:href=\"#ma6c8a4a313\" x=\"51.378125\" y=\"71.898288\" style=\"stroke: #000000; stroke-width: 0.6\"/>\n      </g>\n     </g>\n    </g>\n    <g id=\"ytick_14\">\n     <g id=\"line2d_26\">\n      <g>\n       <use xlink:href=\"#ma6c8a4a313\" x=\"51.378125\" y=\"66.660958\" style=\"stroke: #000000; stroke-width: 0.6\"/>\n      </g>\n     </g>\n    </g>\n    <g id=\"ytick_15\">\n     <g id=\"line2d_27\">\n      <g>\n       <use xlink:href=\"#ma6c8a4a313\" x=\"51.378125\" y=\"62.381748\" style=\"stroke: #000000; stroke-width: 0.6\"/>\n      </g>\n     </g>\n    </g>\n    <g id=\"ytick_16\">\n     <g id=\"line2d_28\">\n      <g>\n       <use xlink:href=\"#ma6c8a4a313\" x=\"51.378125\" y=\"58.763727\" style=\"stroke: #000000; stroke-width: 0.6\"/>\n      </g>\n     </g>\n    </g>\n    <g id=\"ytick_17\">\n     <g id=\"line2d_29\">\n      <g>\n       <use xlink:href=\"#ma6c8a4a313\" x=\"51.378125\" y=\"55.629655\" style=\"stroke: #000000; stroke-width: 0.6\"/>\n      </g>\n     </g>\n    </g>\n    <g id=\"ytick_18\">\n     <g id=\"line2d_30\">\n      <g>\n       <use xlink:href=\"#ma6c8a4a313\" x=\"51.378125\" y=\"52.865208\" style=\"stroke: #000000; stroke-width: 0.6\"/>\n      </g>\n     </g>\n    </g>\n    <g id=\"ytick_19\">\n     <g id=\"line2d_31\">\n      <g>\n       <use xlink:href=\"#ma6c8a4a313\" x=\"51.378125\" y=\"34.123692\" style=\"stroke: #000000; stroke-width: 0.6\"/>\n      </g>\n     </g>\n    </g>\n    <g id=\"ytick_20\">\n     <g id=\"line2d_32\">\n      <g>\n       <use xlink:href=\"#ma6c8a4a313\" x=\"51.378125\" y=\"24.607152\" style=\"stroke: #000000; stroke-width: 0.6\"/>\n      </g>\n     </g>\n    </g>\n    <g id=\"ytick_21\">\n     <g id=\"line2d_33\">\n      <g>\n       <use xlink:href=\"#ma6c8a4a313\" x=\"51.378125\" y=\"17.855059\" style=\"stroke: #000000; stroke-width: 0.6\"/>\n      </g>\n     </g>\n    </g>\n    <g id=\"ytick_22\">\n     <g id=\"line2d_34\">\n      <g>\n       <use xlink:href=\"#ma6c8a4a313\" x=\"51.378125\" y=\"12.617729\" style=\"stroke: #000000; stroke-width: 0.6\"/>\n      </g>\n     </g>\n    </g>\n    <g id=\"ytick_23\">\n     <g id=\"line2d_35\">\n      <g>\n       <use xlink:href=\"#ma6c8a4a313\" x=\"51.378125\" y=\"8.338519\" style=\"stroke: #000000; stroke-width: 0.6\"/>\n      </g>\n     </g>\n    </g>\n    <g id=\"text_9\">\n     <!-- log rmse -->\n     <g transform=\"translate(14.798438 98.23125)rotate(-90)scale(0.1 -0.1)\">\n      <defs>\n       <path id=\"DejaVuSans-6c\" d=\"M 603 4863 \nL 1178 4863 \nL 1178 0 \nL 603 0 \nL 603 4863 \nz\n\" transform=\"scale(0.015625)\"/>\n       <path id=\"DejaVuSans-67\" d=\"M 2906 1791 \nQ 2906 2416 2648 2759 \nQ 2391 3103 1925 3103 \nQ 1463 3103 1205 2759 \nQ 947 2416 947 1791 \nQ 947 1169 1205 825 \nQ 1463 481 1925 481 \nQ 2391 481 2648 825 \nQ 2906 1169 2906 1791 \nz\nM 3481 434 \nQ 3481 -459 3084 -895 \nQ 2688 -1331 1869 -1331 \nQ 1566 -1331 1297 -1286 \nQ 1028 -1241 775 -1147 \nL 775 -588 \nQ 1028 -725 1275 -790 \nQ 1522 -856 1778 -856 \nQ 2344 -856 2625 -561 \nQ 2906 -266 2906 331 \nL 2906 616 \nQ 2728 306 2450 153 \nQ 2172 0 1784 0 \nQ 1141 0 747 490 \nQ 353 981 353 1791 \nQ 353 2603 747 3093 \nQ 1141 3584 1784 3584 \nQ 2172 3584 2450 3431 \nQ 2728 3278 2906 2969 \nL 2906 3500 \nL 3481 3500 \nL 3481 434 \nz\n\" transform=\"scale(0.015625)\"/>\n       <path id=\"DejaVuSans-20\" transform=\"scale(0.015625)\"/>\n       <path id=\"DejaVuSans-72\" d=\"M 2631 2963 \nQ 2534 3019 2420 3045 \nQ 2306 3072 2169 3072 \nQ 1681 3072 1420 2755 \nQ 1159 2438 1159 1844 \nL 1159 0 \nL 581 0 \nL 581 3500 \nL 1159 3500 \nL 1159 2956 \nQ 1341 3275 1631 3429 \nQ 1922 3584 2338 3584 \nQ 2397 3584 2469 3576 \nQ 2541 3569 2628 3553 \nL 2631 2963 \nz\n\" transform=\"scale(0.015625)\"/>\n       <path id=\"DejaVuSans-6d\" d=\"M 3328 2828 \nQ 3544 3216 3844 3400 \nQ 4144 3584 4550 3584 \nQ 5097 3584 5394 3201 \nQ 5691 2819 5691 2113 \nL 5691 0 \nL 5113 0 \nL 5113 2094 \nQ 5113 2597 4934 2840 \nQ 4756 3084 4391 3084 \nQ 3944 3084 3684 2787 \nQ 3425 2491 3425 1978 \nL 3425 0 \nL 2847 0 \nL 2847 2094 \nQ 2847 2600 2669 2842 \nQ 2491 3084 2119 3084 \nQ 1678 3084 1418 2786 \nQ 1159 2488 1159 1978 \nL 1159 0 \nL 581 0 \nL 581 3500 \nL 1159 3500 \nL 1159 2956 \nQ 1356 3278 1631 3431 \nQ 1906 3584 2284 3584 \nQ 2666 3584 2933 3390 \nQ 3200 3197 3328 2828 \nz\n\" transform=\"scale(0.015625)\"/>\n       <path id=\"DejaVuSans-73\" d=\"M 2834 3397 \nL 2834 2853 \nQ 2591 2978 2328 3040 \nQ 2066 3103 1784 3103 \nQ 1356 3103 1142 2972 \nQ 928 2841 928 2578 \nQ 928 2378 1081 2264 \nQ 1234 2150 1697 2047 \nL 1894 2003 \nQ 2506 1872 2764 1633 \nQ 3022 1394 3022 966 \nQ 3022 478 2636 193 \nQ 2250 -91 1575 -91 \nQ 1294 -91 989 -36 \nQ 684 19 347 128 \nL 347 722 \nQ 666 556 975 473 \nQ 1284 391 1588 391 \nQ 1994 391 2212 530 \nQ 2431 669 2431 922 \nQ 2431 1156 2273 1281 \nQ 2116 1406 1581 1522 \nL 1381 1569 \nQ 847 1681 609 1914 \nQ 372 2147 372 2553 \nQ 372 3047 722 3315 \nQ 1072 3584 1716 3584 \nQ 2034 3584 2315 3537 \nQ 2597 3491 2834 3397 \nz\n\" transform=\"scale(0.015625)\"/>\n      </defs>\n      <use xlink:href=\"#DejaVuSans-6c\"/>\n      <use xlink:href=\"#DejaVuSans-6f\" x=\"27.783203\"/>\n      <use xlink:href=\"#DejaVuSans-67\" x=\"88.964844\"/>\n      <use xlink:href=\"#DejaVuSans-20\" x=\"152.441406\"/>\n      <use xlink:href=\"#DejaVuSans-72\" x=\"184.228516\"/>\n      <use xlink:href=\"#DejaVuSans-6d\" x=\"223.591797\"/>\n      <use xlink:href=\"#DejaVuSans-73\" x=\"321.003906\"/>\n      <use xlink:href=\"#DejaVuSans-65\" x=\"373.103516\"/>\n     </g>\n    </g>\n   </g>\n   <g id=\"line2d_36\">\n    <path d=\"M 51.378125 13.5 \nL 51.769508 85.437744 \nL 52.160891 93.758218 \nL 52.943656 99.535703 \nL 53.335039 95.762516 \nL 53.726422 102.995296 \nL 54.117804 101.742227 \nL 54.509187 104.082004 \nL 54.90057 103.556497 \nL 55.291953 105.232322 \nL 55.683335 105.112912 \nL 56.074718 106.765765 \nL 56.466101 103.46112 \nL 56.857484 106.370846 \nL 57.248866 107.449069 \nL 57.640249 105.709425 \nL 58.031632 109.101784 \nL 58.423015 104.739444 \nL 58.814398 108.191181 \nL 59.597163 107.810739 \nL 59.988546 82.277627 \nL 60.379929 83.312391 \nL 60.771311 108.281522 \nL 61.162694 103.290778 \nL 61.554077 106.065596 \nL 61.94546 105.653321 \nL 62.336842 109.803856 \nL 62.728225 102.50935 \nL 63.119608 108.433707 \nL 63.510991 108.308384 \nL 63.902373 109.802313 \nL 64.293756 107.806073 \nL 64.685139 109.014699 \nL 65.076522 105.374599 \nL 65.467905 113.028455 \nL 65.859287 113.334361 \nL 66.25067 112.877959 \nL 66.642053 108.039047 \nL 67.033436 106.949588 \nL 67.424818 112.252982 \nL 67.816201 110.653866 \nL 68.207584 102.017903 \nL 68.598967 108.273971 \nL 68.990349 105.574465 \nL 69.381732 112.169176 \nL 69.773115 112.85682 \nL 70.164498 112.324127 \nL 70.555881 109.934824 \nL 70.947263 115.040555 \nL 71.338646 113.123799 \nL 71.730029 108.88784 \nL 72.121412 109.860495 \nL 72.512794 116.078085 \nL 72.904177 111.198642 \nL 73.29556 114.548318 \nL 73.686943 113.394565 \nL 74.078325 116.383897 \nL 74.469708 113.594071 \nL 74.861091 109.261576 \nL 75.252474 115.817263 \nL 75.643856 112.453454 \nL 76.426622 114.147869 \nL 76.818005 112.466554 \nL 77.209388 109.875933 \nL 77.60077 114.484945 \nL 77.992153 115.157731 \nL 78.774919 118.262596 \nL 79.166301 119.810365 \nL 79.557684 120.292251 \nL 79.949067 119.809204 \nL 80.34045 121.410107 \nL 80.731832 121.461061 \nL 81.123215 120.784776 \nL 81.514598 121.888777 \nL 82.297363 118.095512 \nL 82.688746 118.245878 \nL 83.080129 120.547345 \nL 83.471512 122.084538 \nL 83.862895 118.962457 \nL 84.254277 116.92056 \nL 84.64566 112.876019 \nL 85.037043 118.358856 \nL 85.428426 106.039556 \nL 85.819808 116.590884 \nL 86.211191 113.173128 \nL 86.602574 111.570524 \nL 86.993957 117.626611 \nL 87.385339 117.824575 \nL 87.776722 113.368402 \nL 88.168105 120.841402 \nL 88.559488 122.113965 \nL 88.95087 116.910991 \nL 89.342253 120.557035 \nL 89.733636 116.761783 \nL 90.125019 109.665649 \nL 90.516402 119.676692 \nL 90.907784 116.375236 \nL 91.299167 115.079482 \nL 91.69055 121.535494 \nL 92.081933 121.072744 \nL 92.473315 123.134909 \nL 92.864698 121.053187 \nL 93.256081 122.166464 \nL 93.647464 111.038025 \nL 94.038846 112.152239 \nL 94.430229 119.140249 \nL 94.821612 121.622271 \nL 95.212995 120.779414 \nL 95.604378 121.64374 \nL 95.99576 121.26982 \nL 96.387143 120.312861 \nL 96.778526 121.911671 \nL 97.169909 108.823895 \nL 97.561291 123.400932 \nL 97.952674 118.647218 \nL 98.344057 123.803583 \nL 98.73544 120.085591 \nL 99.126822 122.594935 \nL 99.518205 123.184681 \nL 99.909588 125.855432 \nL 100.300971 124.731732 \nL 100.692353 118.048585 \nL 101.475119 125.462761 \nL 101.866502 127.862178 \nL 102.257885 126.979257 \nL 102.649267 129.508736 \nL 103.04065 128.481816 \nL 103.823416 108.412779 \nL 104.214798 114.185911 \nL 104.606181 122.39169 \nL 104.997564 122.491787 \nL 105.388947 117.956302 \nL 105.780329 126.117389 \nL 106.171712 127.467518 \nL 106.563095 125.57184 \nL 106.954478 129.633806 \nL 107.34586 129.811548 \nL 107.737243 124.188906 \nL 108.128626 128.52704 \nL 108.520009 122.825334 \nL 108.911392 128.256757 \nL 109.302774 127.045823 \nL 109.694157 126.918611 \nL 110.08554 116.580644 \nL 110.476923 101.745237 \nL 110.868305 107.191876 \nL 111.259688 105.883174 \nL 111.651071 80.68413 \nL 112.042454 103.489638 \nL 112.433836 83.923408 \nL 112.825219 97.444945 \nL 113.216602 82.710299 \nL 113.999367 104.567254 \nL 114.39075 109.361837 \nL 115.564899 113.217583 \nL 115.956281 113.482401 \nL 116.347664 114.95453 \nL 116.739047 114.144393 \nL 117.13043 115.668921 \nL 117.521812 114.638422 \nL 117.913195 116.964356 \nL 118.304578 115.301005 \nL 118.695961 117.860025 \nL 119.087343 118.302602 \nL 119.478726 115.542963 \nL 119.870109 116.22074 \nL 120.261492 116.186437 \nL 120.652874 117.868988 \nL 121.044257 116.708994 \nL 121.43564 119.585254 \nL 121.827023 120.10453 \nL 122.218406 120.834638 \nL 122.609788 120.748093 \nL 123.392554 118.359441 \nL 123.783937 121.409893 \nL 124.566702 116.336756 \nL 124.958085 119.38359 \nL 125.349468 119.090603 \nL 125.74085 119.221103 \nL 126.132233 118.256033 \nL 126.523616 110.556651 \nL 126.914999 121.342649 \nL 127.306382 120.850452 \nL 127.697764 119.41504 \nL 128.089147 121.85024 \nL 128.48053 118.241622 \nL 128.871913 119.376382 \nL 129.263295 120.167091 \nL 130.046061 123.059042 \nL 130.437444 115.033006 \nL 130.828826 122.769153 \nL 131.220209 123.082362 \nL 131.611592 118.350466 \nL 132.002975 123.422661 \nL 132.394357 125.059109 \nL 132.78574 124.132607 \nL 133.177123 125.472424 \nL 133.959889 125.987497 \nL 134.351271 125.285292 \nL 134.742654 124.208356 \nL 135.52542 126.258563 \nL 135.916802 122.388885 \nL 136.308185 124.45133 \nL 136.699568 124.38386 \nL 137.090951 120.874905 \nL 137.482333 124.226491 \nL 137.873716 122.373653 \nL 138.265099 123.774739 \nL 138.656482 115.449763 \nL 139.047864 113.345096 \nL 139.439247 122.415864 \nL 140.222013 110.385157 \nL 140.613396 117.575353 \nL 141.004778 120.578654 \nL 141.396161 122.252955 \nL 141.787544 117.125507 \nL 142.178927 122.75209 \nL 142.570309 124.098869 \nL 142.961692 121.821418 \nL 143.353075 125.93664 \nL 143.744458 122.700382 \nL 144.13584 123.894952 \nL 144.527223 125.681762 \nL 144.918606 123.208721 \nL 145.309989 123.762654 \nL 145.701371 124.637382 \nL 146.092754 121.386976 \nL 146.87552 125.507386 \nL 147.266903 118.820029 \nL 147.658285 124.03719 \nL 148.049668 121.37261 \nL 148.441051 122.195664 \nL 148.832434 126.364154 \nL 149.223816 125.58416 \nL 149.615199 127.0441 \nL 150.006582 126.883207 \nL 150.397965 128.644952 \nL 150.789347 123.109608 \nL 151.18073 124.741356 \nL 151.572113 123.811036 \nL 151.963496 126.26941 \nL 152.354879 124.446928 \nL 152.746261 125.127331 \nL 153.137644 122.949035 \nL 153.529027 126.071823 \nL 153.92041 124.744467 \nL 154.311792 124.636447 \nL 154.703175 116.111779 \nL 155.094558 125.46728 \nL 155.485941 127.058194 \nL 155.877323 127.69557 \nL 156.268706 129.306594 \nL 156.660089 127.128455 \nL 157.051472 127.772674 \nL 157.834237 129.675187 \nL 158.22562 131.056715 \nL 158.617003 129.438572 \nL 159.008386 130.760893 \nL 159.399768 120.72202 \nL 159.791151 129.629176 \nL 160.182534 130.371384 \nL 160.573917 124.590586 \nL 160.965299 126.852376 \nL 161.356682 123.06153 \nL 161.748065 121.651555 \nL 162.139448 121.829402 \nL 162.53083 128.152427 \nL 162.922213 128.463523 \nL 163.313596 130.316988 \nL 163.704979 126.376126 \nL 164.096361 128.893037 \nL 164.487744 121.441317 \nL 164.879127 117.937098 \nL 165.27051 102.641359 \nL 165.661893 111.923072 \nL 166.053275 96.090126 \nL 166.444658 106.068879 \nL 166.836041 110.838001 \nL 167.227424 109.927837 \nL 167.618806 115.680953 \nL 168.010189 119.467806 \nL 168.401572 118.184323 \nL 168.792955 119.260206 \nL 169.184337 116.515193 \nL 169.57572 123.633421 \nL 169.967103 121.993936 \nL 170.358486 122.396445 \nL 170.749868 124.861154 \nL 171.141251 122.642186 \nL 171.532634 127.062456 \nL 171.924017 123.788837 \nL 172.3154 126.823369 \nL 172.706782 127.043353 \nL 173.098165 129.320214 \nL 173.489548 130.477729 \nL 173.880931 130.385348 \nL 174.272313 129.055433 \nL 174.663696 130.559243 \nL 175.055079 130.298416 \nL 175.446462 125.608577 \nL 175.837844 128.051681 \nL 176.229227 127.178626 \nL 176.62061 129.102357 \nL 177.011993 122.621273 \nL 177.403376 128.839552 \nL 177.794758 129.907227 \nL 178.186141 129.409006 \nL 178.577524 127.119844 \nL 178.968907 129.810973 \nL 179.360289 129.359397 \nL 179.751672 127.385075 \nL 180.143055 131.150846 \nL 180.534438 131.653328 \nL 180.92582 129.463347 \nL 181.317203 128.69557 \nL 182.099969 126.165868 \nL 182.882734 130.103484 \nL 183.274117 132.320934 \nL 183.6655 131.999449 \nL 184.056883 132.484126 \nL 184.448265 130.151196 \nL 184.839648 132.328035 \nL 185.231031 130.54772 \nL 185.622414 127.911314 \nL 186.013796 129.89827 \nL 186.405179 120.334086 \nL 186.796562 117.797085 \nL 187.579327 106.918571 \nL 187.97071 112.420362 \nL 188.362093 121.282574 \nL 188.753476 124.415145 \nL 189.144858 119.593065 \nL 189.536241 83.609927 \nL 189.927624 114.862154 \nL 190.319007 122.253872 \nL 190.71039 122.399309 \nL 191.101772 125.16478 \nL 191.884538 124.109758 \nL 192.275921 129.909075 \nL 192.667303 126.059787 \nL 193.058686 119.126027 \nL 193.450069 119.245723 \nL 193.841452 126.834031 \nL 194.232834 128.80361 \nL 194.624217 128.311333 \nL 195.0156 125.230889 \nL 195.798365 128.237556 \nL 196.189748 132.000281 \nL 196.581131 134.016221 \nL 196.972514 123.570746 \nL 197.363897 129.324448 \nL 197.755279 128.626956 \nL 198.146662 109.612395 \nL 198.538045 121.332003 \nL 198.929428 115.563506 \nL 199.32081 124.484392 \nL 199.712193 126.251864 \nL 200.494959 131.304628 \nL 200.886341 131.534012 \nL 201.277724 132.937552 \nL 201.669107 128.618909 \nL 202.06049 130.525537 \nL 202.451872 131.319942 \nL 202.843255 126.807718 \nL 203.234638 127.494117 \nL 203.626021 130.701914 \nL 204.017404 124.836818 \nL 204.408786 125.650451 \nL 204.800169 127.606999 \nL 205.191552 128.831572 \nL 205.582935 118.038869 \nL 205.974317 119.221398 \nL 206.3657 126.926055 \nL 206.757083 128.989467 \nL 207.148466 127.500605 \nL 207.539848 128.287812 \nL 207.931231 129.403868 \nL 208.713997 122.166618 \nL 209.10538 131.823054 \nL 209.496762 130.794826 \nL 210.279528 133.608129 \nL 210.670911 132.166389 \nL 211.062293 131.207959 \nL 211.453676 130.956382 \nL 211.845059 125.410434 \nL 212.627824 133.044257 \nL 213.019207 131.405672 \nL 213.41059 125.828599 \nL 213.801973 122.995269 \nL 214.193355 125.090487 \nL 214.584738 129.765259 \nL 214.976121 128.523941 \nL 215.367504 128.202567 \nL 215.758887 125.484859 \nL 216.150269 131.921531 \nL 216.541652 135.030128 \nL 216.933035 131.89385 \nL 217.324418 135.673868 \nL 217.7158 131.105608 \nL 218.107183 122.292243 \nL 218.498566 122.778508 \nL 218.889949 122.039885 \nL 219.281331 114.746246 \nL 219.672714 115.067354 \nL 220.064097 114.160026 \nL 220.45548 121.266989 \nL 220.846862 124.406658 \nL 221.238245 128.456989 \nL 221.629628 127.412079 \nL 222.021011 129.24931 \nL 222.412394 124.615315 \nL 222.803776 130.201031 \nL 223.977925 114.260869 \nL 224.76069 126.851462 \nL 225.152073 131.414364 \nL 225.543456 124.745369 \nL 225.934838 127.701969 \nL 226.717604 125.539548 \nL 227.108987 122.066002 \nL 227.500369 121.651491 \nL 227.891752 127.280502 \nL 228.283135 128.57541 \nL 228.674518 130.843578 \nL 229.065901 131.539428 \nL 229.457283 131.388912 \nL 229.848666 128.949075 \nL 230.240049 131.775022 \nL 230.631432 136.260888 \nL 231.022814 131.751671 \nL 231.414197 133.086 \nL 231.80558 134.825881 \nL 232.196963 135.466387 \nL 232.588345 129.018865 \nL 232.979728 135.896722 \nL 233.371111 134.37457 \nL 233.762494 128.357811 \nL 234.153877 131.924635 \nL 234.545259 131.76158 \nL 234.936642 132.051493 \nL 235.328025 135.390011 \nL 235.719408 126.352855 \nL 236.11079 130.14595 \nL 236.502173 126.087909 \nL 236.893556 133.258805 \nL 237.284939 133.749351 \nL 237.676321 133.72668 \nL 238.067704 130.888286 \nL 238.459087 126.221914 \nL 238.85047 132.228992 \nL 239.241852 124.024948 \nL 239.633235 118.622924 \nL 240.024618 129.754217 \nL 240.416001 111.42567 \nL 240.807384 121.419444 \nL 241.198766 124.206982 \nL 241.590149 129.946715 \nL 242.372915 133.897646 \nL 242.764297 132.999362 \nL 243.15568 137.850004 \nL 243.547063 137.47667 \nL 243.938446 137.540574 \nL 244.329828 139.033855 \nL 244.721211 138.476855 \nL 245.112594 138.401597 \nL 245.503977 139.5 \nL 245.895359 134.463409 \nL 246.286742 130.993356 \nL 246.678125 136.163515 \nL 246.678125 136.163515 \n\" clip-path=\"url(#p48d5a109e9)\" style=\"fill: none; stroke: #1f77b4; stroke-width: 1.5; stroke-linecap: square\"/>\n   </g>\n   <g id=\"patch_3\">\n    <path d=\"M 51.378125 145.8 \nL 51.378125 7.2 \n\" style=\"fill: none; stroke: #000000; stroke-width: 0.8; stroke-linejoin: miter; stroke-linecap: square\"/>\n   </g>\n   <g id=\"patch_4\">\n    <path d=\"M 246.678125 145.8 \nL 246.678125 7.2 \n\" style=\"fill: none; stroke: #000000; stroke-width: 0.8; stroke-linejoin: miter; stroke-linecap: square\"/>\n   </g>\n   <g id=\"patch_5\">\n    <path d=\"M 51.378125 145.8 \nL 246.678125 145.8 \n\" style=\"fill: none; stroke: #000000; stroke-width: 0.8; stroke-linejoin: miter; stroke-linecap: square\"/>\n   </g>\n   <g id=\"patch_6\">\n    <path d=\"M 51.378125 7.2 \nL 246.678125 7.2 \n\" style=\"fill: none; stroke: #000000; stroke-width: 0.8; stroke-linejoin: miter; stroke-linecap: square\"/>\n   </g>\n  </g>\n </g>\n <defs>\n  <clipPath id=\"p48d5a109e9\">\n   <rect x=\"51.378125\" y=\"7.2\" width=\"195.3\" height=\"138.6\"/>\n  </clipPath>\n </defs>\n</svg>\n"
     },
     "metadata": {},
     "output_type": "display_data"
    }
   ],
   "source": [
    "train_and_pred(train_features, test_features, train_labels, test_data,\n",
    "               500, 1, 0, 100)"
   ],
   "metadata": {
    "collapsed": false
   }
  }
 ],
 "metadata": {
  "kernelspec": {
   "display_name": "Python 3",
   "language": "python",
   "name": "python3"
  },
  "language_info": {
   "codemirror_mode": {
    "name": "ipython",
    "version": 2
   },
   "file_extension": ".py",
   "mimetype": "text/x-python",
   "name": "python",
   "nbconvert_exporter": "python",
   "pygments_lexer": "ipython2",
   "version": "2.7.6"
  }
 },
 "nbformat": 4,
 "nbformat_minor": 0
}
