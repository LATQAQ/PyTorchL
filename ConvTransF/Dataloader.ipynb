{
 "cells": [
  {
   "cell_type": "code",
   "execution_count": 202,
   "metadata": {
    "ExecuteTime": {
     "end_time": "2023-05-08T08:50:09.334629600Z",
     "start_time": "2023-05-08T08:50:09.293629800Z"
    }
   },
   "outputs": [],
   "source": [
    "import torch\n",
    "import matplotlib.pyplot as plt\n",
    "import numpy as np"
   ]
  },
  {
   "cell_type": "code",
   "execution_count": 203,
   "outputs": [
    {
     "data": {
      "text/plain": "       0    1    2   3    4    5   6   7     8   9   10  11\n0      85  119   74  41   46   58   1   0  1031   1   1  55\n1     110  144   20  56   83   79   1   0  1025   0   5  61\n2     144  182   44  43  110   89   1   0  1018   0   4  73\n3     176  216   37  70  133  117   1   0  1011   0   7  74\n4     203  169   15  62  153   95   1   0  1010   1  11  77\n...   ...  ...  ...  ..  ...  ...  ..  ..   ...  ..  ..  ..\n3036   49   31   97   6   19   22   0   0  1016   1  14  73\n3037   84   32  140   8   19   32   0   0  1014   1  16  65\n3038   47   47   84   9   26   37   0   0  1009   1  18  70\n3039   55   59   88  10   32   43   1   0  1010   1  19  74\n3040  119  187  110   7   45   25   0   0  1015   1  17  50\n\n[3041 rows x 12 columns]",
      "text/html": "<div>\n<style scoped>\n    .dataframe tbody tr th:only-of-type {\n        vertical-align: middle;\n    }\n\n    .dataframe tbody tr th {\n        vertical-align: top;\n    }\n\n    .dataframe thead th {\n        text-align: right;\n    }\n</style>\n<table border=\"1\" class=\"dataframe\">\n  <thead>\n    <tr style=\"text-align: right;\">\n      <th></th>\n      <th>0</th>\n      <th>1</th>\n      <th>2</th>\n      <th>3</th>\n      <th>4</th>\n      <th>5</th>\n      <th>6</th>\n      <th>7</th>\n      <th>8</th>\n      <th>9</th>\n      <th>10</th>\n      <th>11</th>\n    </tr>\n  </thead>\n  <tbody>\n    <tr>\n      <th>0</th>\n      <td>85</td>\n      <td>119</td>\n      <td>74</td>\n      <td>41</td>\n      <td>46</td>\n      <td>58</td>\n      <td>1</td>\n      <td>0</td>\n      <td>1031</td>\n      <td>1</td>\n      <td>1</td>\n      <td>55</td>\n    </tr>\n    <tr>\n      <th>1</th>\n      <td>110</td>\n      <td>144</td>\n      <td>20</td>\n      <td>56</td>\n      <td>83</td>\n      <td>79</td>\n      <td>1</td>\n      <td>0</td>\n      <td>1025</td>\n      <td>0</td>\n      <td>5</td>\n      <td>61</td>\n    </tr>\n    <tr>\n      <th>2</th>\n      <td>144</td>\n      <td>182</td>\n      <td>44</td>\n      <td>43</td>\n      <td>110</td>\n      <td>89</td>\n      <td>1</td>\n      <td>0</td>\n      <td>1018</td>\n      <td>0</td>\n      <td>4</td>\n      <td>73</td>\n    </tr>\n    <tr>\n      <th>3</th>\n      <td>176</td>\n      <td>216</td>\n      <td>37</td>\n      <td>70</td>\n      <td>133</td>\n      <td>117</td>\n      <td>1</td>\n      <td>0</td>\n      <td>1011</td>\n      <td>0</td>\n      <td>7</td>\n      <td>74</td>\n    </tr>\n    <tr>\n      <th>4</th>\n      <td>203</td>\n      <td>169</td>\n      <td>15</td>\n      <td>62</td>\n      <td>153</td>\n      <td>95</td>\n      <td>1</td>\n      <td>0</td>\n      <td>1010</td>\n      <td>1</td>\n      <td>11</td>\n      <td>77</td>\n    </tr>\n    <tr>\n      <th>...</th>\n      <td>...</td>\n      <td>...</td>\n      <td>...</td>\n      <td>...</td>\n      <td>...</td>\n      <td>...</td>\n      <td>...</td>\n      <td>...</td>\n      <td>...</td>\n      <td>...</td>\n      <td>...</td>\n      <td>...</td>\n    </tr>\n    <tr>\n      <th>3036</th>\n      <td>49</td>\n      <td>31</td>\n      <td>97</td>\n      <td>6</td>\n      <td>19</td>\n      <td>22</td>\n      <td>0</td>\n      <td>0</td>\n      <td>1016</td>\n      <td>1</td>\n      <td>14</td>\n      <td>73</td>\n    </tr>\n    <tr>\n      <th>3037</th>\n      <td>84</td>\n      <td>32</td>\n      <td>140</td>\n      <td>8</td>\n      <td>19</td>\n      <td>32</td>\n      <td>0</td>\n      <td>0</td>\n      <td>1014</td>\n      <td>1</td>\n      <td>16</td>\n      <td>65</td>\n    </tr>\n    <tr>\n      <th>3038</th>\n      <td>47</td>\n      <td>47</td>\n      <td>84</td>\n      <td>9</td>\n      <td>26</td>\n      <td>37</td>\n      <td>0</td>\n      <td>0</td>\n      <td>1009</td>\n      <td>1</td>\n      <td>18</td>\n      <td>70</td>\n    </tr>\n    <tr>\n      <th>3039</th>\n      <td>55</td>\n      <td>59</td>\n      <td>88</td>\n      <td>10</td>\n      <td>32</td>\n      <td>43</td>\n      <td>1</td>\n      <td>0</td>\n      <td>1010</td>\n      <td>1</td>\n      <td>19</td>\n      <td>74</td>\n    </tr>\n    <tr>\n      <th>3040</th>\n      <td>119</td>\n      <td>187</td>\n      <td>110</td>\n      <td>7</td>\n      <td>45</td>\n      <td>25</td>\n      <td>0</td>\n      <td>0</td>\n      <td>1015</td>\n      <td>1</td>\n      <td>17</td>\n      <td>50</td>\n    </tr>\n  </tbody>\n</table>\n<p>3041 rows × 12 columns</p>\n</div>"
     },
     "execution_count": 203,
     "metadata": {},
     "output_type": "execute_result"
    }
   ],
   "source": [
    "import pandas as pd\n",
    "import numpy as np\n",
    "import matplotlib.pyplot as plt\n",
    "import seaborn as sns\n",
    "%matplotlib inline\n",
    "data = pd.read_excel('data_new.xlsx', sheet_name='1')\n",
    "data\n",
    "\n",
    "data_d = np.array([data.AQI, data.PM10, data.O3, data.SO2, data.PM2_5, data.NO2, data.CO, data.V13305, data.V10004_700,\n",
    "                   data.V11291_700, data.V12001_700, data.V13003_700]).T\n",
    "(data_d.astype('int64') * 10) // 10\n",
    "df = pd.DataFrame(data_d.astype('int64'))\n",
    "df_ = pd.DataFrame(data_d.astype('int64'))\n",
    "df = df.replace(-9223372036854775808, -10)\n",
    "df_ = df.replace(-9223372036854775808, -10)\n",
    "df\n",
    "data_0 = np.array(df[0][1:])\n",
    "data_1 = np.array(df[1][1:])"
   ],
   "metadata": {
    "collapsed": false,
    "ExecuteTime": {
     "end_time": "2023-05-08T08:50:09.812800900Z",
     "start_time": "2023-05-08T08:50:09.302637100Z"
    }
   }
  },
  {
   "cell_type": "code",
   "execution_count": 204,
   "metadata": {
    "ExecuteTime": {
     "end_time": "2023-05-08T08:50:09.841499400Z",
     "start_time": "2023-05-08T08:50:09.813802100Z"
    }
   },
   "outputs": [],
   "source": [
    "from torch.utils.data import Dataset"
   ]
  },
  {
   "cell_type": "code",
   "execution_count": 205,
   "outputs": [
    {
     "data": {
      "text/plain": "(torch.Size([4500, 120]), torch.Size([4500, 120]))"
     },
     "execution_count": 205,
     "metadata": {},
     "output_type": "execute_result"
    }
   ],
   "source": [
    "t0 = 96\n",
    "N = 4500\n",
    "x = torch.cat(N*[torch.arange(0,t0+24).type(torch.float).unsqueeze(0)])\n",
    "A1,A2,A3 = 60 * torch.rand(3,N)\n",
    "A4 = torch.max(A1,A2)\n",
    "fx = torch.cat([A1.unsqueeze(1)*torch.sin(np.pi*x[0,0:12]/6)+72 ,\n",
    "                        A2.unsqueeze(1)*torch.sin(np.pi*x[0,12:24]/6)+72 ,\n",
    "                        A3.unsqueeze(1)*torch.sin(np.pi*x[0,24:t0]/6)+72,\n",
    "                        A4.unsqueeze(1)*torch.sin(np.pi*x[0,t0:t0+24]/12)+72],1)\n",
    "\n",
    "fx.shape , x.shape"
   ],
   "metadata": {
    "collapsed": false,
    "ExecuteTime": {
     "end_time": "2023-05-08T08:50:09.900122300Z",
     "start_time": "2023-05-08T08:50:09.830497800Z"
    }
   }
  },
  {
   "cell_type": "code",
   "execution_count": 206,
   "outputs": [
    {
     "data": {
      "text/plain": "array([110, 144, 176, ...,  47,  55, 119], dtype=int64)"
     },
     "execution_count": 206,
     "metadata": {},
     "output_type": "execute_result"
    }
   ],
   "source": [
    "data_0 = np.array(df[0][1:])\n",
    "data_1 = np.array(df[1][1:])\n",
    "data_0"
   ],
   "metadata": {
    "collapsed": false,
    "ExecuteTime": {
     "end_time": "2023-05-08T08:50:09.903959200Z",
     "start_time": "2023-05-08T08:50:09.846502100Z"
    }
   }
  },
  {
   "cell_type": "code",
   "execution_count": 207,
   "outputs": [
    {
     "data": {
      "text/plain": "(torch.Size([152, 20]),\n tensor([[110, 144, 176,  ..., 187, 131, 145],\n         [134, 116, 132,  ..., 213,  72, 107],\n         [187, 202, 184,  ...,  31,  83, 101],\n         ...,\n         [142, 123, 103,  ...,  36,  48,  53],\n         [ 53,  57,  78,  ...,  72,  90,  96],\n         [ 85, 102, 160,  ...,  47,  55, 119]]))"
     },
     "execution_count": 207,
     "metadata": {},
     "output_type": "execute_result"
    }
   ],
   "source": [
    "x = torch.cat(torch.chunk(torch.tensor(data_0).unsqueeze(0),152,dim = 1),0)\n",
    "x.shape, x"
   ],
   "metadata": {
    "collapsed": false,
    "ExecuteTime": {
     "end_time": "2023-05-08T08:50:09.951898400Z",
     "start_time": "2023-05-08T08:50:09.873737400Z"
    }
   }
  },
  {
   "cell_type": "code",
   "execution_count": 208,
   "outputs": [
    {
     "data": {
      "text/plain": "array([144, 182, 216, ...,  47,  59, 187], dtype=int64)"
     },
     "execution_count": 208,
     "metadata": {},
     "output_type": "execute_result"
    }
   ],
   "source": [
    "data_1 = np.array(df[1][1:])\n",
    "data_1"
   ],
   "metadata": {
    "collapsed": false,
    "ExecuteTime": {
     "end_time": "2023-05-08T08:50:09.951898400Z",
     "start_time": "2023-05-08T08:50:09.876727600Z"
    }
   }
  },
  {
   "cell_type": "code",
   "execution_count": 209,
   "outputs": [
    {
     "data": {
      "text/plain": "(torch.Size([152, 20]),\n tensor([[144, 182, 216,  ..., 172, 165, 168],\n         [133, 135, 159,  ..., 185,  85, 115],\n         [161, 188, 189,  ...,  18,  68,  86],\n         ...,\n         [136, 123, 110,  ...,  30,  41,  47],\n         [ 38,  59, 105,  ...,  94,  77,  75],\n         [ 77, 153, 270,  ...,  47,  59, 187]]))"
     },
     "execution_count": 209,
     "metadata": {},
     "output_type": "execute_result"
    }
   ],
   "source": [
    "fx = torch.cat(torch.chunk(torch.tensor(data_1).unsqueeze(0),152,dim = 1),0)\n",
    "fx.shape , fx"
   ],
   "metadata": {
    "collapsed": false,
    "ExecuteTime": {
     "end_time": "2023-05-08T08:50:09.952889200Z",
     "start_time": "2023-05-08T08:50:09.892727100Z"
    }
   }
  },
  {
   "cell_type": "code",
   "execution_count": 210,
   "outputs": [
    {
     "data": {
      "text/plain": "torch.Size([3040, 1])"
     },
     "execution_count": 210,
     "metadata": {},
     "output_type": "execute_result"
    }
   ],
   "source": [
    "fx_ = torch.tensor(data_1).unsqueeze(0).T\n",
    "fx_.shape"
   ],
   "metadata": {
    "collapsed": false,
    "ExecuteTime": {
     "end_time": "2023-05-08T08:50:09.952889200Z",
     "start_time": "2023-05-08T08:50:09.906959800Z"
    }
   }
  },
  {
   "cell_type": "code",
   "execution_count": 211,
   "outputs": [
    {
     "data": {
      "text/plain": "torch.Size([3040, 1])"
     },
     "execution_count": 211,
     "metadata": {},
     "output_type": "execute_result"
    }
   ],
   "source": [
    "x_ = torch.tensor(data_0).unsqueeze(0).T\n",
    "x_.shape"
   ],
   "metadata": {
    "collapsed": false,
    "ExecuteTime": {
     "end_time": "2023-05-08T08:50:09.954888800Z",
     "start_time": "2023-05-08T08:50:09.935874100Z"
    }
   }
  },
  {
   "cell_type": "code",
   "execution_count": 212,
   "metadata": {
    "ExecuteTime": {
     "end_time": "2023-05-08T08:50:09.954888800Z",
     "start_time": "2023-05-08T08:50:09.937885300Z"
    }
   },
   "outputs": [],
   "source": [
    "import torch\n",
    "import matplotlib.pyplot as plt\n",
    "import numpy as np\n",
    "from torch.utils.data import Dataset\n",
    "\n",
    "\n",
    "class time_series_paper(Dataset):\n",
    "    \"\"\"synthetic time series dataset from section 5.1\"\"\"\n",
    "    \n",
    "    def __init__(self,t0=15,N=3040,transform=None):\n",
    "        \"\"\"\n",
    "        Args:\n",
    "            t0: previous t0 data points to predict from\n",
    "            N: number of data points\n",
    "            transform: any transformations to be applied to time series\n",
    "        \"\"\"\n",
    "        self.t0 = t0\n",
    "        self.N = N\n",
    "        self.transform = None\n",
    "        \n",
    "        # time points\n",
    "        self.x = torch.cat(torch.chunk(torch.tensor(data_0).unsqueeze(0),152,dim = 1),0)\n",
    "        self.x_ = torch.tensor(data_0).unsqueeze(0).T\n",
    "        # sinuisoidal signal\n",
    "        self.fx = torch.cat(torch.chunk(torch.tensor(data_1).unsqueeze(0),152,dim = 1),0)\n",
    "        self.fx_ = torch.tensor(data_1).unsqueeze(0).T\n",
    "\n",
    "\n",
    "        # add noise\n",
    "        self.fx = self.fx + torch.randn(self.fx.shape)\n",
    "        self.fx_ = self.fx_ + torch.randn(self.fx_.shape)\n",
    "\n",
    "        self.masks = self._generate_square_subsequent_mask(24+1)\n",
    "                \n",
    "        \n",
    "        # print out shapes to confirm desired output\n",
    "        print(\"x: {}*{}\".format(*list(self.x.shape)),\n",
    "              \"fx: {}*{}\".format(*list(self.fx.shape)))        \n",
    "        \n",
    "    def __len__(self):\n",
    "        return len(self.fx)\n",
    "    \n",
    "    def __getitem__(self,idx):\n",
    "        if torch.is_tensor(idx):\n",
    "            idx = idx.tolist()\n",
    "            \n",
    "        #sample = {\"x\":self.x[idx,0:self.t0],\n",
    "        #          \"x_next\":self.x[idx,self.t0:self.t0+24],\n",
    "        #          \"fx\": self.fx[idx,0:self.t0],\n",
    "        #          \"fx_next\":self.fx[idx,self.t0:self.t0+24],\n",
    "        #          \"attention_masks\":self.masks}\n",
    "        \n",
    "        sample = (self.x[idx,0:self.t0-1],\n",
    "                  self.x[idx,self.t0-1:self.t0+5],\n",
    "                  self.fx[idx,0:self.t0-1],\n",
    "                  self.fx[idx,self.t0-1:self.t0+5],\n",
    "                  self.masks)\n",
    "        \n",
    "        if self.transform:\n",
    "            sample=self.transform(sample)\n",
    "            \n",
    "        return sample\n",
    "    \n",
    "    def _generate_square_subsequent_mask(self,sz):\n",
    "        mask = (torch.triu(torch.ones(sz, sz)) == 1).transpose(0, 1)\n",
    "        mask = mask.float().masked_fill(mask == 0, float('-inf')).masked_fill(mask == 1, float(0.0))\n",
    "        return mask"
   ]
  },
  {
   "cell_type": "code",
   "execution_count": 213,
   "outputs": [
    {
     "name": "stdout",
     "output_type": "stream",
     "text": [
      "x: 152*20 fx: 152*20\n"
     ]
    }
   ],
   "source": [
    "dataset = time_series_paper()"
   ],
   "metadata": {
    "collapsed": false,
    "ExecuteTime": {
     "end_time": "2023-05-08T08:50:10.029947200Z",
     "start_time": "2023-05-08T08:50:09.952889200Z"
    }
   }
  },
  {
   "cell_type": "code",
   "execution_count": 201,
   "outputs": [
    {
     "data": {
      "text/plain": "(tensor([110, 144, 176, 203, 285, 168, 204, 240, 230, 227, 193, 129, 117, 163]),\n tensor([171, 169, 146, 187, 131, 145]),\n tensor([143.8531, 182.4085, 216.2757, 170.5230, 118.7912, 153.0598, 191.4170,\n         228.4999, 220.5994, 223.3092, 178.3172, 120.2691,  90.7977, 151.2144]),\n tensor([142.4526, 159.2988, 147.0150, 173.4330, 162.5722, 169.3876]),\n tensor([[0., -inf, -inf, -inf, -inf, -inf, -inf, -inf, -inf, -inf, -inf, -inf, -inf, -inf, -inf, -inf, -inf, -inf, -inf, -inf, -inf, -inf, -inf, -inf,\n          -inf],\n         [0., 0., -inf, -inf, -inf, -inf, -inf, -inf, -inf, -inf, -inf, -inf, -inf, -inf, -inf, -inf, -inf, -inf, -inf, -inf, -inf, -inf, -inf, -inf,\n          -inf],\n         [0., 0., 0., -inf, -inf, -inf, -inf, -inf, -inf, -inf, -inf, -inf, -inf, -inf, -inf, -inf, -inf, -inf, -inf, -inf, -inf, -inf, -inf, -inf,\n          -inf],\n         [0., 0., 0., 0., -inf, -inf, -inf, -inf, -inf, -inf, -inf, -inf, -inf, -inf, -inf, -inf, -inf, -inf, -inf, -inf, -inf, -inf, -inf, -inf,\n          -inf],\n         [0., 0., 0., 0., 0., -inf, -inf, -inf, -inf, -inf, -inf, -inf, -inf, -inf, -inf, -inf, -inf, -inf, -inf, -inf, -inf, -inf, -inf, -inf,\n          -inf],\n         [0., 0., 0., 0., 0., 0., -inf, -inf, -inf, -inf, -inf, -inf, -inf, -inf, -inf, -inf, -inf, -inf, -inf, -inf, -inf, -inf, -inf, -inf,\n          -inf],\n         [0., 0., 0., 0., 0., 0., 0., -inf, -inf, -inf, -inf, -inf, -inf, -inf, -inf, -inf, -inf, -inf, -inf, -inf, -inf, -inf, -inf, -inf,\n          -inf],\n         [0., 0., 0., 0., 0., 0., 0., 0., -inf, -inf, -inf, -inf, -inf, -inf, -inf, -inf, -inf, -inf, -inf, -inf, -inf, -inf, -inf, -inf,\n          -inf],\n         [0., 0., 0., 0., 0., 0., 0., 0., 0., -inf, -inf, -inf, -inf, -inf, -inf, -inf, -inf, -inf, -inf, -inf, -inf, -inf, -inf, -inf,\n          -inf],\n         [0., 0., 0., 0., 0., 0., 0., 0., 0., 0., -inf, -inf, -inf, -inf, -inf, -inf, -inf, -inf, -inf, -inf, -inf, -inf, -inf, -inf,\n          -inf],\n         [0., 0., 0., 0., 0., 0., 0., 0., 0., 0., 0., -inf, -inf, -inf, -inf, -inf, -inf, -inf, -inf, -inf, -inf, -inf, -inf, -inf,\n          -inf],\n         [0., 0., 0., 0., 0., 0., 0., 0., 0., 0., 0., 0., -inf, -inf, -inf, -inf, -inf, -inf, -inf, -inf, -inf, -inf, -inf, -inf,\n          -inf],\n         [0., 0., 0., 0., 0., 0., 0., 0., 0., 0., 0., 0., 0., -inf, -inf, -inf, -inf, -inf, -inf, -inf, -inf, -inf, -inf, -inf,\n          -inf],\n         [0., 0., 0., 0., 0., 0., 0., 0., 0., 0., 0., 0., 0., 0., -inf, -inf, -inf, -inf, -inf, -inf, -inf, -inf, -inf, -inf,\n          -inf],\n         [0., 0., 0., 0., 0., 0., 0., 0., 0., 0., 0., 0., 0., 0., 0., -inf, -inf, -inf, -inf, -inf, -inf, -inf, -inf, -inf,\n          -inf],\n         [0., 0., 0., 0., 0., 0., 0., 0., 0., 0., 0., 0., 0., 0., 0., 0., -inf, -inf, -inf, -inf, -inf, -inf, -inf, -inf,\n          -inf],\n         [0., 0., 0., 0., 0., 0., 0., 0., 0., 0., 0., 0., 0., 0., 0., 0., 0., -inf, -inf, -inf, -inf, -inf, -inf, -inf,\n          -inf],\n         [0., 0., 0., 0., 0., 0., 0., 0., 0., 0., 0., 0., 0., 0., 0., 0., 0., 0., -inf, -inf, -inf, -inf, -inf, -inf,\n          -inf],\n         [0., 0., 0., 0., 0., 0., 0., 0., 0., 0., 0., 0., 0., 0., 0., 0., 0., 0., 0., -inf, -inf, -inf, -inf, -inf,\n          -inf],\n         [0., 0., 0., 0., 0., 0., 0., 0., 0., 0., 0., 0., 0., 0., 0., 0., 0., 0., 0., 0., -inf, -inf, -inf, -inf,\n          -inf],\n         [0., 0., 0., 0., 0., 0., 0., 0., 0., 0., 0., 0., 0., 0., 0., 0., 0., 0., 0., 0., 0., -inf, -inf, -inf,\n          -inf],\n         [0., 0., 0., 0., 0., 0., 0., 0., 0., 0., 0., 0., 0., 0., 0., 0., 0., 0., 0., 0., 0., 0., -inf, -inf,\n          -inf],\n         [0., 0., 0., 0., 0., 0., 0., 0., 0., 0., 0., 0., 0., 0., 0., 0., 0., 0., 0., 0., 0., 0., 0., -inf,\n          -inf],\n         [0., 0., 0., 0., 0., 0., 0., 0., 0., 0., 0., 0., 0., 0., 0., 0., 0., 0., 0., 0., 0., 0., 0., 0.,\n          -inf],\n         [0., 0., 0., 0., 0., 0., 0., 0., 0., 0., 0., 0., 0., 0., 0., 0., 0., 0., 0., 0., 0., 0., 0., 0.,\n          0.]]))"
     },
     "execution_count": 201,
     "metadata": {},
     "output_type": "execute_result"
    }
   ],
   "source": [
    "dataset[0]"
   ],
   "metadata": {
    "collapsed": false,
    "ExecuteTime": {
     "end_time": "2023-05-08T08:49:51.467782Z",
     "start_time": "2023-05-08T08:49:51.454858100Z"
    }
   }
  },
  {
   "cell_type": "code",
   "execution_count": 459,
   "metadata": {},
   "outputs": [],
   "source": [
    "import torch\n",
    "import matplotlib.pyplot as plt\n",
    "import numpy as np\n",
    "from torch.utils.data import Dataset\n",
    "\n",
    "\n",
    "class time_series_decoder_paper(Dataset):\n",
    "    \"\"\"synthetic time series dataset from section 5.1\"\"\"\n",
    "    \n",
    "    def __init__(self,t0=96,N=4500,transform=None):\n",
    "        \"\"\"\n",
    "        Args:\n",
    "            t0: previous t0 data points to predict from\n",
    "            N: number of data points\n",
    "            transform: any transformations to be applied to time series\n",
    "        \"\"\"\n",
    "        self.t0 = t0\n",
    "        self.N = N\n",
    "        self.transform = None\n",
    "        \n",
    "        # time points\n",
    "        self.x = torch.cat(N*[torch.arange(0,t0+24).type(torch.float).unsqueeze(0)])\n",
    "\n",
    "        # sinuisoidal signal\n",
    "        A1,A2,A3 = 60 * torch.rand(3,N)\n",
    "        A4 = torch.max(A1,A2)        \n",
    "        self.fx = torch.cat([A1.unsqueeze(1)*torch.sin(np.pi*self.x[0,0:12]/6)+72 ,\n",
    "                        A2.unsqueeze(1)*torch.sin(np.pi*self.x[0,12:24]/6)+72 ,\n",
    "                        A3.unsqueeze(1)*torch.sin(np.pi*self.x[0,24:t0]/6)+72,\n",
    "                        A4.unsqueeze(1)*torch.sin(np.pi*self.x[0,t0:t0+24]/12)+72],1)\n",
    "        \n",
    "        # add noise\n",
    "        self.fx = self.fx + torch.randn(self.fx.shape)\n",
    "        \n",
    "        self.masks = self._generate_square_subsequent_mask(t0)\n",
    "                \n",
    "        \n",
    "        # print out shapes to confirm desired output\n",
    "        print(\"x: {}*{}\".format(*list(self.x.shape)),\n",
    "              \"fx: {}*{}\".format(*list(self.fx.shape)))        \n",
    "        \n",
    "    def __len__(self):\n",
    "        return len(self.fx)\n",
    "    \n",
    "    def __getitem__(self,idx):\n",
    "        if torch.is_tensor(idx):\n",
    "            idx = idx.tolist()\n",
    "            \n",
    "        \n",
    "        sample = (self.x[idx,:],\n",
    "                  self.fx[idx,:],\n",
    "                  self.masks)\n",
    "        \n",
    "        if self.transform:\n",
    "            sample=self.transform(sample)\n",
    "            \n",
    "        return sample\n",
    "    \n",
    "    def _generate_square_subsequent_mask(self,t0):\n",
    "        mask = torch.zeros(t0+24,t0+24)\n",
    "        for i in range(0,t0):\n",
    "            mask[i,t0:] = 1 \n",
    "        for i in range(t0,t0+24):\n",
    "            mask[i,i+1:] = 1\n",
    "        mask = mask.float().masked_fill(mask == 1, float('-inf'))#.masked_fill(mask == 1, float(0.0))\n",
    "        return mask"
   ]
  },
  {
   "cell_type": "code",
   "execution_count": 474,
   "metadata": {},
   "outputs": [
    {
     "name": "stdout",
     "output_type": "stream",
     "text": [
      "x: 100*120 fx: 100*120\n"
     ]
    }
   ],
   "source": [
    "d = time_series_decoder_paper(96,100)"
   ]
  },
  {
   "cell_type": "code",
   "execution_count": 380,
   "metadata": {},
   "outputs": [],
   "source": [
    "class time_series_missing_paper(Dataset):\n",
    "    \"\"\"synthetic time series dataset from section 5.1\"\"\"\n",
    "    \n",
    "    def __init__(self,t0=96,N=4500,missing_chunk=50,transform=None):\n",
    "        \"\"\"\n",
    "        Args:\n",
    "            t0: previous t0 data points to predict from\n",
    "            N: number of data points\n",
    "            transform: any transformations to be applied to time series\n",
    "        \"\"\"\n",
    "        self.t0 = t0\n",
    "        self.N = N\n",
    "        self.transform = None\n",
    "        \n",
    "        # time points\n",
    "        self.x = torch.cat(N*[torch.arange(0,t0+24).type(torch.float).unsqueeze(0)])\n",
    "\n",
    "        # sinuisoidal signal\n",
    "        A1,A2,A3 = 60 * torch.rand(3,N)\n",
    "        A4 = torch.max(A1,A2)        \n",
    "        self.fx = torch.cat([A1.unsqueeze(1)*torch.sin(np.pi*self.x[0,0:12]/6)+72 ,\n",
    "                        A2.unsqueeze(1)*torch.sin(np.pi*self.x[0,12:24]/6)+72 ,\n",
    "                        A3.unsqueeze(1)*torch.sin(np.pi*self.x[0,24:t0]/6)+72,\n",
    "                        A4.unsqueeze(1)*torch.sin(np.pi*self.x[0,t0:t0+24]/12)+72],1)\n",
    "        \n",
    "        # add noise\n",
    "        self.fx = self.fx + torch.randn(self.fx.shape)\n",
    "        \n",
    "\n",
    "        src_mask = torch.zeros(t0-1,t0-1)\n",
    "        \n",
    "        self.fx_missing = torch.zeros((N,t0+24-missing_chunk)) \n",
    "        self.x_missing = torch.zeros((N,t0+24-missing_chunk)) \n",
    "        \n",
    "        self.x_prior = torch.zeros((N,t0-1-missing_chunk))\n",
    "        self.x_post = torch.zeros((N,1+24))\n",
    "        self.fx_prior = torch.zeros((N,t0-1-missing_chunk))\n",
    "        self.fx_post = torch.zeros((N,1+24))\n",
    "        \n",
    "        for j in range(0,self.fx.shape[0]):\n",
    "            missing_idx = torch.randint(24,t0-1-missing_chunk,(1,)).item()\n",
    "            desired_idx = torch.LongTensor([i for i in np.arange(0,t0+24) if i not in np.arange(missing_idx,missing_idx+missing_chunk)])\n",
    "            \n",
    "            \n",
    "            self.fx_missing[j,:] = self.fx[j,desired_idx]\n",
    "            self.x_missing[j,:] = self.x[j,desired_idx]\n",
    "                        \n",
    "            idx1 = desired_idx[desired_idx < (t0-1)].squeeze()\n",
    "            idx2 = desired_idx[desired_idx >= (t0-1)].squeeze()\n",
    "\n",
    "            self.x_prior[j,:] = self.x[j,idx1]\n",
    "            self.x_post[j,:] = self.x[j,idx2]\n",
    "            self.fx_prior[j,:] = self.fx[j,idx1]\n",
    "            self.fx_post[j,:] = self.fx[j,idx2]\n",
    "        \n",
    "            \n",
    "        self.masks = self._generate_square_subsequent_mask(24+1)\n",
    "        \n",
    "                \n",
    "        \n",
    "        # print out shapes to confirm desired output\n",
    "        print(\"x: {}*{}\".format(*list(self.x.shape)),\n",
    "              \"fx: {}*{}\".format(*list(self.fx.shape)))        \n",
    "        \n",
    "    def __len__(self):\n",
    "        return len(self.fx)\n",
    "    \n",
    "    def __getitem__(self,idx):\n",
    "        if torch.is_tensor(idx):\n",
    "            idx = idx.tolist()\n",
    "            \n",
    "        #sample = {\"x\":self.x[idx,0:self.t0],\n",
    "        #          \"x_next\":self.x[idx,self.t0:self.t0+24],\n",
    "        #          \"fx\": self.fx[idx,0:self.t0],\n",
    "        #          \"fx_next\":self.fx[idx,self.t0:self.t0+24],\n",
    "        #          \"attention_masks\":self.masks}\n",
    "        \n",
    "        sample = (self.x_prior[idx],\n",
    "                  self.x_post[idx],\n",
    "                  self.fx_prior[idx],\n",
    "                  self.fx_post[idx],\n",
    "                  self.masks)\n",
    "        \n",
    "        if self.transform:\n",
    "            sample=self.transform(sample)\n",
    "            \n",
    "        return sample\n",
    "    \n",
    "    def _generate_square_subsequent_mask(self,sz):\n",
    "        mask = (torch.triu(torch.ones(sz, sz)) == 1).transpose(0, 1)\n",
    "        mask = mask.float().masked_fill(mask == 0, float('-inf')).masked_fill(mask == 1, float(0.0))\n",
    "        return mask"
   ]
  },
  {
   "cell_type": "code",
   "execution_count": 406,
   "metadata": {},
   "outputs": [],
   "source": [
    "t0 = 96\n",
    "N = 100"
   ]
  },
  {
   "cell_type": "markdown",
   "metadata": {},
   "source": [
    "# Missing Dataset"
   ]
  },
  {
   "cell_type": "code",
   "execution_count": 382,
   "metadata": {},
   "outputs": [
    {
     "name": "stdout",
     "output_type": "stream",
     "text": [
      "x: 4500*120 fx: 4500*120\n"
     ]
    }
   ],
   "source": [
    "dataset_missing = time_series_missing_paper()"
   ]
  },
  {
   "cell_type": "code",
   "execution_count": 388,
   "metadata": {},
   "outputs": [
    {
     "data": {
      "image/png": "[encoded data removed]",
      "text/plain": [
       "<Figure size 432x288 with 1 Axes>"
      ]
     },
     "metadata": {
      "needs_background": "light"
     },
     "output_type": "display_data"
    }
   ],
   "source": [
    "idx = torch.randint(0,N,(1,)).item()\n",
    "plt.plot(dataset_missing.x_missing[idx].numpy(),dataset_missing.fx_missing[idx].numpy(),'r*--')\n",
    "plt.show()"
   ]
  },
  {
   "cell_type": "markdown",
   "metadata": {},
   "source": [
    "# Regular dataset"
   ]
  },
  {
   "cell_type": "code",
   "execution_count": 216,
   "metadata": {},
   "outputs": [
    {
     "data": {
      "text/plain": [
       "tensor([ 70.5897,  71.3960,  74.2224,  72.7838,  73.0146,  73.4754,  71.6909,\n",
       "         71.5867,  69.3949,  69.7779,  69.7159,  71.5530,  72.4754,  84.1934,\n",
       "         94.2802,  97.8591,  94.3799,  88.1868,  71.4238,  58.6138,  49.9049,\n",
       "         46.5077,  48.8446,  59.6799,  71.7918,  97.0033, 114.5875, 121.6640,\n",
       "        115.5731,  96.6806,  71.4558,  47.1842,  26.2378,  22.8943,  28.7757,\n",
       "         46.8186,  72.5706,  97.6164, 115.9201, 122.0926, 117.1975,  96.7661,\n",
       "         72.4509,  48.7585,  29.9226,  22.0713,  28.6758,  45.4245,  70.9435,\n",
       "         96.5456, 113.8798, 122.3693, 115.9229,  96.7538,  70.6459,  45.6632,\n",
       "         29.7052,  24.0197,  26.9687,  45.9147,  72.1766,  95.9173, 114.9766,\n",
       "        119.2269, 114.9331,  98.0689,  72.2302,  48.4391,   0.0000,   0.0000,\n",
       "          0.0000,   0.0000,   0.0000,   0.0000,   0.0000,   0.0000,   0.0000,\n",
       "          0.0000,   0.0000,   0.0000,   0.0000,   0.0000,   0.0000,   0.0000,\n",
       "          0.0000,   0.0000,   0.0000,   0.0000,   0.0000,   0.0000,   0.0000,\n",
       "          0.0000,   0.0000,  22.9594,  27.6846,  48.8818,  70.4421,  78.9068,\n",
       "         86.8354,  89.6900,  94.2432,  96.3758,  98.8524,  96.1296,  93.6107,\n",
       "         90.6223,  85.0928,  78.5435,  73.2738,  63.9520,  57.0357,  55.6567,\n",
       "         47.5267,  48.5928,  45.1724,  46.0955,  49.6469,  52.0586,  59.5391,\n",
       "         65.7712])"
      ]
     },
     "execution_count": 216,
     "metadata": {},
     "output_type": "execute_result"
    }
   ],
   "source": [
    "dataset_missing.fx[99]"
   ]
  },
  {
   "cell_type": "code",
   "execution_count": 5,
   "metadata": {},
   "outputs": [
    {
     "name": "stdout",
     "output_type": "stream",
     "text": [
      "x: 100*120 fx: 100*120\n"
     ]
    }
   ],
   "source": [
    "dataset = time_series_paper(t0,N)"
   ]
  },
  {
   "cell_type": "code",
   "execution_count": 6,
   "metadata": {},
   "outputs": [
    {
     "data": {
      "text/plain": [
       "tensor([[-inf, -inf, -inf, -inf, -inf, -inf, -inf, -inf, -inf, -inf, -inf, -inf, -inf, -inf, -inf, -inf, -inf, -inf, -inf, -inf, -inf, -inf, -inf, -inf],\n",
       "        [0., -inf, -inf, -inf, -inf, -inf, -inf, -inf, -inf, -inf, -inf, -inf, -inf, -inf, -inf, -inf, -inf, -inf, -inf, -inf, -inf, -inf, -inf, -inf],\n",
       "        [0., 0., -inf, -inf, -inf, -inf, -inf, -inf, -inf, -inf, -inf, -inf, -inf, -inf, -inf, -inf, -inf, -inf, -inf, -inf, -inf, -inf, -inf, -inf],\n",
       "        [0., 0., 0., -inf, -inf, -inf, -inf, -inf, -inf, -inf, -inf, -inf, -inf, -inf, -inf, -inf, -inf, -inf, -inf, -inf, -inf, -inf, -inf, -inf],\n",
       "        [0., 0., 0., 0., -inf, -inf, -inf, -inf, -inf, -inf, -inf, -inf, -inf, -inf, -inf, -inf, -inf, -inf, -inf, -inf, -inf, -inf, -inf, -inf],\n",
       "        [0., 0., 0., 0., 0., -inf, -inf, -inf, -inf, -inf, -inf, -inf, -inf, -inf, -inf, -inf, -inf, -inf, -inf, -inf, -inf, -inf, -inf, -inf],\n",
       "        [0., 0., 0., 0., 0., 0., -inf, -inf, -inf, -inf, -inf, -inf, -inf, -inf, -inf, -inf, -inf, -inf, -inf, -inf, -inf, -inf, -inf, -inf],\n",
       "        [0., 0., 0., 0., 0., 0., 0., -inf, -inf, -inf, -inf, -inf, -inf, -inf, -inf, -inf, -inf, -inf, -inf, -inf, -inf, -inf, -inf, -inf],\n",
       "        [0., 0., 0., 0., 0., 0., 0., 0., -inf, -inf, -inf, -inf, -inf, -inf, -inf, -inf, -inf, -inf, -inf, -inf, -inf, -inf, -inf, -inf],\n",
       "        [0., 0., 0., 0., 0., 0., 0., 0., 0., -inf, -inf, -inf, -inf, -inf, -inf, -inf, -inf, -inf, -inf, -inf, -inf, -inf, -inf, -inf],\n",
       "        [0., 0., 0., 0., 0., 0., 0., 0., 0., 0., -inf, -inf, -inf, -inf, -inf, -inf, -inf, -inf, -inf, -inf, -inf, -inf, -inf, -inf],\n",
       "        [0., 0., 0., 0., 0., 0., 0., 0., 0., 0., 0., -inf, -inf, -inf, -inf, -inf, -inf, -inf, -inf, -inf, -inf, -inf, -inf, -inf],\n",
       "        [0., 0., 0., 0., 0., 0., 0., 0., 0., 0., 0., 0., -inf, -inf, -inf, -inf, -inf, -inf, -inf, -inf, -inf, -inf, -inf, -inf],\n",
       "        [0., 0., 0., 0., 0., 0., 0., 0., 0., 0., 0., 0., 0., -inf, -inf, -inf, -inf, -inf, -inf, -inf, -inf, -inf, -inf, -inf],\n",
       "        [0., 0., 0., 0., 0., 0., 0., 0., 0., 0., 0., 0., 0., 0., -inf, -inf, -inf, -inf, -inf, -inf, -inf, -inf, -inf, -inf],\n",
       "        [0., 0., 0., 0., 0., 0., 0., 0., 0., 0., 0., 0., 0., 0., 0., -inf, -inf, -inf, -inf, -inf, -inf, -inf, -inf, -inf],\n",
       "        [0., 0., 0., 0., 0., 0., 0., 0., 0., 0., 0., 0., 0., 0., 0., 0., -inf, -inf, -inf, -inf, -inf, -inf, -inf, -inf],\n",
       "        [0., 0., 0., 0., 0., 0., 0., 0., 0., 0., 0., 0., 0., 0., 0., 0., 0., -inf, -inf, -inf, -inf, -inf, -inf, -inf],\n",
       "        [0., 0., 0., 0., 0., 0., 0., 0., 0., 0., 0., 0., 0., 0., 0., 0., 0., 0., -inf, -inf, -inf, -inf, -inf, -inf],\n",
       "        [0., 0., 0., 0., 0., 0., 0., 0., 0., 0., 0., 0., 0., 0., 0., 0., 0., 0., 0., -inf, -inf, -inf, -inf, -inf],\n",
       "        [0., 0., 0., 0., 0., 0., 0., 0., 0., 0., 0., 0., 0., 0., 0., 0., 0., 0., 0., 0., -inf, -inf, -inf, -inf],\n",
       "        [0., 0., 0., 0., 0., 0., 0., 0., 0., 0., 0., 0., 0., 0., 0., 0., 0., 0., 0., 0., 0., -inf, -inf, -inf],\n",
       "        [0., 0., 0., 0., 0., 0., 0., 0., 0., 0., 0., 0., 0., 0., 0., 0., 0., 0., 0., 0., 0., 0., -inf, -inf],\n",
       "        [0., 0., 0., 0., 0., 0., 0., 0., 0., 0., 0., 0., 0., 0., 0., 0., 0., 0., 0., 0., 0., 0., 0., -inf]])"
      ]
     },
     "execution_count": 6,
     "metadata": {},
     "output_type": "execute_result"
    }
   ],
   "source": [
    "dataset.masks"
   ]
  },
  {
   "cell_type": "code",
   "execution_count": 7,
   "metadata": {},
   "outputs": [
    {
     "data": {
      "text/plain": [
       "tensor([[ 72.0000,  98.3769, 117.6861,  ...,  34.6975,  45.6231,  58.3464],\n",
       "        [ 72.0000,  82.8903,  90.8626,  ...,  36.7838,  47.0984,  59.1101],\n",
       "        [ 72.0000,  81.8153,  89.0006,  ...,  33.1989,  44.5635,  57.7979],\n",
       "        ...,\n",
       "        [ 72.0000,  73.8335,  75.1756,  ...,  45.5544,  53.3001,  62.3203],\n",
       "        [ 72.0000,  86.0004,  96.2494,  ...,  45.4442,  53.2222,  62.2799],\n",
       "        [ 72.0000,  84.5199,  93.6852,  ...,  54.2942,  59.4801,  65.5192]])"
      ]
     },
     "execution_count": 7,
     "metadata": {},
     "output_type": "execute_result"
    }
   ],
   "source": [
    "dataset.fx"
   ]
  },
  {
   "cell_type": "code",
   "execution_count": 8,
   "metadata": {},
   "outputs": [
    {
     "data": {
      "text/plain": [
       "tensor([[  0.,   1.,   2.,  ..., 117., 118., 119.],\n",
       "        [  0.,   1.,   2.,  ..., 117., 118., 119.],\n",
       "        [  0.,   1.,   2.,  ..., 117., 118., 119.],\n",
       "        ...,\n",
       "        [  0.,   1.,   2.,  ..., 117., 118., 119.],\n",
       "        [  0.,   1.,   2.,  ..., 117., 118., 119.],\n",
       "        [  0.,   1.,   2.,  ..., 117., 118., 119.]])"
      ]
     },
     "execution_count": 8,
     "metadata": {},
     "output_type": "execute_result"
    }
   ],
   "source": [
    "dataset.x"
   ]
  },
  {
   "cell_type": "code",
   "execution_count": 9,
   "metadata": {},
   "outputs": [
    {
     "data": {
      "text/plain": [
       "{'x': tensor([ 0.,  1.,  2.,  3.,  4.,  5.,  6.,  7.,  8.,  9., 10., 11., 12., 13.,\n",
       "         14., 15., 16., 17., 18., 19., 20., 21., 22., 23., 24., 25., 26., 27.,\n",
       "         28., 29., 30., 31., 32., 33., 34., 35., 36., 37., 38., 39., 40., 41.,\n",
       "         42., 43., 44., 45., 46., 47., 48., 49., 50., 51., 52., 53., 54., 55.,\n",
       "         56., 57., 58., 59., 60., 61., 62., 63., 64., 65., 66., 67., 68., 69.,\n",
       "         70., 71., 72., 73., 74., 75., 76., 77., 78., 79., 80., 81., 82., 83.,\n",
       "         84., 85., 86., 87., 88., 89., 90., 91., 92., 93., 94., 95.]),\n",
       " 'x_next': tensor([ 96.,  97.,  98.,  99., 100., 101., 102., 103., 104., 105., 106., 107.,\n",
       "         108., 109., 110., 111., 112., 113., 114., 115., 116., 117., 118., 119.]),\n",
       " 'fx': tensor([ 72.0000,  98.3769, 117.6861, 124.7538, 117.6861,  98.3769,  72.0000,\n",
       "          45.6231,  26.3139,  19.2462,  26.3139,  45.6231,  72.0000,  78.8723,\n",
       "          83.9031,  85.7445,  83.9031,  78.8723,  72.0000,  65.1277,  60.0969,\n",
       "          58.2555,  60.0969,  65.1277,  72.0000,  75.3169,  77.7450,  78.6338,\n",
       "          77.7450,  75.3169,  72.0000,  68.6831,  66.2550,  65.3662,  66.2550,\n",
       "          68.6831,  72.0000,  75.3169,  77.7450,  78.6338,  77.7450,  75.3169,\n",
       "          72.0000,  68.6831,  66.2550,  65.3662,  66.2550,  68.6831,  72.0000,\n",
       "          75.3169,  77.7450,  78.6338,  77.7450,  75.3169,  72.0000,  68.6831,\n",
       "          66.2550,  65.3662,  66.2550,  68.6831,  72.0000,  75.3169,  77.7450,\n",
       "          78.6338,  77.7450,  75.3169,  72.0000,  68.6831,  66.2550,  65.3662,\n",
       "          66.2550,  68.6831,  72.0000,  75.3169,  77.7450,  78.6338,  77.7450,\n",
       "          75.3169,  72.0000,  68.6831,  66.2550,  65.3662,  66.2550,  68.6831,\n",
       "          72.0000,  75.3169,  77.7450,  78.6338,  77.7450,  75.3169,  72.0000,\n",
       "          68.6831,  66.2550,  65.3662,  66.2550,  68.6831]),\n",
       " 'fx_next': tensor([ 72.0000,  85.6537,  98.3770, 109.3025, 117.6861, 122.9563, 124.7538,\n",
       "         122.9562, 117.6861, 109.3025,  98.3769,  85.6537,  71.9999,  58.3463,\n",
       "          45.6231,  34.6974,  26.3138,  21.0438,  19.2462,  21.0438,  26.3139,\n",
       "          34.6975,  45.6231,  58.3464]),\n",
       " 'attention_masks': tensor([[-inf, -inf, -inf, -inf, -inf, -inf, -inf, -inf, -inf, -inf, -inf, -inf, -inf, -inf, -inf, -inf, -inf, -inf, -inf, -inf, -inf, -inf, -inf, -inf],\n",
       "         [0., -inf, -inf, -inf, -inf, -inf, -inf, -inf, -inf, -inf, -inf, -inf, -inf, -inf, -inf, -inf, -inf, -inf, -inf, -inf, -inf, -inf, -inf, -inf],\n",
       "         [0., 0., -inf, -inf, -inf, -inf, -inf, -inf, -inf, -inf, -inf, -inf, -inf, -inf, -inf, -inf, -inf, -inf, -inf, -inf, -inf, -inf, -inf, -inf],\n",
       "         [0., 0., 0., -inf, -inf, -inf, -inf, -inf, -inf, -inf, -inf, -inf, -inf, -inf, -inf, -inf, -inf, -inf, -inf, -inf, -inf, -inf, -inf, -inf],\n",
       "         [0., 0., 0., 0., -inf, -inf, -inf, -inf, -inf, -inf, -inf, -inf, -inf, -inf, -inf, -inf, -inf, -inf, -inf, -inf, -inf, -inf, -inf, -inf],\n",
       "         [0., 0., 0., 0., 0., -inf, -inf, -inf, -inf, -inf, -inf, -inf, -inf, -inf, -inf, -inf, -inf, -inf, -inf, -inf, -inf, -inf, -inf, -inf],\n",
       "         [0., 0., 0., 0., 0., 0., -inf, -inf, -inf, -inf, -inf, -inf, -inf, -inf, -inf, -inf, -inf, -inf, -inf, -inf, -inf, -inf, -inf, -inf],\n",
       "         [0., 0., 0., 0., 0., 0., 0., -inf, -inf, -inf, -inf, -inf, -inf, -inf, -inf, -inf, -inf, -inf, -inf, -inf, -inf, -inf, -inf, -inf],\n",
       "         [0., 0., 0., 0., 0., 0., 0., 0., -inf, -inf, -inf, -inf, -inf, -inf, -inf, -inf, -inf, -inf, -inf, -inf, -inf, -inf, -inf, -inf],\n",
       "         [0., 0., 0., 0., 0., 0., 0., 0., 0., -inf, -inf, -inf, -inf, -inf, -inf, -inf, -inf, -inf, -inf, -inf, -inf, -inf, -inf, -inf],\n",
       "         [0., 0., 0., 0., 0., 0., 0., 0., 0., 0., -inf, -inf, -inf, -inf, -inf, -inf, -inf, -inf, -inf, -inf, -inf, -inf, -inf, -inf],\n",
       "         [0., 0., 0., 0., 0., 0., 0., 0., 0., 0., 0., -inf, -inf, -inf, -inf, -inf, -inf, -inf, -inf, -inf, -inf, -inf, -inf, -inf],\n",
       "         [0., 0., 0., 0., 0., 0., 0., 0., 0., 0., 0., 0., -inf, -inf, -inf, -inf, -inf, -inf, -inf, -inf, -inf, -inf, -inf, -inf],\n",
       "         [0., 0., 0., 0., 0., 0., 0., 0., 0., 0., 0., 0., 0., -inf, -inf, -inf, -inf, -inf, -inf, -inf, -inf, -inf, -inf, -inf],\n",
       "         [0., 0., 0., 0., 0., 0., 0., 0., 0., 0., 0., 0., 0., 0., -inf, -inf, -inf, -inf, -inf, -inf, -inf, -inf, -inf, -inf],\n",
       "         [0., 0., 0., 0., 0., 0., 0., 0., 0., 0., 0., 0., 0., 0., 0., -inf, -inf, -inf, -inf, -inf, -inf, -inf, -inf, -inf],\n",
       "         [0., 0., 0., 0., 0., 0., 0., 0., 0., 0., 0., 0., 0., 0., 0., 0., -inf, -inf, -inf, -inf, -inf, -inf, -inf, -inf],\n",
       "         [0., 0., 0., 0., 0., 0., 0., 0., 0., 0., 0., 0., 0., 0., 0., 0., 0., -inf, -inf, -inf, -inf, -inf, -inf, -inf],\n",
       "         [0., 0., 0., 0., 0., 0., 0., 0., 0., 0., 0., 0., 0., 0., 0., 0., 0., 0., -inf, -inf, -inf, -inf, -inf, -inf],\n",
       "         [0., 0., 0., 0., 0., 0., 0., 0., 0., 0., 0., 0., 0., 0., 0., 0., 0., 0., 0., -inf, -inf, -inf, -inf, -inf],\n",
       "         [0., 0., 0., 0., 0., 0., 0., 0., 0., 0., 0., 0., 0., 0., 0., 0., 0., 0., 0., 0., -inf, -inf, -inf, -inf],\n",
       "         [0., 0., 0., 0., 0., 0., 0., 0., 0., 0., 0., 0., 0., 0., 0., 0., 0., 0., 0., 0., 0., -inf, -inf, -inf],\n",
       "         [0., 0., 0., 0., 0., 0., 0., 0., 0., 0., 0., 0., 0., 0., 0., 0., 0., 0., 0., 0., 0., 0., -inf, -inf],\n",
       "         [0., 0., 0., 0., 0., 0., 0., 0., 0., 0., 0., 0., 0., 0., 0., 0., 0., 0., 0., 0., 0., 0., 0., -inf]])}"
      ]
     },
     "execution_count": 9,
     "metadata": {},
     "output_type": "execute_result"
    }
   ],
   "source": [
    "dataset[0]"
   ]
  },
  {
   "cell_type": "code",
   "execution_count": 18,
   "metadata": {},
   "outputs": [],
   "source": [
    "encoded_dict =  dataset[0:1]"
   ]
  },
  {
   "cell_type": "code",
   "execution_count": 19,
   "metadata": {},
   "outputs": [
    {
     "name": "stdout",
     "output_type": "stream",
     "text": [
      "x:  torch.Size([1, 96])\n",
      "x_next:  torch.Size([1, 24])\n",
      "fx:  torch.Size([1, 96])\n",
      "fx_next:  torch.Size([1, 24])\n",
      "attention_masks:  torch.Size([24, 24])\n"
     ]
    }
   ],
   "source": [
    "for key,value in encoded_dict.items():\n",
    "    print(\"{}: \".format(key),value.shape)"
   ]
  },
  {
   "cell_type": "code",
   "execution_count": 12,
   "metadata": {},
   "outputs": [
    {
     "data": {
      "image/png": "[encoded data removed]",
      "text/plain": [
       "<Figure size 432x288 with 1 Axes>"
      ]
     },
     "metadata": {
      "needs_background": "light"
     },
     "output_type": "display_data"
    }
   ],
   "source": [
    "plt.plot(dataset.x[1].numpy(),dataset.fx[1].numpy())\n",
    "plt.plot(dataset.x[2].numpy(),dataset.fx[2].numpy())\n",
    "plt.show()"
   ]
  }
 ],
 "metadata": {
  "kernelspec": {
   "display_name": "Python 3",
   "language": "python",
   "name": "python3"
  },
  "language_info": {
   "codemirror_mode": {
    "name": "ipython",
    "version": 3
   },
   "file_extension": ".py",
   "mimetype": "text/x-python",
   "name": "python",
   "nbconvert_exporter": "python",
   "pygments_lexer": "ipython3",
   "version": "3.7.3"
  }
 },
 "nbformat": 4,
 "nbformat_minor": 4
}
